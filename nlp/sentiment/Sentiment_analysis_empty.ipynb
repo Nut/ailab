{
  "nbformat": 4,
  "nbformat_minor": 0,
  "metadata": {
    "kernelspec": {
      "name": "python3",
      "display_name": "Python 3"
    },
    "language_info": {
      "codemirror_mode": {
        "name": "ipython",
        "version": 3
      },
      "file_extension": ".py",
      "mimetype": "text/x-python",
      "name": "python",
      "nbconvert_exporter": "python",
      "pygments_lexer": "ipython3",
      "version": "3.7.3"
    },
    "colab": {
      "name": "Sentiment_analysis_empty.ipynb",
      "provenance": [],
      "collapsed_sections": [],
      "toc_visible": true
    },
    "accelerator": "GPU"
  },
  "cells": [
    {
      "cell_type": "markdown",
      "metadata": {
        "id": "ErLnBoyxg4B8",
        "colab_type": "text"
      },
      "source": [
        "# Sentiment Analysis\n",
        "In diesem Teil möchten wir uns mit Sentiment Analysis beschäftigen. Vereinfacht gesagt beschäftigt sich Sentiment Analysis damit, natürlichsprachliche Aussagen dahingehend zu bewerten, ob die subjektive Aussage des Sprechers positiv oder negativ wertend gemeint ist.\n",
        "\n",
        "Zu diesem Zweck haben wir den Datensatz von Sentiment140, einem Projekt der Stanford University, ausgewählt. Er beinhaltet 16 Millionen Tweets, die aufgrund der enthaltenen Emoticons automatisch in positiv und negativ eingeteilt wurden.\n",
        "\n",
        "Der Datensatz liegt als csv-Datei vor. Zunächst möchten wir uns die darin enthaltene Daten etwas genauer ansehen.\n",
        "\n",
        "## 1. Aufgabe\n",
        "\n",
        "1. Ladet euch den Datensatz von http://help.sentiment140.com/for-students\n",
        "2. Lest den Datensatz in eine Liste ein, benutzt dazu den csv-reader: https://docs.python.org/3/library/csv.html. Da wir uns nur für die Felder `polarity` und `text` interessieren, sollte die Liste mit den Daten folgendes Format haben : `[(polarity, text),...]`. Positive Tweets haben eine polarity von '4', negative von '0'. Wandelt beim Einlesen diese Werte gleich um in 1 (positiv) und 0 (negativ)."
      ]
    },
    {
      "cell_type": "code",
      "metadata": {
        "id": "Kpef9H_Fg4CB",
        "colab_type": "code",
        "outputId": "cd157da7-336b-49a0-dbe6-9675e08c7ad0",
        "colab": {
          "base_uri": "https://localhost:8080/",
          "height": 34
        }
      },
      "source": [
        "import csv\n",
        "from google.colab import drive\n",
        "\n",
        "drive.mount('/data')\n",
        "\n",
        "data = []\n",
        "\n",
        "with open('/data/My Drive/Colab Notebooks/data/training.1600000.processed.noemoticon.csv', 'r', encoding='iso-8859-1') as f:\n",
        "  csv_reader = csv.reader(f, delimiter=',', quotechar='\"')\n",
        "  for row in csv_reader:\n",
        "    if row[0] == '4':\n",
        "      data.append((1, row[5]))\n",
        "    if row[0] == '0':\n",
        "      data.append((0, row[5])) \n",
        "\n",
        "#with open('../training.1600000.processed.noemoticon.csv', 'r', encoding='iso-8859-1') as f:\n",
        "    # TODO"
      ],
      "execution_count": 1,
      "outputs": [
        {
          "output_type": "stream",
          "text": [
            "Drive already mounted at /data; to attempt to forcibly remount, call drive.mount(\"/data\", force_remount=True).\n"
          ],
          "name": "stdout"
        }
      ]
    },
    {
      "cell_type": "code",
      "metadata": {
        "id": "1R1nZFD4kLTM",
        "colab_type": "code",
        "outputId": "e2703d9d-6bac-40d7-e190-3b5d9a4b46a9",
        "colab": {
          "base_uri": "https://localhost:8080/",
          "height": 72
        }
      },
      "source": [
        "print(len(data))\n",
        "print(data[0:5])"
      ],
      "execution_count": 2,
      "outputs": [
        {
          "output_type": "stream",
          "text": [
            "1600000\n",
            "[(0, \"@switchfoot http://twitpic.com/2y1zl - Awww, that's a bummer.  You shoulda got David Carr of Third Day to do it. ;D\"), (0, \"is upset that he can't update his Facebook by texting it... and might cry as a result  School today also. Blah!\"), (0, '@Kenichan I dived many times for the ball. Managed to save 50%  The rest go out of bounds'), (0, 'my whole body feels itchy and like its on fire '), (0, \"@nationwideclass no, it's not behaving at all. i'm mad. why am i here? because I can't see you all over there. \")]\n"
          ],
          "name": "stdout"
        }
      ]
    },
    {
      "cell_type": "code",
      "metadata": {
        "id": "3FlkX0VbliFP",
        "colab_type": "code",
        "colab": {}
      },
      "source": [
        ""
      ],
      "execution_count": 0,
      "outputs": []
    },
    {
      "cell_type": "markdown",
      "metadata": {
        "id": "c4_LyxjEg4CK",
        "colab_type": "text"
      },
      "source": [
        "3. Um einen Einblick in die Daten zu bekommen und um später ein Modell zur Sentiment Analyse trainieren zu können, sollen die Daten zunächst etwas aufbereitet werden. Da die sinntragenden Elemente in den Tweets die Wörter sind, sollten Sie die Tweets in Wörter aufteilen. Um genau zu sein, ist der Term 'Wörter' hier aus linguistischer Sicht etwas falsch, man spricht eigentlich von Tokens. Daher nennt man das Aufteilen von Text auch Tokenizing und die Funktion, die sowas kann, Tokenizer.\n",
        "Der allereinfachste Tokenizer ist vermutlich die `split` Methode. Tokenisiert damit die eingelesen Tweets. Am Ende solltet ihr eine Liste `tokenized = [(polarity, [token_1,token_2, ...])]` erhalten."
      ]
    },
    {
      "cell_type": "code",
      "metadata": {
        "id": "KVNnGx3Xg4CM",
        "colab_type": "code",
        "colab": {}
      },
      "source": [
        "tokenized = [(sample[0], sample[1].split()) for sample in data]\n"
      ],
      "execution_count": 0,
      "outputs": []
    },
    {
      "cell_type": "markdown",
      "metadata": {
        "id": "qMoMMVgKg4CT",
        "colab_type": "text"
      },
      "source": [
        "4. Abgesehen von natürlichsprachlichen Wörtern sind in Tweets mindestens auch Hashtags, Mentions und Links enthalten. Überlegt euch, ob es Sinn ergibt, alle diese Bestandteile in den Daten in dieser From zu behalten. Begründet kurz Ihre Entscheidungen.\n",
        "Falls ihr euch entschlossen habt, nicht alle diese Bestandteile zu behalten, filtert dementsprechend eure Daten. Die Struktur Ihrer Daten sollte am Ende gleich bleiben: `cleaned = [(polarity, [token_1,...])]`"
      ]
    },
    {
      "cell_type": "code",
      "metadata": {
        "id": "E6ox4OBXuMyY",
        "colab_type": "code",
        "colab": {}
      },
      "source": [
        "import re"
      ],
      "execution_count": 0,
      "outputs": []
    },
    {
      "cell_type": "code",
      "metadata": {
        "id": "G2GZFDz0g4CU",
        "colab_type": "code",
        "colab": {}
      },
      "source": [
        "stop_words = ['.', '!', '?', ',', '-', ';', ':', '', 'i\\'m', 'im', 'can\\'t', 'u', '&amp', 'that\\'s', 'it\\'s', 'don\\'t', 'ourselves', 'hers', 'between', 'yourself', 'but', 'again', 'there', 'about', 'once', 'during', 'out', 'very', 'having', 'with', 'they', 'own', 'an', 'be', 'some', 'for', 'do', 'its', 'yours', 'such', 'into', 'of', 'most', 'itself', 'other', 'off', 'is', 's', 'am', 'or', 'who', 'as', 'from', 'him', 'each', 'the', 'themselves', 'until', 'below', 'are', 'we', 'these', 'your', 'his', 'through', 'don', 'nor', 'me', 'were', 'her', 'more', 'himself', 'this', 'down', 'should', 'our', 'their', 'while', 'above', 'both', 'up', 'to', 'ours', 'had', 'she', 'all', 'no', 'when', 'at', 'any', 'before', 'them', 'same', 'and', 'been', 'have', 'in', 'will', 'on', 'does', 'yourselves', 'then', 'that', 'because', 'what', 'over', 'why', 'so', 'can', 'did', 'not', 'now', 'under', 'he', 'you', 'herself', 'has', 'just', 'where', 'too', 'only', 'myself', 'which', 'those', 'i', 'after', 'few', 'whom', 't', 'being', 'if', 'theirs', 'my', 'against', 'a', 'by', 'doing', 'it', 'how', 'further', 'was', 'here', 'than']\n",
        "cleaned = [] # TODO\n",
        "for sample in tokenized:\n",
        "  tokens = []\n",
        "  cleaned_sample = (sample[0], tokens)\n",
        "  for token in sample[1]:\n",
        "    if not re.search(r\"(\\@.*)|(#.*)|(https?://(?:[-\\w.]|(?:%[\\da-fA-F]{2}))+)\", token):\n",
        "      for x in ['.', '!', '?', ',', ';', ':']:\n",
        "        token = token.replace(x, '')\n",
        "      if token.lower() not in stop_words:\n",
        "        tokens.append(token)\n",
        "  cleaned.append(cleaned_sample)"
      ],
      "execution_count": 0,
      "outputs": []
    },
    {
      "cell_type": "code",
      "metadata": {
        "id": "y_VR_9qfvCxs",
        "colab_type": "code",
        "colab": {
          "base_uri": "https://localhost:8080/",
          "height": 486
        },
        "outputId": "9f0173b8-de09-4c52-fd04-c9e8ee14182b"
      },
      "source": [
        "cleaned[0:5]"
      ],
      "execution_count": 45,
      "outputs": [
        {
          "output_type": "execute_result",
          "data": {
            "text/plain": [
              "[(0,\n",
              "  ['Awww', 'bummer', 'shoulda', 'got', 'David', 'Carr', 'Third', 'Day', 'D']),\n",
              " (0,\n",
              "  ['upset',\n",
              "   'update',\n",
              "   'Facebook',\n",
              "   'texting',\n",
              "   'might',\n",
              "   'cry',\n",
              "   'result',\n",
              "   'School',\n",
              "   'today',\n",
              "   'also',\n",
              "   'Blah']),\n",
              " (0,\n",
              "  ['dived',\n",
              "   'many',\n",
              "   'times',\n",
              "   'ball',\n",
              "   'Managed',\n",
              "   'save',\n",
              "   '50%',\n",
              "   'rest',\n",
              "   'go',\n",
              "   'bounds']),\n",
              " (0, ['whole', 'body', 'feels', 'itchy', 'like', 'fire']),\n",
              " (0, ['behaving', 'mad', 'see'])]"
            ]
          },
          "metadata": {
            "tags": []
          },
          "execution_count": 45
        }
      ]
    },
    {
      "cell_type": "markdown",
      "metadata": {
        "id": "qTQGYrpxg4Ca",
        "colab_type": "text"
      },
      "source": [
        "re5. Zählt die Tokens in Ihrem Datensatz. Benutzt dafür ein Dictionary. Gebt die 100 häufigsten Wörter sortiert aus. Was stellt ihr fest? Was müsst ihr zusätzlich noch filtern?"
      ]
    },
    {
      "cell_type": "code",
      "metadata": {
        "id": "_bQIxd_Fg4Cb",
        "colab_type": "code",
        "colab": {
          "base_uri": "https://localhost:8080/",
          "height": 54
        },
        "outputId": "8fa538e7-fdd4-4bfd-81cc-9053a3beed34"
      },
      "source": [
        "import operator\n",
        "word_count = dict()\n",
        "\n",
        "for sample in cleaned:\n",
        "  for word in sample[1]:\n",
        "    if word in word_count:\n",
        "      word_count[word] += 1\n",
        "    else:\n",
        "      word_count[word] = 1\n",
        "\n",
        "max_counts = sorted(word_count.items(), key=lambda item: item[1], reverse=True)\n",
        "print(max_counts[0:100])"
      ],
      "execution_count": 46,
      "outputs": [
        {
          "output_type": "stream",
          "text": [
            "[('get', 77198), ('day', 75811), ('like', 75281), ('good', 70834), ('go', 68672), ('today', 60100), ('work', 59809), ('going', 54945), ('got', 54109), ('love', 52630), ('time', 51353), ('back', 50056), ('know', 49828), ('one', 48007), ('really', 44643), ('see', 43016), ('want', 40164), ('think', 39280), ('night', 37690), ('2', 37168), ('home', 36415), ('lol', 36368), ('new', 36063), ('still', 35989), ('much', 34963), ('miss', 33362), ('well', 32373), ('need', 32272), ('last', 31716), ('tomorrow', 30916), ('feel', 28417), ('great', 27527), ('morning', 26840), ('fun', 26170), ('sleep', 25653), ('sad', 25499), ('right', 25447), ('would', 25199), ('bad', 24743), ('hope', 24431), ('haha', 23455), ('tonight', 23444), ('make', 23420), ('wish', 23048), ('though', 22724), ('way', 22623), ('come', 22110), ('better', 21761), ('thanks', 21528), ('gonna', 21072), ('wait', 20762), ('twitter', 20736), ('bed', 20497), ('could', 20413), ('getting', 20371), ('week', 20235), ('oh', 20125), ('nice', 19603), ('people', 18633), (\"didn't\", 18578), (\"I'll\", 18403), ('sorry', 18313), ('school', 18084), ('days', 17972), ('happy', 17811), ('hate', 17643), ('weekend', 17174), ('Thanks', 17136), ('even', 17126), ('Good', 16944), ('next', 16915), ('watching', 16733), ('soon', 16644), ('dont', 16560), ('Oh', 16238), ('little', 15981), ('4', 15610), ('wanna', 15528), ('never', 15492), ('say', 15436), ('take', 15420), ('cant', 15391), (\"I've\", 15343), ('long', 15205), (\"you're\", 14877), ('watch', 14712), ('sick', 14677), ('3', 14586), ('awesome', 14575), ('show', 14479), ('first', 14462), ('working', 14374), ('tired', 14344), ('yeah', 14300), ('thing', 14181), ('best', 14037), ('sure', 13926), ('done', 13872), ('find', 13820), ('already', 13758)]\n"
          ],
          "name": "stdout"
        }
      ]
    },
    {
      "cell_type": "markdown",
      "metadata": {
        "id": "rejoXv6Fg4Ch",
        "colab_type": "text"
      },
      "source": [
        "## 2. Aufgabe\n",
        "\n",
        "Wie Eingangs erwähnt, beschäftigt sich Sentiment Analysis damit, eine Äußerung automatisch dahingehend zu klassifizieren,\n",
        "ob der Inhalt positiv oder negativ gemeint ist.\n",
        "Im Machine-Learning-Jargon gesprochen hat man es also mit einer binären Klassifikation zu tun. Wir möchten im folgenden Teil ein neuronales Netz trainieren, das entscheiden kann, ob ein Tweet positiv oder negativ gemeint.\n",
        "\n",
        "Für das Training des neuronalen Netzes möchten wir Keras als Framework benutzen. Keras bietet eine Vereinfachung der Tensorflow-API an, d.h. mit deutlich weniger Aufwand kann man alle Funktionalitäten von Tensorflow benutzen.\n",
        "\n",
        "Keras bietet zwei unterschiedliche APIs zum Erstellen von neuronalen Netzen an, namentlich _sequential_ und _functional_.\n",
        "Bei der _sequential_-API wird das Model Schicht für Schicht aufgebaut. Leider kann mit dieser API kein Model aufgebaut werden, das Schichten enthält, die mehr als eine Vorgängerschicht gleichzeitig haben, oder einzelne Schichten wiederbenutzt. Mit der _functional_-API ist dies möglich.\n",
        "\n",
        "Aktuell liegen unsere Daten zwar in tokenisierter und gesäuberter Form vor, allerdings wird ein neuronales Netz damit sehr wenig anfangen können. Wir müssen unsere Daten also noch etwas weiter vorbereiten.\n",
        "\n",
        "Als Eingabe soll unser neuronales Netz später Vektoren nehmen, deren einzelne Komponenten alle Wörter darstellen und jeder Eintrag die Anzahl des Wortes in den jeweiligen Tweets. Ein Beispiel:\n",
        "Zwei Tweets \"lorem ipsum\" und \"foo foo bar\", die Vektoren hätten die Länge 4 und für den ersten Tweet wäre der Vektor `[1,1,0,0]`, für den zweiten `[0,0,2,1]`.\n",
        "\n",
        "1. Befüllt das dictionary `word2idx` so, dass jedes Wort auf einen Index abgebildet wird und die Indizes streng monoton aufsteigend sind. Für das Beispiel oben wäre `word2idx = {\"lorem\": 0, \"ipsum\": 1, \"foo\": 3, \"bar\": 4}`"
      ]
    },
    {
      "cell_type": "code",
      "metadata": {
        "id": "DmdMv2OSg4Ci",
        "colab_type": "code",
        "colab": {}
      },
      "source": [
        "word2idx = {} # TODO"
      ],
      "execution_count": 0,
      "outputs": []
    },
    {
      "cell_type": "markdown",
      "metadata": {
        "id": "EE6t6oKNg4Cm",
        "colab_type": "text"
      },
      "source": [
        "2. Welche Länge werden die Vektoren haben?"
      ]
    },
    {
      "cell_type": "code",
      "metadata": {
        "id": "xodkzWFlg4Cq",
        "colab_type": "code",
        "colab": {
          "base_uri": "https://localhost:8080/",
          "height": 132
        },
        "outputId": "4ee9f13e-272c-4553-fec4-d9540673e3d8"
      },
      "source": [
        "VECTOR_LEN = #TODO"
      ],
      "execution_count": 9,
      "outputs": [
        {
          "output_type": "error",
          "ename": "SyntaxError",
          "evalue": "ignored",
          "traceback": [
            "\u001b[0;36m  File \u001b[0;32m\"<ipython-input-9-c6d702f5b83a>\"\u001b[0;36m, line \u001b[0;32m1\u001b[0m\n\u001b[0;31m    VECTOR_LEN = #TODO\u001b[0m\n\u001b[0m                      ^\u001b[0m\n\u001b[0;31mSyntaxError\u001b[0m\u001b[0;31m:\u001b[0m invalid syntax\n"
          ]
        }
      ]
    },
    {
      "cell_type": "markdown",
      "metadata": {
        "id": "26X8jR_Rg4Cu",
        "colab_type": "text"
      },
      "source": [
        "3. Wir könnten mit `numpy` ein Array befüllen, das für jeden der 16 Millionen Tweets einen Vektor wie oben beschrieben enthält. \n",
        "Bevor ihr damit beginnen, überschlagt, wieviel Speicherplatz (im Hauptspeicher) ein solches Array belegen würde, wenn jeder Eintrag 32 bit hat. Reicht euer Hauptspeicher dafür aus?"
      ]
    },
    {
      "cell_type": "code",
      "metadata": {
        "id": "5otsbgbqg4Cw",
        "colab_type": "code",
        "colab": {}
      },
      "source": [
        "MEMORY = #TODO"
      ],
      "execution_count": 0,
      "outputs": []
    },
    {
      "cell_type": "markdown",
      "metadata": {
        "id": "aFoNZScJg4C1",
        "colab_type": "text"
      },
      "source": [
        "4. Um das Problem mit dem zu kleinen Hauptspeicher zu umgehen, bietet Keras die Möglichkeit, anstatt auf einem kompletten Datensatz zu operieren, immer nur kleinere Häppchen abzuarbeiten. Dazu wird ein Python-Generator eingesetzt.\n",
        "Vervollständigt die Funktion unten, so dass ein Generator entsteht. Die Parameter der Funktion sind:\n",
        " * d: tokenisierte und gesäuberte Tweets und Labels\n",
        " * w2i: das word2index dictionary\n",
        " * batch_size: Anzahl der vektorisierten Tweets, die pro Aufruf zurückgegeben werden sollen.\n",
        " \n",
        "Die benutzen Tweets nacheinander aus `d` gewählt werden und kein Tweet mehrfach zurückgegeben werden."
      ]
    },
    {
      "cell_type": "code",
      "metadata": {
        "id": "fIuBYPwLg4C2",
        "colab_type": "code",
        "colab": {}
      },
      "source": [
        "import random\n",
        "import numpy as np\n",
        "\n",
        "def data_generator(d, w2i, batch_size):\n",
        "    while True:\n",
        "        batch_x = np.zeros((batch_size, len(w2i.keys())))\n",
        "        batch_y = np.zeros((batch_size, 1))\n",
        "        # TODO\n",
        "        yield batch_x, batch_y"
      ],
      "execution_count": 0,
      "outputs": []
    },
    {
      "cell_type": "markdown",
      "metadata": {
        "id": "1Xi8q3c7g4C9",
        "colab_type": "text"
      },
      "source": [
        "Ihr könnt euren Generator wie folgt ausprobieren:"
      ]
    },
    {
      "cell_type": "code",
      "metadata": {
        "id": "uMo8xztqg4C-",
        "colab_type": "code",
        "colab": {}
      },
      "source": [
        "gen = data_generator(cleaned, word2idx, 100)"
      ],
      "execution_count": 0,
      "outputs": []
    },
    {
      "cell_type": "code",
      "metadata": {
        "id": "w1A2VIgmg4DC",
        "colab_type": "code",
        "colab": {}
      },
      "source": [
        "print(next(gen))"
      ],
      "execution_count": 0,
      "outputs": []
    },
    {
      "cell_type": "markdown",
      "metadata": {
        "id": "xHJHmeBUg4DH",
        "colab_type": "text"
      },
      "source": [
        "Wir sind nun endlich soweit, unser neuronales Netz aufzubauen. Da unser Netz genau ein hidden Layer hat und auch sonst nicht sonderlich komplex ist, benutzen wir die _Sequential_-API von Keras."
      ]
    },
    {
      "cell_type": "code",
      "metadata": {
        "id": "Zym11BN9g4DI",
        "colab_type": "code",
        "colab": {}
      },
      "source": [
        "from keras import Sequential\n",
        "m = Sequential()"
      ],
      "execution_count": 0,
      "outputs": []
    },
    {
      "cell_type": "markdown",
      "metadata": {
        "id": "nLpRTz5mg4DN",
        "colab_type": "text"
      },
      "source": [
        "5. Fügt einen _Dense_-Layer dem Netz hinzu, als _hidden units_ könnt ihr 16 nehmen. Da dies auch der Eingabe-Layer ist, müsst ihr den Parameter `input_shape` definieren. (Siehe auch: https://keras.io/layers/core/)"
      ]
    },
    {
      "cell_type": "code",
      "metadata": {
        "id": "tqb2fQP9g4DP",
        "colab_type": "code",
        "colab": {}
      },
      "source": [
        "m.add(#TODO)"
      ],
      "execution_count": 0,
      "outputs": []
    },
    {
      "cell_type": "markdown",
      "metadata": {
        "id": "7Cr3rit7g4DU",
        "colab_type": "text"
      },
      "source": [
        "6. Als letzten Layer in unserem neuronalen Netz, fügt einen weiteren _Dense_-Layer hinzu. Dieser Layer dient auch als \"Ausgabelayer\" Überlegt euch die Anzahl der _hidden units_ (Hinweis: Wie lässt sich unser Machine-Learning-Problem kategorisieren?) Welche _Activation_-Funktion wählt ihr?"
      ]
    },
    {
      "cell_type": "code",
      "metadata": {
        "id": "hQNhskyag4DU",
        "colab_type": "code",
        "colab": {}
      },
      "source": [
        "m.add(#TODO)"
      ],
      "execution_count": 0,
      "outputs": []
    },
    {
      "cell_type": "markdown",
      "metadata": {
        "id": "craRfa7Dg4Da",
        "colab_type": "text"
      },
      "source": [
        "7. Kompiliert das neuronale Netz. Als `optimizer` könnt ihr 'adam' benutzen. Wählt eine passende `loss`-Funktion aus. Begründet eure Entscheidung. (https://keras.io/models/model/#compile)"
      ]
    },
    {
      "cell_type": "code",
      "metadata": {
        "id": "iOAdWusug4Db",
        "colab_type": "code",
        "colab": {}
      },
      "source": [
        "#TODO"
      ],
      "execution_count": 0,
      "outputs": []
    },
    {
      "cell_type": "markdown",
      "metadata": {
        "id": "yj_dr99Ng4Df",
        "colab_type": "text"
      },
      "source": [
        "8. Bevor ihr nun das neuronale Netz trainiert, teilt noch euren Datensatz in zwei Teile auf. Einen Teil zum Trainieren und einen zum Evaluieren. Das Verhältnis der beiden Datensätze sollte 70%:30% sein. Bevor ihr die Daten aufteilen, durchmischt sie mit der `shuffle`-Methode aus dem `random`-Modul. Außerdem solltet ihr die Datenmenge zunächst auf ca. 100000 begrenzen, damit das Training des neuronalen Netzes nicht ewig dauert."
      ]
    },
    {
      "cell_type": "code",
      "metadata": {
        "id": "wryvssXWg4Dh",
        "colab_type": "code",
        "colab": {}
      },
      "source": [
        "train = []\n",
        "evaluation = []\n",
        "#TODO"
      ],
      "execution_count": 0,
      "outputs": []
    },
    {
      "cell_type": "markdown",
      "metadata": {
        "id": "uRxzyTYUg4Dn",
        "colab_type": "text"
      },
      "source": [
        "9. Wir sind nun soweit das neuronale Netz zu trainieren. Da wir den oben entwickelten Generator einsetzen wollen, verwenden wir dazu die `fit_generator`-Methode. Als `batch_size` könnt ihr 100 nehmen, für den `epochs`-Parameter 10. Was wählt ihr als `steps_per_epoch`-Parameter? (https://keras.io/models/model/#fit_generator)"
      ]
    },
    {
      "cell_type": "code",
      "metadata": {
        "id": "PmZQcEg6g4Dq",
        "colab_type": "code",
        "colab": {}
      },
      "source": [
        "m.fit_generator(#TODO)"
      ],
      "execution_count": 0,
      "outputs": []
    },
    {
      "cell_type": "markdown",
      "metadata": {
        "id": "zC67UuCHg4Dw",
        "colab_type": "text"
      },
      "source": [
        "10. Während das Netz trainiert wird, könnt ihr euch Gedanken zur Evaluierung machen:\n",
        "   * Definiert die üblichen Fehlerklassen (wahr positiv, falsch positiv, wahr negativ, falsch negativ)\n",
        "   * Eine häufig benutzte Evaluationsmetrik ist die _Accuracy_. Beschreibt diese Metrik und schreibt die Formel zur Berechnung auf.\n",
        "   * Warum könnte die _Accuracy_ eine schlechte Metrik sein?\n",
        "   * Zur Evaluation von binären Klassifikationsproblemen wird in der Literatur gerne _Precision_ und _Recall_ verwendet. Wie sind die beiden Evaluationsmaße definiert? Beschreibt diese Metriken mit eigenen Worten. Schreibt auch die Formeln zur Berechnung auf.\n",
        "   * Warum könnten _Precision_ und _Recall_ bessere Metriken sein als _Accuracy_?"
      ]
    },
    {
      "cell_type": "markdown",
      "metadata": {
        "id": "kXpYAlk0g4Dz",
        "colab_type": "text"
      },
      "source": [
        "11. Inzwischen sollte das Netz fertig trainiert sein. Speichert es ab!"
      ]
    },
    {
      "cell_type": "code",
      "metadata": {
        "id": "WmG-3xjHg4D2",
        "colab_type": "code",
        "colab": {}
      },
      "source": [
        "m.save('my_net.h5')"
      ],
      "execution_count": 0,
      "outputs": []
    },
    {
      "cell_type": "markdown",
      "metadata": {
        "id": "mX_OCho1g4EF",
        "colab_type": "text"
      },
      "source": [
        "12. Evaluiert euer Netz mit dem Datensatz, den ihr oben beseite gelegt haben. Benutzt dafür die `predict_classes`-Methode des Models. Berechnet dafür _Precision_, _Recall_ und _Accuracy_. Interpretiert kurz eure Ergebnisse. "
      ]
    },
    {
      "cell_type": "code",
      "metadata": {
        "id": "43GhBjVLg4EG",
        "colab_type": "code",
        "colab": {}
      },
      "source": [
        "precision = 0.0\n",
        "recall = 0.0\n",
        "accuracy = 0.0\n",
        "#TODO"
      ],
      "execution_count": 0,
      "outputs": []
    },
    {
      "cell_type": "markdown",
      "metadata": {
        "id": "BG4dZadXg4EK",
        "colab_type": "text"
      },
      "source": [
        "## Hausaufgabe\n",
        "1. Trainiert euer Netz auf dem großen Datensatz.\n",
        "2. Verändert die Parameter Ihres Netzes (z.B Anzahl _hidden units_, Anzahl _hidden layers_) und trainiert das Netz erneut (auf dem kleinen Datensatz). Was stellt ihr fest?\n",
        "3. Baut einen Embedding-Layer (https://keras.io/layers/embeddings/) als erste Schicht in eurem Model ein. Wie müsst ihr eure Eingabevektoren verändern, damit das funktioniert?"
      ]
    },
    {
      "cell_type": "code",
      "metadata": {
        "id": "eTXNG2NMg4EL",
        "colab_type": "code",
        "colab": {}
      },
      "source": [
        ""
      ],
      "execution_count": 0,
      "outputs": []
    }
  ]
}