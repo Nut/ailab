{
 "cells": [
  {
   "cell_type": "markdown",
   "metadata": {
    "collapsed": true
   },
   "source": [
    "# TensorFlow Basics"
   ]
  },
  {
   "cell_type": "markdown",
   "metadata": {},
   "source": [
    "This notebook serves as a starting point for TensorFlow beginners. It covers simple basics such as a multiplication of two constants, using a session, computing a function and a more elaborate implementation of a linear regression.\n",
    "\n",
    "Help:\n",
    "- TensorFlow API Documentation [https://www.tensorflow.org/api_docs/](https://www.tensorflow.org/api_docs/)\n",
    "\n",
    "<hr>"
   ]
  },
  {
   "cell_type": "markdown",
   "metadata": {},
   "source": [
    "# Multiplying two constants\n",
    "\n",
    "<hr>"
   ]
  },
  {
   "cell_type": "code",
   "execution_count": null,
   "metadata": {},
   "outputs": [],
   "source": [
    "import tensorflow as tf\n",
    "\n",
    "print(tf.__version__)"
   ]
  },
  {
   "cell_type": "code",
   "execution_count": null,
   "metadata": {},
   "outputs": [],
   "source": [
    "# Initialize two constants\n",
    "x1 = tf.constant([1,2,3,4])\n",
    "x2 = tf.constant([5,6,7,8])\n",
    "\n",
    "# Multiply\n",
    "result = tf.multiply(x1, x2)\n",
    "\n",
    "# Does not print the result\n",
    "print(result)"
   ]
  },
  {
   "cell_type": "markdown",
   "metadata": {},
   "source": [
    "# Same example with tf.Session()\n",
    "\n",
    "<hr>"
   ]
  },
  {
   "cell_type": "code",
   "execution_count": null,
   "metadata": {},
   "outputs": [],
   "source": [
    "# Initialize two constants\n",
    "x1 = tf.constant([1,2,3,4])\n",
    "x2 = tf.constant([5,6,7,8])\n",
    "\n",
    "# Multiply\n",
    "result = tf.multiply(x1, x2)\n",
    "\n",
    "# Intialize the Session\n",
    "sess = tf.Session()\n",
    "\n",
    "# Print the result\n",
    "print(sess.run(result))\n",
    "\n",
    "# Close the session\n",
    "sess.close()"
   ]
  },
  {
   "cell_type": "code",
   "execution_count": null,
   "metadata": {},
   "outputs": [],
   "source": [
    "# Initialize two constants\n",
    "x1 = tf.constant([1,2,3,4])\n",
    "x2 = tf.constant([5,6,7,8])\n",
    "\n",
    "# Multiply\n",
    "result = tf.multiply(x1, x2)\n",
    "\n",
    "# Initialize Session and run `result`\n",
    "with tf.Session() as sess:\n",
    "    output = sess.run(result)\n",
    "    print(output)"
   ]
  },
  {
   "cell_type": "markdown",
   "metadata": {},
   "source": [
    "# Computing a function\n",
    "\n",
    "- implements y = x^2+b\n",
    "\n",
    "<hr>"
   ]
  },
  {
   "cell_type": "code",
   "execution_count": null,
   "metadata": {},
   "outputs": [],
   "source": [
    "import tensorflow as tf\n",
    "import numpy as np\n",
    "import matplotlib.pyplot as plt\n",
    "\n",
    "# define what is needed\n",
    "x = tf.placeholder(tf.float32) # x is the input feeded on execution\n",
    "b = tf.constant(2.0) # b is a constant of value 2.0\n",
    "y = tf.square(x)\n",
    "y = tf.add(y, b)\n",
    "\n",
    "input = np.random.randint(5, size=10)\n",
    "print(input)\n",
    "plt.plot(input)\n",
    "\n",
    "sess = tf.Session()\n",
    "evaled_y = sess.run(y,feed_dict={x: input})\n",
    "\n",
    "# flattens the numpy array\n",
    "evaled_y = evaled_y.flatten()\n",
    "print(evaled_y)\n",
    "plt.plot(evaled_y)\n",
    "\n",
    "plt.show()"
   ]
  },
  {
   "cell_type": "markdown",
   "metadata": {},
   "source": [
    "# Linear regression\n",
    "\n",
    "- implements a linear regression model for house prices\n",
    "- as input you have the size of the single houses and their corresponding prices\n",
    "- covers placeholders and variables\n",
    "\n",
    "<hr>"
   ]
  },
  {
   "cell_type": "code",
   "execution_count": null,
   "metadata": {},
   "outputs": [],
   "source": [
    "import tensorflow as tf\n",
    "import numpy as np\n",
    "import matplotlib.pyplot as plt"
   ]
  },
  {
   "cell_type": "code",
   "execution_count": null,
   "metadata": {},
   "outputs": [],
   "source": [
    "# data as numpy arrays\n",
    "\n",
    "x_input_train = np.asarray([ 2104,  1600,  2400,  1416,  3000,  1985,  1534,  1427,\n",
    "  1380,  1494,  1940,  2000,  1890,  4478,  1268,  2300,\n",
    "  1320,  1236,  2609,  3031,  1767,  1888,  1604,  1962,\n",
    "  3890,  1100,  1458,  2526,  2200,  2637,  1839,  1000,\n",
    "  2040,  3137,  1811,  1437,  1239,  2132,  4215,  2162,\n",
    "  1664,  2238,  2567,  1200,   852,  1852,  1203 ])\n",
    "\n",
    "y_input_train = np.asarray([ 399900,  329900,  369000,  232000,  539900,  299900,  314900,  198999,\n",
    "  212000,  242500,  239999,  347000,  329999,  699900,  259900,  449900,\n",
    "  299900,  199900,  499998,  599000,  252900,  255000,  242900,  259900,\n",
    "  573900,  249900,  464500,  469000,  475000,  299900,  349900,  169900,\n",
    "  314900,  579900,  285900,  249900,  229900,  345000,  549000,  287000,\n",
    "  368500,  329900,  314000,  299000,  179900,  299900,  239500 ])\n",
    "\n",
    "\n",
    "x_input_test = np.asarray([ 1600, 1494, 1236, 1100, 3137, 2238 ])\n",
    "y_input_test = np.asarray([ 329900, 242500, 199900, 249900, 579900, 329900 ])\n",
    "\n",
    "# normalize data\n",
    "def normalize(array):\n",
    "    return (array - array.mean()) / array.std()\n",
    "\n",
    "x_input_train_n = normalize(x_input_train)\n",
    "y_input_train_n = normalize(y_input_train)\n",
    "x_input_test_n = normalize(x_input_test)\n",
    "y_input_test_n = normalize(y_input_test)"
   ]
  },
  {
   "cell_type": "code",
   "execution_count": null,
   "metadata": {},
   "outputs": [],
   "source": [
    "# define placeholder for the input\n",
    "X = tf.placeholder(\"float\")\n",
    "Y = tf.placeholder(\"float\")\n",
    "\n",
    "# set model weights and bias\n",
    "W = tf.Variable(tf.random_normal([1]), name=\"weight\")\n",
    "b = tf.Variable(tf.random_normal([1]), name=\"bias\")\n",
    "\n",
    "# set parameters\n",
    "learning_rate = 0.001\n",
    "training_iteration = 300\n",
    "\n",
    "# define predictions\n",
    "predictions = tf.add(tf.multiply(X, W), b)\n",
    "\n",
    "# define error function\n",
    "error_function = tf.losses.mean_squared_error(Y,predictions)\n",
    "\n",
    "# define optimizer\n",
    "optimizer = tf.train.GradientDescentOptimizer(learning_rate).minimize(error_function) \n",
    "\n",
    "# init variables\n",
    "init = tf.global_variables_initializer()\n",
    "\n",
    "with tf.Session() as sess:\n",
    "    sess.run(init)\n",
    "    display_step = 10\n",
    "\n",
    "    for iteration in range(training_iteration):\n",
    "        for (x, y) in zip(x_input_train_n, y_input_train_n):\n",
    "            _, evaled_error = sess.run([optimizer, error_function], feed_dict={X: x, Y: y})\n",
    "            \n",
    "        if iteration % display_step == 0:\n",
    "            print(\"Iteration: \" + str(iteration + 1) + \" Error: \" + \" \" + str(evaled_error))\n",
    "    \n",
    "    # Display function and data\n",
    "    plt.figure()\n",
    "    plt.plot(x_input_train_n, y_input_train_n, 'ro', label='Normalized samples')\n",
    "    plt.plot(x_input_test_n, y_input_test_n, 'go', label='Normalized testing samples')\n",
    "    plt.plot(x_input_train_n, sess.run(predictions,feed_dict={X: x_input_train_n}), label='Fitted line')\n",
    "    plt.legend()\n",
    "    \n",
    "    plt.show()"
   ]
  }
 ],
 "metadata": {
  "kernelspec": {
   "display_name": "Python 3",
   "language": "python",
   "name": "python3"
  },
  "language_info": {
   "codemirror_mode": {
    "name": "ipython",
    "version": 3
   },
   "file_extension": ".py",
   "mimetype": "text/x-python",
   "name": "python",
   "nbconvert_exporter": "python",
   "pygments_lexer": "ipython3",
   "version": "3.6.8"
  }
 },
 "nbformat": 4,
 "nbformat_minor": 1
}
