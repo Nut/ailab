{
  "nbformat": 4,
  "nbformat_minor": 0,
  "metadata": {
    "kernelspec": {
      "name": "python3",
      "display_name": "Python 3"
    },
    "language_info": {
      "codemirror_mode": {
        "name": "ipython",
        "version": 3
      },
      "file_extension": ".py",
      "mimetype": "text/x-python",
      "name": "python",
      "nbconvert_exporter": "python",
      "pygments_lexer": "ipython3",
      "version": "3.6.8"
    },
    "pycharm": {
      "stem_cell": {
        "cell_type": "raw",
        "metadata": {
          "collapsed": false
        },
        "source": []
      }
    },
    "colab": {
      "name": "04_1_ModelNet10_PointNet_Classifier.ipynb",
      "provenance": [],
      "collapsed_sections": [],
      "toc_visible": true
    },
    "accelerator": "GPU"
  },
  "cells": [
    {
      "cell_type": "markdown",
      "metadata": {
        "id": "3HkCy0z3-mHS",
        "colab_type": "text"
      },
      "source": [
        "# PointNet Transfer Learning on subset of ModelNet10\n",
        "\n",
        "\n",
        "The ModelNet10 dataset contains 4899 3D Meshes from 10 different classes.\n",
        "\n",
        "The classes are:\n",
        "\n",
        "* bed\n",
        "* monitor\n",
        "* desk\n",
        "* chair\n",
        "* dresser\n",
        "* toilet\n",
        "* sofa\n",
        "* table\n",
        "* night stand\n",
        "* bathttub \n",
        "\n",
        "We provide you a pretrained version of PointNet. It was trained on 6 of the above 10 classes. Your task is to implement the PointNet Model and train it to classify the other 4 classes using transfer learning.\n",
        "\n",
        "The classes to be learnt are:\n",
        "\n",
        "* desk\n",
        "* chair\n",
        "* toilet \n",
        "* table\n",
        "\n",
        "\n",
        "\n",
        "Tasks:\n",
        "* implement the TODOs\n",
        "* transfer learn the PointNet to achieve an Accuracy > 90%\n",
        "Help:\n",
        "* use the PointNet Paper [clickedy](http://stanford.edu/~rqi/pointnet/)\n",
        "* use the Keras API Documentation [clickedy](https://www.keras.io/)"
      ]
    },
    {
      "cell_type": "code",
      "metadata": {
        "id": "TAAoBY90CCyW",
        "colab_type": "code",
        "outputId": "2f91ab7f-93a7-407b-c054-086465295580",
        "colab": {
          "base_uri": "https://localhost:8080/",
          "height": 34
        }
      },
      "source": [
        "from google.colab import drive\n",
        "drive.mount('/data')\n",
        "\n",
        "# open a file, where you stored the pickled data\n",
        "#file = open('data/text8', 'rb')\n",
        "# file = open('/data/My Drive/Colab Notebooks/data/text8', 'rb')"
      ],
      "execution_count": 2,
      "outputs": [
        {
          "output_type": "stream",
          "text": [
            "Drive already mounted at /data; to attempt to forcibly remount, call drive.mount(\"/data\", force_remount=True).\n"
          ],
          "name": "stdout"
        }
      ]
    },
    {
      "cell_type": "code",
      "metadata": {
        "id": "X-YG9ZSs-mHU",
        "colab_type": "code",
        "outputId": "7b6ec941-577e-41f2-f73b-824ca91d457f",
        "colab": {
          "base_uri": "https://localhost:8080/",
          "height": 870
        }
      },
      "source": [
        "# We need Open3D for the preprocessing\n",
        "%pip install keras\n",
        "%pip install open3d"
      ],
      "execution_count": 3,
      "outputs": [
        {
          "output_type": "stream",
          "text": [
            "Requirement already satisfied: keras in /usr/local/lib/python3.6/dist-packages (2.2.5)\n",
            "Requirement already satisfied: h5py in /usr/local/lib/python3.6/dist-packages (from keras) (2.8.0)\n",
            "Requirement already satisfied: keras-preprocessing>=1.1.0 in /usr/local/lib/python3.6/dist-packages (from keras) (1.1.0)\n",
            "Requirement already satisfied: scipy>=0.14 in /usr/local/lib/python3.6/dist-packages (from keras) (1.3.2)\n",
            "Requirement already satisfied: six>=1.9.0 in /usr/local/lib/python3.6/dist-packages (from keras) (1.12.0)\n",
            "Requirement already satisfied: keras-applications>=1.0.8 in /usr/local/lib/python3.6/dist-packages (from keras) (1.0.8)\n",
            "Requirement already satisfied: pyyaml in /usr/local/lib/python3.6/dist-packages (from keras) (3.13)\n",
            "Requirement already satisfied: numpy>=1.9.1 in /usr/local/lib/python3.6/dist-packages (from keras) (1.17.4)\n",
            "Collecting open3d\n",
            "\u001b[?25l  Downloading https://files.pythonhosted.org/packages/d0/75/c029e5cf8b7fd491d71f29cf31b9bf7f4a66dba130314cf5cebc367ffa56/open3d-0.8.0.0-cp36-cp36m-manylinux1_x86_64.whl (2.9MB)\n",
            "\u001b[K     |████████████████████████████████| 2.9MB 3.4MB/s \n",
            "\u001b[?25hRequirement already satisfied: notebook in /usr/local/lib/python3.6/dist-packages (from open3d) (5.2.2)\n",
            "Requirement already satisfied: numpy in /usr/local/lib/python3.6/dist-packages (from open3d) (1.17.4)\n",
            "Requirement already satisfied: widgetsnbextension in /usr/local/lib/python3.6/dist-packages (from open3d) (3.5.1)\n",
            "Requirement already satisfied: ipywidgets in /usr/local/lib/python3.6/dist-packages (from open3d) (7.5.1)\n",
            "Requirement already satisfied: ipykernel in /usr/local/lib/python3.6/dist-packages (from notebook->open3d) (4.6.1)\n",
            "Requirement already satisfied: jinja2 in /usr/local/lib/python3.6/dist-packages (from notebook->open3d) (2.10.3)\n",
            "Requirement already satisfied: jupyter-client in /usr/local/lib/python3.6/dist-packages (from notebook->open3d) (5.3.4)\n",
            "Requirement already satisfied: traitlets>=4.2.1 in /usr/local/lib/python3.6/dist-packages (from notebook->open3d) (4.3.3)\n",
            "Requirement already satisfied: tornado>=4 in /usr/local/lib/python3.6/dist-packages (from notebook->open3d) (4.5.3)\n",
            "Requirement already satisfied: ipython-genutils in /usr/local/lib/python3.6/dist-packages (from notebook->open3d) (0.2.0)\n",
            "Requirement already satisfied: terminado>=0.3.3; sys_platform != \"win32\" in /usr/local/lib/python3.6/dist-packages (from notebook->open3d) (0.8.3)\n",
            "Requirement already satisfied: nbconvert in /usr/local/lib/python3.6/dist-packages (from notebook->open3d) (5.6.1)\n",
            "Requirement already satisfied: nbformat in /usr/local/lib/python3.6/dist-packages (from notebook->open3d) (4.4.0)\n",
            "Requirement already satisfied: jupyter-core in /usr/local/lib/python3.6/dist-packages (from notebook->open3d) (4.6.1)\n",
            "Requirement already satisfied: ipython>=4.0.0; python_version >= \"3.3\" in /usr/local/lib/python3.6/dist-packages (from ipywidgets->open3d) (5.5.0)\n",
            "Requirement already satisfied: MarkupSafe>=0.23 in /usr/local/lib/python3.6/dist-packages (from jinja2->notebook->open3d) (1.1.1)\n",
            "Requirement already satisfied: pyzmq>=13 in /usr/local/lib/python3.6/dist-packages (from jupyter-client->notebook->open3d) (17.0.0)\n",
            "Requirement already satisfied: python-dateutil>=2.1 in /usr/local/lib/python3.6/dist-packages (from jupyter-client->notebook->open3d) (2.6.1)\n",
            "Requirement already satisfied: six in /usr/local/lib/python3.6/dist-packages (from traitlets>=4.2.1->notebook->open3d) (1.12.0)\n",
            "Requirement already satisfied: decorator in /usr/local/lib/python3.6/dist-packages (from traitlets>=4.2.1->notebook->open3d) (4.4.1)\n",
            "Requirement already satisfied: ptyprocess; os_name != \"nt\" in /usr/local/lib/python3.6/dist-packages (from terminado>=0.3.3; sys_platform != \"win32\"->notebook->open3d) (0.6.0)\n",
            "Requirement already satisfied: pandocfilters>=1.4.1 in /usr/local/lib/python3.6/dist-packages (from nbconvert->notebook->open3d) (1.4.2)\n",
            "Requirement already satisfied: entrypoints>=0.2.2 in /usr/local/lib/python3.6/dist-packages (from nbconvert->notebook->open3d) (0.3)\n",
            "Requirement already satisfied: mistune<2,>=0.8.1 in /usr/local/lib/python3.6/dist-packages (from nbconvert->notebook->open3d) (0.8.4)\n",
            "Requirement already satisfied: defusedxml in /usr/local/lib/python3.6/dist-packages (from nbconvert->notebook->open3d) (0.6.0)\n",
            "Requirement already satisfied: pygments in /usr/local/lib/python3.6/dist-packages (from nbconvert->notebook->open3d) (2.1.3)\n",
            "Requirement already satisfied: bleach in /usr/local/lib/python3.6/dist-packages (from nbconvert->notebook->open3d) (3.1.0)\n",
            "Requirement already satisfied: testpath in /usr/local/lib/python3.6/dist-packages (from nbconvert->notebook->open3d) (0.4.4)\n",
            "Requirement already satisfied: jsonschema!=2.5.0,>=2.4 in /usr/local/lib/python3.6/dist-packages (from nbformat->notebook->open3d) (2.6.0)\n",
            "Requirement already satisfied: prompt-toolkit<2.0.0,>=1.0.4 in /usr/local/lib/python3.6/dist-packages (from ipython>=4.0.0; python_version >= \"3.3\"->ipywidgets->open3d) (1.0.18)\n",
            "Requirement already satisfied: simplegeneric>0.8 in /usr/local/lib/python3.6/dist-packages (from ipython>=4.0.0; python_version >= \"3.3\"->ipywidgets->open3d) (0.8.1)\n",
            "Requirement already satisfied: pexpect; sys_platform != \"win32\" in /usr/local/lib/python3.6/dist-packages (from ipython>=4.0.0; python_version >= \"3.3\"->ipywidgets->open3d) (4.7.0)\n",
            "Requirement already satisfied: setuptools>=18.5 in /usr/local/lib/python3.6/dist-packages (from ipython>=4.0.0; python_version >= \"3.3\"->ipywidgets->open3d) (41.6.0)\n",
            "Requirement already satisfied: pickleshare in /usr/local/lib/python3.6/dist-packages (from ipython>=4.0.0; python_version >= \"3.3\"->ipywidgets->open3d) (0.7.5)\n",
            "Requirement already satisfied: webencodings in /usr/local/lib/python3.6/dist-packages (from bleach->nbconvert->notebook->open3d) (0.5.1)\n",
            "Requirement already satisfied: wcwidth in /usr/local/lib/python3.6/dist-packages (from prompt-toolkit<2.0.0,>=1.0.4->ipython>=4.0.0; python_version >= \"3.3\"->ipywidgets->open3d) (0.1.7)\n",
            "Installing collected packages: open3d\n",
            "Successfully installed open3d-0.8.0.0\n"
          ],
          "name": "stdout"
        }
      ]
    },
    {
      "cell_type": "code",
      "metadata": {
        "id": "cy5Pipxu-mHZ",
        "colab_type": "code",
        "outputId": "9596d944-5d41-4982-d005-1ff306a06a34",
        "colab": {
          "base_uri": "https://localhost:8080/",
          "height": 80
        }
      },
      "source": [
        "import open3d as o3d\n",
        "import os\n",
        "\n",
        "from keras.utils import Sequence, to_categorical\n",
        "import keras\n",
        "\n",
        "import numpy as np\n",
        "import pandas as pd\n",
        "\n",
        "from sklearn.model_selection import train_test_split\n",
        "\n",
        "os.environ[\"CUDA_DEVICE_ORDER\"]=\"PCI_BUS_ID\"\n",
        "os.environ[\"CUDA_VISIBLE_DEVICES\"]=\"\" \n",
        "\n",
        "%load_ext autoreload\n",
        "%matplotlib inline\n",
        "import numpy as np"
      ],
      "execution_count": 4,
      "outputs": [
        {
          "output_type": "stream",
          "text": [
            "Using TensorFlow backend.\n"
          ],
          "name": "stderr"
        },
        {
          "output_type": "display_data",
          "data": {
            "text/html": [
              "<p style=\"color: red;\">\n",
              "The default version of TensorFlow in Colab will soon switch to TensorFlow 2.x.<br>\n",
              "We recommend you <a href=\"https://www.tensorflow.org/guide/migrate\" target=\"_blank\">upgrade</a> now \n",
              "or ensure your notebook will continue to use TensorFlow 1.x via the <code>%tensorflow_version 1.x</code> magic:\n",
              "<a href=\"https://colab.research.google.com/notebooks/tensorflow_version.ipynb\" target=\"_blank\">more info</a>.</p>\n"
            ],
            "text/plain": [
              "<IPython.core.display.HTML object>"
            ]
          },
          "metadata": {
            "tags": []
          }
        }
      ]
    },
    {
      "cell_type": "code",
      "metadata": {
        "id": "hqVa7mrZ-mHc",
        "colab_type": "code",
        "colab": {}
      },
      "source": [
        "%%sh\n",
        "# download ModelNet10\n",
        "wget -q http://3dvision.princeton.edu/projects/2014/3DShapeNets/ModelNet10.zip\n",
        "# unpack\n",
        "unzip -oq ModelNet10.zip\n",
        "# remove Archive\n",
        "rm ModelNet10.zip"
      ],
      "execution_count": 0,
      "outputs": []
    },
    {
      "cell_type": "code",
      "metadata": {
        "id": "sFuJumxA-mHe",
        "colab_type": "code",
        "colab": {}
      },
      "source": [
        "KEEP = [\"chair\", \"desk\", \"toilet\", \"table\"]\n",
        "classes = [f for f in os.scandir(\"ModelNet10/\") if os.path.isdir(f)]\n",
        "\n",
        "import shutil\n",
        "\n",
        "for c in classes:\n",
        "    if c.name not in KEEP:\n",
        "        shutil.rmtree(c.path, ignore_errors=False, onerror=None)"
      ],
      "execution_count": 0,
      "outputs": []
    },
    {
      "cell_type": "markdown",
      "metadata": {
        "id": "DdBoT3hX-mHg",
        "colab_type": "text"
      },
      "source": [
        "##  Part One: Data Provider\n",
        "\n",
        "We use the Keras Sequence API to construct a data provider, which feeds our model during training and validation. Fill in all the ToDos to make it work."
      ]
    },
    {
      "cell_type": "code",
      "metadata": {
        "id": "Ejt6YlHv-mHh",
        "colab_type": "code",
        "colab": {}
      },
      "source": [
        "class ModelNetProvider(Sequence):\n",
        "    \"\"\"\n",
        "    Lazily load point clouds and annotations from filesystem and prepare it for model training.\n",
        "    \"\"\"\n",
        "\n",
        "    def __init__(self, dataset, batch_size, n_classes, sample_size):\n",
        "        self.dataset = dataset\n",
        "        self.batch_size = batch_size\n",
        "        self.n_classes = n_classes\n",
        "        self.sample_size = sample_size\n",
        "\n",
        "        # indices of samples used for shuffling\n",
        "        self.indices = np.arange(len(dataset))\n",
        "\n",
        "        self.on_epoch_end()\n",
        "\n",
        "    def __len__(self):\n",
        "        return self.sample_size // self.batch_size # ToDo: Define the length of the generator (Hint: Number of Steps in one Epoch)\n",
        "\n",
        "    def __getitem__(self, index):\n",
        "        \"\"\"Generate one batch of data.\"\"\"\n",
        "        batch_indices = np.arange(index, index + self.batch_size) # ToDo: select the indices for the current batch, starting at `index`\n",
        "        batch_samples = self.dataset.iloc[batch_indices]\n",
        "\n",
        "        return self.__generate_data(batch_samples)\n",
        "\n",
        "    def __generate_data(self, batch_samples):\n",
        "        X = []\n",
        "        y = []\n",
        "        for i, row in batch_samples.iterrows():\n",
        "            mesh = o3d.io.read_triangle_mesh((row[\"path\"]))\n",
        "            pcd = mesh.sample_points_uniformly(number_of_points=self.sample_size)\n",
        "            points = np.asarray(pcd.points)\n",
        "            mean_points = points.mean(axis=0)\n",
        "            centered_points = np.asarray([point - mean_points for point in points]) # ToDo center the points to origin\n",
        "\n",
        "            max_points = np.abs(points).max(axis=0)\n",
        "            normalized_points = centered_points / max_points # ToDo normalize the centered points\n",
        "            X.append(normalized_points)\n",
        "            y.append(row[\"class\"])\n",
        "\n",
        "        return self.rotate_point_clouds(np.array(X)), to_categorical(np.array(y), num_classes=self.n_classes)\n",
        "\n",
        "    def on_epoch_end(self):\n",
        "        \"\"\"Shuffle training data, so batches are in different order\"\"\"\n",
        "        np.random.shuffle(self.indices)\n",
        "        \n",
        "        \n",
        "    def rotate_point_clouds(self, batch, rotation_angle_range=(-np.pi/8, np.pi/8)):\n",
        "        \"\"\"Rotate point cloud around y-axis (=up) by random angle\"\"\"\n",
        "        for b, pc in enumerate(batch):\n",
        "            phi = np.random.uniform(*rotation_angle_range)\n",
        "            c, s = np.cos(phi), np.sin(phi)\n",
        "            R = np.matrix([[c, 0, s],\n",
        "                           [0, 1, 0],\n",
        "                           [-s, 0, c]])\n",
        "            batch[b, :, :3] = np.dot(pc[:, :3], R)\n",
        "        return batch"
      ],
      "execution_count": 0,
      "outputs": []
    },
    {
      "cell_type": "code",
      "metadata": {
        "id": "pzLVchzC-mHm",
        "colab_type": "code",
        "colab": {}
      },
      "source": [
        "def initialize_dataset(data_directory, file_extension=\".off\"):\n",
        "    \"\"\"\n",
        "    Loads an index to all files and structures them.\n",
        "    :param data_directory: directory containing the data files\n",
        "    :param file_extension: extension of the data files\n",
        "    :return: pandas dataframe containing an index to all files and a label index, \n",
        "        mapping numerical label representations to label names.\n",
        "    \"\"\"\n",
        "    files = [\n",
        "        os.path.join(r, f)  \n",
        "            for r, d, fs in os.walk(data_directory) \n",
        "            for f in fs if f.endswith(file_extension)\n",
        "        ]\n",
        "    \n",
        "    dataframe = pd.DataFrame({\n",
        "        \"path\": files,\n",
        "        \"class\": pd.Categorical([f.rsplit(\"/\", 3)[1] for f in files]),\n",
        "        \"is_train\": [\"train\" in f for f in files]\n",
        "    })\n",
        "    \n",
        "    factorization = dataframe[\"class\"].factorize()\n",
        "    dataframe[\"class\"] = factorization[0]\n",
        "    \n",
        "    return dataframe, factorization[1]\n"
      ],
      "execution_count": 0,
      "outputs": []
    },
    {
      "cell_type": "code",
      "metadata": {
        "id": "QNpPlK-y-mHj",
        "colab_type": "code",
        "cellView": "both",
        "outputId": "522637f1-4e00-4335-c934-7851fc92a12f",
        "colab": {
          "base_uri": "https://localhost:8080/",
          "height": 153
        }
      },
      "source": [
        "df, l_idx = initialize_dataset(\"ModelNet10/\")\n",
        "batch_indices = np.arange(0, 2) # ToDo: select the indices for the current batch, starting at `index`\n",
        "batch_samples = df.iloc[batch_indices]\n",
        "print(batch_indices)\n",
        "\n",
        "X = []\n",
        "y = []\n",
        "for i, row in batch_samples.iterrows():\n",
        "    mesh = o3d.io.read_triangle_mesh((row[\"path\"]))\n",
        "    pcd = mesh.sample_points_uniformly(number_of_points=500)\n",
        "    points = np.asarray(pcd.points)\n",
        "    #print(points.mean(axis=0))\n",
        "    #print(points)\n",
        "    mean_points = points.mean(axis=0)\n",
        "    centered_points = np.asarray([point - mean_points for point in points]) # ToDo center the points to origin\n",
        "    \n",
        "    max_points = np.abs(points).max(axis=0)\n",
        "    normalized_points = centered_points / max_points # ToDo normalize the centered points\n",
        "    X.append(normalized_points)\n",
        "    y.append(row[\"class\"])\n",
        "\n",
        "print(normalized_points)\n",
        "#[-0.01174359  2.37781578 -0.59867143]\n",
        "#[-0.07872658  1.99953358 -1.0851834 ]"
      ],
      "execution_count": 9,
      "outputs": [
        {
          "output_type": "stream",
          "text": [
            "[0 1]\n",
            "[[-0.88221905  0.35462715  0.00980041]\n",
            " [-0.88221905  0.79060042  0.13795421]\n",
            " [-0.88221905  0.58928997  0.16359165]\n",
            " ...\n",
            " [-0.88221905  0.86812829 -0.02012513]\n",
            " [ 0.93478494 -0.76847739 -0.05300461]\n",
            " [-0.89249175 -0.66226517 -0.05300461]]\n"
          ],
          "name": "stdout"
        }
      ]
    },
    {
      "cell_type": "markdown",
      "metadata": {
        "id": "zEzA-iAM-mHo",
        "colab_type": "text"
      },
      "source": [
        "## Part Two: PointNet Architecture\n",
        "\n",
        "Implement all the missing code pieces to complete the whole architecture. Follow the description in the paper or use the image below. If your model definition is right, you should be able to load our pretrained weigths without an error. \n",
        "\n",
        "We provided the definition of the T-Net, so you don't need to implement it on your own. If you are interested in the implementation details, just have a look at the pointnet_utils.py file."
      ]
    },
    {
      "cell_type": "markdown",
      "metadata": {
        "id": "AnSXcCD5-mHp",
        "colab_type": "text"
      },
      "source": [
        "![PointNet Architecture](http://stanford.edu/~rqi/pointnet/images/pointnet.jpg)"
      ]
    },
    {
      "cell_type": "code",
      "metadata": {
        "id": "DWn9DIgU-mHp",
        "colab_type": "code",
        "colab": {}
      },
      "source": [
        "from keras import backend as K\n",
        "from keras.layers import Input, Dropout, Dense, Dot, Lambda, \\\n",
        "    Reshape, concatenate, GlobalMaxPooling1D, BatchNormalization, \\\n",
        "    Activation, Conv1D, Multiply\n",
        "from keras.models import Model\n",
        "\n",
        "\n",
        "from pointnet_utils import transform_net\n",
        "\n",
        "def conv1d_bn(x, num_filters, kernel_size, padding='same', strides=1,\n",
        "              use_bias=False, scope=None, activation='relu'):\n",
        "    \"\"\"\n",
        "    Utility function to apply Convolution + Batch Normalization.\n",
        "    \"\"\"\n",
        "    with K.name_scope(scope):\n",
        "        input_shape = x.get_shape().as_list()[-2:]\n",
        "        x = Conv1D(input_shape=input_shape, filters=num_filters, kernel_size=kernel_size, padding=padding, strides=strides,\n",
        "              use_bias=use_bias, activation=activation)(x) # ToDo define the Convolutional Part of this Layer\n",
        "        x = BatchNormalization()(x) # ToDo add BatchNormalization\n",
        "        x = Activation(activation)(x) # ToDo add activation function\n",
        "    return x\n",
        "\n",
        "\n",
        "def dense_bn(x, units, use_bias=True, scope=None, activation=None):\n",
        "    \"\"\"\n",
        "    Utility function to apply Dense + Batch Normalization.\n",
        "    \"\"\"\n",
        "    with K.name_scope(scope):\n",
        "        x = Dense(units, use_bias=use_bias, activation=activation)(x)# ToDo Add Dense Part of this Layer\n",
        "        x = BatchNormalization()(x) # ToDo add BatchNormalization\n",
        "        x = Activation(activation)(x) # ToDo add activation function\n",
        "    return x\n"
      ],
      "execution_count": 0,
      "outputs": []
    },
    {
      "cell_type": "code",
      "metadata": {
        "id": "_YbxoIOn-mHs",
        "colab_type": "code",
        "colab": {}
      },
      "source": [
        "def pointnet(input_shape, classes):\n",
        "    \"\"\"\n",
        "    PointNet Model definition for classification.\n",
        "    :param input_shape: The point cloud shape\n",
        "    :param classes: Number of classes in output.\n",
        "    :return: PointNet Model for classification with `classes` classes.\n",
        "    \"\"\"\n",
        "    # Generate input tensor\n",
        "    inputs = Input(shape=input_shape)# ToDo define Input-Layer\n",
        "\n",
        "    # Obtain spatial point transform from inputs and convert inputs\n",
        "    ptransform = transform_net(inputs, dense_bn, conv1d_bn, scope='transform_net1', regularize=False)\n",
        "    point_cloud_transformed = Dot(axes = (2, 1))([inputs, ptransform]) # ToDo Perform the matrix multiply between ptransform and inputs\n",
        "\n",
        "    # First block of convolutions\n",
        "    net = conv1d_bn(point_cloud_transformed, num_filters=64, kernel_size=(1), scope='First_block', use_bias=True) # ToDo, define first Conv-Layer\n",
        "    net = conv1d_bn(net, num_filters=64, kernel_size=(1), scope='First_block', use_bias=True)# ToDo, define second Conv-Layer\n",
        "\n",
        "    # Obtain feature transform and apply it to the network\n",
        "    ftransform = transform_net(net, dense_bn, conv1d_bn, scope='transform_net2', regularize=True)\n",
        "    net_transformed = Dot(axes = (2, 1))([net, ftransform])# ToDo Perform the matrix multiply between ftransform and net\n",
        "\n",
        "    # Second block of convolutions\n",
        "    net = conv1d_bn(net_transformed, num_filters=64, kernel_size=(1), scope='Second_block', use_bias=True) # ToDo, define third Conv-Layer\n",
        "    net = conv1d_bn(net, num_filters=128, kernel_size=(1), scope='Second_block', use_bias=True) # ToDo, define fourth Conv-Layer\n",
        "    net = conv1d_bn(net, num_filters=1024, kernel_size=(1), scope='Second_block', use_bias=True) # ToDo, define fifth Conv-Layer\n",
        "\n",
        "    # add Maxpooling \n",
        "    net = GlobalMaxPooling1D()(net)# Todo define MaxPool Layer\n",
        "\n",
        "    # Top layers\n",
        "    net = dense_bn(net, 512, scope='embedding_layer')# ToDo, define first Dense-Layer\n",
        "    net = Dropout(0.2)(net) # ToDo, define first Dropout-Layer\n",
        "    net = dense_bn(net, 256, scope='embedding_layer')# ToDo, define second Dense-Layer\n",
        "    net = Dropout(0.2)(net)# ToDo, define second Dropout-Layer\n",
        "    #net = dense_bn(net, classes, scope='embedding_layer', activation = 'softmax')# ToDo, define third Dense-Layer\n",
        "    net = Dense(units=classes, use_bias=True, activation='softmax')(net)\n",
        "\n",
        "    model = Model(inputs, net, name='pointnet')\n",
        "\n",
        "    return model"
      ],
      "execution_count": 0,
      "outputs": []
    },
    {
      "cell_type": "markdown",
      "metadata": {
        "id": "mdxPaxJi-mHu",
        "colab_type": "text"
      },
      "source": [
        "## Part Three: Transfer Learning of the PointNet\n",
        "\n",
        "Load the pretrained weigths for PointNet and change the output to four classes. Define all Hyperparameters and implement the train/test and your own learning rate scheduling algorithm. "
      ]
    },
    {
      "cell_type": "code",
      "metadata": {
        "scrolled": false,
        "id": "hgXsHbFw-mHv",
        "colab_type": "code",
        "outputId": "e0cc2d62-937a-455a-ffaa-972de3af18e1",
        "colab": {
          "base_uri": "https://localhost:8080/",
          "height": 1000
        }
      },
      "source": [
        "pretrained_model = pointnet((None, 3), 6)\n",
        "# pretrained_model.summary()\n",
        "pretrained_model.load_weights(\"/data/My Drive/Colab Notebooks/pretrained-modelnet.h5\")\n",
        "\n",
        "# print(pretrained_model.layers[-1].weights)\n",
        "# print(pretrained_model.inputs)\n",
        "# print(pretrained_model.outputs)\n",
        "\n",
        "# We need to replace the last layer, because it was trained to predict 6 classes instead of 4.\n",
        "embedding_layer = pretrained_model.layers[-2] # ToDo find \"embedding layer\" (The layer before the old softmax layer)\n",
        "outputs = Dense(units=4, use_bias=True, activation='softmax')(embedding_layer.output) # ToDo Define new Output Layer\n",
        "new_model = Model(inputs=pretrained_model.inputs, outputs=outputs)\n",
        "\n",
        "new_model.summary()"
      ],
      "execution_count": 12,
      "outputs": [
        {
          "output_type": "stream",
          "text": [
            "WARNING:tensorflow:From /usr/local/lib/python3.6/dist-packages/keras/backend/tensorflow_backend.py:66: The name tf.get_default_graph is deprecated. Please use tf.compat.v1.get_default_graph instead.\n",
            "\n",
            "WARNING:tensorflow:From /usr/local/lib/python3.6/dist-packages/keras/backend/tensorflow_backend.py:541: The name tf.placeholder is deprecated. Please use tf.compat.v1.placeholder instead.\n",
            "\n",
            "WARNING:tensorflow:From /usr/local/lib/python3.6/dist-packages/keras/backend/tensorflow_backend.py:4432: The name tf.random_uniform is deprecated. Please use tf.random.uniform instead.\n",
            "\n",
            "WARNING:tensorflow:From /usr/local/lib/python3.6/dist-packages/keras/backend/tensorflow_backend.py:148: The name tf.placeholder_with_default is deprecated. Please use tf.compat.v1.placeholder_with_default instead.\n",
            "\n",
            "WARNING:tensorflow:From /usr/local/lib/python3.6/dist-packages/keras/backend/tensorflow_backend.py:3733: calling dropout (from tensorflow.python.ops.nn_ops) with keep_prob is deprecated and will be removed in a future version.\n",
            "Instructions for updating:\n",
            "Please use `rate` instead of `keep_prob`. Rate should be set to `rate = 1 - keep_prob`.\n",
            "WARNING:tensorflow:From /usr/local/lib/python3.6/dist-packages/keras/backend/tensorflow_backend.py:190: The name tf.get_default_session is deprecated. Please use tf.compat.v1.get_default_session instead.\n",
            "\n",
            "WARNING:tensorflow:From /usr/local/lib/python3.6/dist-packages/keras/backend/tensorflow_backend.py:197: The name tf.ConfigProto is deprecated. Please use tf.compat.v1.ConfigProto instead.\n",
            "\n",
            "WARNING:tensorflow:From /usr/local/lib/python3.6/dist-packages/keras/backend/tensorflow_backend.py:203: The name tf.Session is deprecated. Please use tf.compat.v1.Session instead.\n",
            "\n",
            "WARNING:tensorflow:From /usr/local/lib/python3.6/dist-packages/keras/backend/tensorflow_backend.py:207: The name tf.global_variables is deprecated. Please use tf.compat.v1.global_variables instead.\n",
            "\n",
            "WARNING:tensorflow:From /usr/local/lib/python3.6/dist-packages/keras/backend/tensorflow_backend.py:216: The name tf.is_variable_initialized is deprecated. Please use tf.compat.v1.is_variable_initialized instead.\n",
            "\n",
            "WARNING:tensorflow:From /usr/local/lib/python3.6/dist-packages/keras/backend/tensorflow_backend.py:223: The name tf.variables_initializer is deprecated. Please use tf.compat.v1.variables_initializer instead.\n",
            "\n",
            "Model: \"model_1\"\n",
            "__________________________________________________________________________________________________\n",
            "Layer (type)                    Output Shape         Param #     Connected to                     \n",
            "==================================================================================================\n",
            "input_1 (InputLayer)            (None, None, 3)      0                                            \n",
            "__________________________________________________________________________________________________\n",
            "conv1d_1 (Conv1D)               (None, None, 64)     256         input_1[0][0]                    \n",
            "__________________________________________________________________________________________________\n",
            "batch_normalization_1 (BatchNor (None, None, 64)     256         conv1d_1[0][0]                   \n",
            "__________________________________________________________________________________________________\n",
            "activation_1 (Activation)       (None, None, 64)     0           batch_normalization_1[0][0]      \n",
            "__________________________________________________________________________________________________\n",
            "conv1d_2 (Conv1D)               (None, None, 128)    8320        activation_1[0][0]               \n",
            "__________________________________________________________________________________________________\n",
            "batch_normalization_2 (BatchNor (None, None, 128)    512         conv1d_2[0][0]                   \n",
            "__________________________________________________________________________________________________\n",
            "activation_2 (Activation)       (None, None, 128)    0           batch_normalization_2[0][0]      \n",
            "__________________________________________________________________________________________________\n",
            "conv1d_3 (Conv1D)               (None, None, 1024)   132096      activation_2[0][0]               \n",
            "__________________________________________________________________________________________________\n",
            "batch_normalization_3 (BatchNor (None, None, 1024)   4096        conv1d_3[0][0]                   \n",
            "__________________________________________________________________________________________________\n",
            "activation_3 (Activation)       (None, None, 1024)   0           batch_normalization_3[0][0]      \n",
            "__________________________________________________________________________________________________\n",
            "global_max_pooling1d_1 (GlobalM (None, 1024)         0           activation_3[0][0]               \n",
            "__________________________________________________________________________________________________\n",
            "dense_1 (Dense)                 (None, 512)          524800      global_max_pooling1d_1[0][0]     \n",
            "__________________________________________________________________________________________________\n",
            "batch_normalization_4 (BatchNor (None, 512)          2048        dense_1[0][0]                    \n",
            "__________________________________________________________________________________________________\n",
            "activation_4 (Activation)       (None, 512)          0           batch_normalization_4[0][0]      \n",
            "__________________________________________________________________________________________________\n",
            "dense_2 (Dense)                 (None, 256)          131328      activation_4[0][0]               \n",
            "__________________________________________________________________________________________________\n",
            "batch_normalization_5 (BatchNor (None, 256)          1024        dense_2[0][0]                    \n",
            "__________________________________________________________________________________________________\n",
            "activation_5 (Activation)       (None, 256)          0           batch_normalization_5[0][0]      \n",
            "__________________________________________________________________________________________________\n",
            "dense_3 (Dense)                 (None, 9)            2313        activation_5[0][0]               \n",
            "__________________________________________________________________________________________________\n",
            "reshape_1 (Reshape)             (None, 3, 3)         0           dense_3[0][0]                    \n",
            "__________________________________________________________________________________________________\n",
            "dot_1 (Dot)                     (None, None, 3)      0           input_1[0][0]                    \n",
            "                                                                 reshape_1[0][0]                  \n",
            "__________________________________________________________________________________________________\n",
            "conv1d_4 (Conv1D)               (None, None, 64)     256         dot_1[0][0]                      \n",
            "__________________________________________________________________________________________________\n",
            "batch_normalization_6 (BatchNor (None, None, 64)     256         conv1d_4[0][0]                   \n",
            "__________________________________________________________________________________________________\n",
            "activation_6 (Activation)       (None, None, 64)     0           batch_normalization_6[0][0]      \n",
            "__________________________________________________________________________________________________\n",
            "conv1d_5 (Conv1D)               (None, None, 64)     4160        activation_6[0][0]               \n",
            "__________________________________________________________________________________________________\n",
            "batch_normalization_7 (BatchNor (None, None, 64)     256         conv1d_5[0][0]                   \n",
            "__________________________________________________________________________________________________\n",
            "activation_7 (Activation)       (None, None, 64)     0           batch_normalization_7[0][0]      \n",
            "__________________________________________________________________________________________________\n",
            "conv1d_6 (Conv1D)               (None, None, 64)     4160        activation_7[0][0]               \n",
            "__________________________________________________________________________________________________\n",
            "batch_normalization_8 (BatchNor (None, None, 64)     256         conv1d_6[0][0]                   \n",
            "__________________________________________________________________________________________________\n",
            "activation_8 (Activation)       (None, None, 64)     0           batch_normalization_8[0][0]      \n",
            "__________________________________________________________________________________________________\n",
            "conv1d_7 (Conv1D)               (None, None, 128)    8320        activation_8[0][0]               \n",
            "__________________________________________________________________________________________________\n",
            "batch_normalization_9 (BatchNor (None, None, 128)    512         conv1d_7[0][0]                   \n",
            "__________________________________________________________________________________________________\n",
            "activation_9 (Activation)       (None, None, 128)    0           batch_normalization_9[0][0]      \n",
            "__________________________________________________________________________________________________\n",
            "conv1d_8 (Conv1D)               (None, None, 1024)   132096      activation_9[0][0]               \n",
            "__________________________________________________________________________________________________\n",
            "batch_normalization_10 (BatchNo (None, None, 1024)   4096        conv1d_8[0][0]                   \n",
            "__________________________________________________________________________________________________\n",
            "activation_10 (Activation)      (None, None, 1024)   0           batch_normalization_10[0][0]     \n",
            "__________________________________________________________________________________________________\n",
            "global_max_pooling1d_2 (GlobalM (None, 1024)         0           activation_10[0][0]              \n",
            "__________________________________________________________________________________________________\n",
            "dense_4 (Dense)                 (None, 512)          524800      global_max_pooling1d_2[0][0]     \n",
            "__________________________________________________________________________________________________\n",
            "batch_normalization_11 (BatchNo (None, 512)          2048        dense_4[0][0]                    \n",
            "__________________________________________________________________________________________________\n",
            "activation_11 (Activation)      (None, 512)          0           batch_normalization_11[0][0]     \n",
            "__________________________________________________________________________________________________\n",
            "dense_5 (Dense)                 (None, 256)          131328      activation_11[0][0]              \n",
            "__________________________________________________________________________________________________\n",
            "batch_normalization_12 (BatchNo (None, 256)          1024        dense_5[0][0]                    \n",
            "__________________________________________________________________________________________________\n",
            "activation_12 (Activation)      (None, 256)          0           batch_normalization_12[0][0]     \n",
            "__________________________________________________________________________________________________\n",
            "dense_6 (Dense)                 (None, 4096)         1052672     activation_12[0][0]              \n",
            "__________________________________________________________________________________________________\n",
            "reshape_2 (Reshape)             (None, 64, 64)       0           dense_6[0][0]                    \n",
            "__________________________________________________________________________________________________\n",
            "dot_2 (Dot)                     (None, None, 64)     0           activation_7[0][0]               \n",
            "                                                                 reshape_2[0][0]                  \n",
            "__________________________________________________________________________________________________\n",
            "conv1d_9 (Conv1D)               (None, None, 64)     4160        dot_2[0][0]                      \n",
            "__________________________________________________________________________________________________\n",
            "batch_normalization_13 (BatchNo (None, None, 64)     256         conv1d_9[0][0]                   \n",
            "__________________________________________________________________________________________________\n",
            "activation_13 (Activation)      (None, None, 64)     0           batch_normalization_13[0][0]     \n",
            "__________________________________________________________________________________________________\n",
            "conv1d_10 (Conv1D)              (None, None, 128)    8320        activation_13[0][0]              \n",
            "__________________________________________________________________________________________________\n",
            "batch_normalization_14 (BatchNo (None, None, 128)    512         conv1d_10[0][0]                  \n",
            "__________________________________________________________________________________________________\n",
            "activation_14 (Activation)      (None, None, 128)    0           batch_normalization_14[0][0]     \n",
            "__________________________________________________________________________________________________\n",
            "conv1d_11 (Conv1D)              (None, None, 1024)   132096      activation_14[0][0]              \n",
            "__________________________________________________________________________________________________\n",
            "batch_normalization_15 (BatchNo (None, None, 1024)   4096        conv1d_11[0][0]                  \n",
            "__________________________________________________________________________________________________\n",
            "activation_15 (Activation)      (None, None, 1024)   0           batch_normalization_15[0][0]     \n",
            "__________________________________________________________________________________________________\n",
            "global_max_pooling1d_3 (GlobalM (None, 1024)         0           activation_15[0][0]              \n",
            "__________________________________________________________________________________________________\n",
            "dense_7 (Dense)                 (None, 512)          524800      global_max_pooling1d_3[0][0]     \n",
            "__________________________________________________________________________________________________\n",
            "batch_normalization_16 (BatchNo (None, 512)          2048        dense_7[0][0]                    \n",
            "__________________________________________________________________________________________________\n",
            "activation_16 (Activation)      (None, 512)          0           batch_normalization_16[0][0]     \n",
            "__________________________________________________________________________________________________\n",
            "dropout_1 (Dropout)             (None, 512)          0           activation_16[0][0]              \n",
            "__________________________________________________________________________________________________\n",
            "dense_8 (Dense)                 (None, 256)          131328      dropout_1[0][0]                  \n",
            "__________________________________________________________________________________________________\n",
            "batch_normalization_17 (BatchNo (None, 256)          1024        dense_8[0][0]                    \n",
            "__________________________________________________________________________________________________\n",
            "activation_17 (Activation)      (None, 256)          0           batch_normalization_17[0][0]     \n",
            "__________________________________________________________________________________________________\n",
            "dropout_2 (Dropout)             (None, 256)          0           activation_17[0][0]              \n",
            "__________________________________________________________________________________________________\n",
            "dense_10 (Dense)                (None, 4)            1028        dropout_2[0][0]                  \n",
            "==================================================================================================\n",
            "Total params: 3,482,957\n",
            "Trainable params: 3,470,797\n",
            "Non-trainable params: 12,160\n",
            "__________________________________________________________________________________________________\n"
          ],
          "name": "stdout"
        }
      ]
    },
    {
      "cell_type": "code",
      "metadata": {
        "id": "tlg0WkA8TESz",
        "colab_type": "code",
        "colab": {}
      },
      "source": [
        "for layer in new_model.layers[:-1]:\n",
        "  layer.trainable = False\n",
        "\n",
        "new_model.layers[-1].trainable = True\n",
        "\n",
        "# for layer in new_model.layers:\n",
        "#   print(layer.name, layer.trainable)"
      ],
      "execution_count": 0,
      "outputs": []
    },
    {
      "cell_type": "code",
      "metadata": {
        "id": "NOeEbFZG-mHx",
        "colab_type": "code",
        "colab": {}
      },
      "source": [
        "# TODO: Define Hyperparameters\n",
        "SAMPLE_SIZE = 300\n",
        "EPOCHS = 10\n",
        "TRAIN_TEST_SPLIT = 0.8\n",
        "BATCH_SIZE = 32"
      ],
      "execution_count": 0,
      "outputs": []
    },
    {
      "cell_type": "code",
      "metadata": {
        "id": "xdETiQNE-mHz",
        "colab_type": "code",
        "colab": {}
      },
      "source": [
        "def random_split(samples, atFraction):\n",
        "    \"\"\"\n",
        "    Perform the train/test split.\n",
        "    \"\"\"\n",
        "    print(\"atFraction = \", atFraction)\n",
        "    # ToDo perform the train/test split.\n",
        "    return train_test_split(samples, train_size=atFraction, shuffle=True)\n",
        "\n",
        "\n",
        "def reduce_learning_rate(epoch, currentLearningRate):\n",
        "    \"\"\"\n",
        "    Implements adaptive learning rate scheduling.\n",
        "    \"\"\"\n",
        "    decay_rate = 0.1\n",
        "    decay_step = 5\n",
        "    if epoch % decay_step == 0 and epoch:\n",
        "        return currentLearningRate * decay_rate\n",
        "    return currentLearningRate"
      ],
      "execution_count": 0,
      "outputs": []
    },
    {
      "cell_type": "code",
      "metadata": {
        "id": "mIMx3tEP-mH1",
        "colab_type": "code",
        "outputId": "9fa91523-d508-4362-db54-bc2fefd4750a",
        "colab": {
          "base_uri": "https://localhost:8080/",
          "height": 85
        }
      },
      "source": [
        "df, l_idx = initialize_dataset(\"ModelNet10/\")\n",
        "\n",
        "train_samples, validation_samples = random_split(df[df[\"is_train\"]], TRAIN_TEST_SPLIT)\n",
        "test_samples = df[~df[\"is_train\"]]\n",
        "\n",
        "print(\"Number of training samples: \", len(train_samples))\n",
        "print(\"Number of validation samples: \", len(validation_samples))\n",
        "print(\"Number of hold out test samples: \", len(test_samples))\n",
        "\n",
        "generator_training = ModelNetProvider(train_samples, batch_size=BATCH_SIZE, n_classes=4, sample_size=SAMPLE_SIZE)\n",
        "generator_validation = ModelNetProvider(validation_samples, batch_size=BATCH_SIZE, n_classes=4, sample_size=SAMPLE_SIZE)\n",
        "\n",
        "new_model.compile(optimizer=\"adam\", loss='categorical_crossentropy',\n",
        "              metrics=[\"categorical_accuracy\"])\n",
        "\n",
        "pathname = '/data/My Drive/Colab Notebooks/'\n",
        "callbacks = [\n",
        "    keras.callbacks.LearningRateScheduler(reduce_learning_rate, verbose=1),\n",
        "    keras.callbacks.TensorBoard(\"logs/\", batch_size=BATCH_SIZE),\n",
        "    keras.callbacks.ModelCheckpoint(pathname + \"checkpoints/weights.{epoch:03d}-{val_loss:.2f}.h5\", save_weights_only=True, save_best_only=True),\n",
        "]"
      ],
      "execution_count": 22,
      "outputs": [
        {
          "output_type": "stream",
          "text": [
            "atFraction =  0.8\n",
            "Number of training samples:  1460\n",
            "Number of validation samples:  365\n",
            "Number of hold out test samples:  386\n"
          ],
          "name": "stdout"
        }
      ]
    },
    {
      "cell_type": "code",
      "metadata": {
        "id": "gWhijiq7-mH4",
        "colab_type": "code",
        "outputId": "d1cdd7ba-9bca-4ed1-b7d3-fc69c9271bd5",
        "colab": {
          "base_uri": "https://localhost:8080/",
          "height": 357
        }
      },
      "source": [
        "# train model\n",
        "new_model.fit_generator(generator=generator_training, epochs=EPOCHS, callbacks=callbacks, \n",
        "                    validation_data=generator_validation, use_multiprocessing=False)"
      ],
      "execution_count": 0,
      "outputs": [
        {
          "output_type": "stream",
          "text": [
            "Epoch 1/10\n",
            "\n",
            "Epoch 00001: LearningRateScheduler setting learning rate to 0.0010000000474974513.\n",
            "9/9 [==============================] - 26s 3s/step - loss: 41.1746 - categorical_accuracy: 0.3646 - val_loss: 1.3013 - val_categorical_accuracy: 0.6076\n",
            "Epoch 2/10\n",
            "\n",
            "Epoch 00002: LearningRateScheduler setting learning rate to 0.0010000000474974513.\n",
            "9/9 [==============================] - 21s 2s/step - loss: 58.2494 - categorical_accuracy: 0.3889 - val_loss: 1.2321 - val_categorical_accuracy: 0.6076\n",
            "Epoch 3/10\n",
            "\n",
            "Epoch 00003: LearningRateScheduler setting learning rate to 0.0010000000474974513.\n",
            "9/9 [==============================] - 21s 2s/step - loss: 51.8863 - categorical_accuracy: 0.4236 - val_loss: 1.2221 - val_categorical_accuracy: 0.6076\n",
            "Epoch 4/10\n",
            "\n",
            "Epoch 00004: LearningRateScheduler setting learning rate to 0.0010000000474974513.\n",
            "9/9 [==============================] - 21s 2s/step - loss: 46.8949 - categorical_accuracy: 0.4618 - val_loss: 1.2492 - val_categorical_accuracy: 0.6076\n",
            "Epoch 5/10\n",
            "\n",
            "Epoch 00005: LearningRateScheduler setting learning rate to 0.0010000000474974513.\n",
            "8/9 [=========================>....] - ETA: 1s - loss: 66.7337 - categorical_accuracy: 0.3945"
          ],
          "name": "stdout"
        }
      ]
    },
    {
      "cell_type": "code",
      "metadata": {
        "id": "v3AN6A6r-mH6",
        "colab_type": "code",
        "colab": {}
      },
      "source": [
        "# validate model\n",
        "generator_test = ModelNetProvider(test_samples, batch_size=1, n_classes=4, sample_size=SAMPLE_SIZE)\n",
        "\n",
        "val_df = pd.DataFrame({\"prediction\": [], \"ground_truth\": []})\n",
        "for i in range(len(generator_test)):\n",
        "    X, y = generator_test[i]\n",
        "    prediction = new_model.predict(X)\n",
        "    val_df = val_df.append({\"prediction\": l_idx[np.argmax(prediction)],  \"ground_truth\": l_idx[np.argmax(y)]}, \n",
        "                  ignore_index=True)"
      ],
      "execution_count": 0,
      "outputs": []
    },
    {
      "cell_type": "code",
      "metadata": {
        "id": "rh58mlMo-mH8",
        "colab_type": "code",
        "outputId": "e76292e9-3f2c-4d09-abe3-a58655ea8b12",
        "colab": {
          "base_uri": "https://localhost:8080/",
          "height": 542
        }
      },
      "source": [
        "from sklearn import metrics\n",
        "import seaborn as sns\n",
        "from ipywidgets import interact\n",
        "import matplotlib.pyplot as plt\n",
        "sns.set_context('talk')\n",
        "palette = sns.color_palette(n_colors=6)\n",
        "\n",
        "cm = metrics.confusion_matrix(val_df.ground_truth, val_df.prediction)\n",
        "confusionMatrix = pd.DataFrame(cm, index=l_idx, columns=l_idx)\n",
        "plt.figure(figsize=(10, 8))\n",
        "\n",
        "sns.heatmap(confusionMatrix, vmin=0, annot=True, fmt=\"d\", linewidth=.5, mask=(confusionMatrix==0), cmap=\"viridis\")\n",
        "plt.xlabel(\"Prediction\")\n",
        "plt.ylabel(\"Truth\")\n",
        "plt.ylim(4, 0)"
      ],
      "execution_count": 19,
      "outputs": [
        {
          "output_type": "execute_result",
          "data": {
            "text/plain": [
              "(4, 0)"
            ]
          },
          "metadata": {
            "tags": []
          },
          "execution_count": 19
        },
        {
          "output_type": "display_data",
          "data": {
            "image/png": "[encoded data removed]",
            "text/plain": [
              "<Figure size 720x576 with 2 Axes>"
            ]
          },
          "metadata": {
            "tags": []
          }
        }
      ]
    },
    {
      "cell_type": "code",
      "metadata": {
        "id": "jZoaiG6au-8G",
        "colab_type": "code",
        "colab": {}
      },
      "source": [
        ""
      ],
      "execution_count": 0,
      "outputs": []
    }
  ]
}