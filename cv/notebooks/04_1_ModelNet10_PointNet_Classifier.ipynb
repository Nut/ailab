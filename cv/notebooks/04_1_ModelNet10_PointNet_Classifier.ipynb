{
  "nbformat": 4,
  "nbformat_minor": 0,
  "metadata": {
    "kernelspec": {
      "name": "python3",
      "display_name": "Python 3"
    },
    "language_info": {
      "codemirror_mode": {
        "name": "ipython",
        "version": 3
      },
      "file_extension": ".py",
      "mimetype": "text/x-python",
      "name": "python",
      "nbconvert_exporter": "python",
      "pygments_lexer": "ipython3",
      "version": "3.6.8"
    },
    "pycharm": {
      "stem_cell": {
        "cell_type": "raw",
        "metadata": {
          "collapsed": false
        },
        "source": []
      }
    },
    "colab": {
      "name": "04_1_ModelNet10_PointNet_Classifier.ipynb",
      "provenance": [],
      "collapsed_sections": [],
      "toc_visible": true
    },
    "accelerator": "GPU"
  },
  "cells": [
    {
      "cell_type": "markdown",
      "metadata": {
        "id": "3HkCy0z3-mHS",
        "colab_type": "text"
      },
      "source": [
        "# PointNet Transfer Learning on subset of ModelNet10\n",
        "\n",
        "\n",
        "The ModelNet10 dataset contains 4899 3D Meshes from 10 different classes.\n",
        "\n",
        "The classes are:\n",
        "\n",
        "* bed\n",
        "* monitor\n",
        "* desk\n",
        "* chair\n",
        "* dresser\n",
        "* toilet\n",
        "* sofa\n",
        "* table\n",
        "* night stand\n",
        "* bathttub \n",
        "\n",
        "We provide you a pretrained version of PointNet. It was trained on 6 of the above 10 classes. Your task is to implement the PointNet Model and train it to classify the other 4 classes using transfer learning.\n",
        "\n",
        "The classes to be learnt are:\n",
        "\n",
        "* desk\n",
        "* chair\n",
        "* toilet \n",
        "* table\n",
        "\n",
        "\n",
        "\n",
        "Tasks:\n",
        "* implement the TODOs\n",
        "* transfer learn the PointNet to achieve an Accuracy > 90%\n",
        "Help:\n",
        "* use the PointNet Paper [clickedy](http://stanford.edu/~rqi/pointnet/)\n",
        "* use the Keras API Documentation [clickedy](https://www.keras.io/)"
      ]
    },
    {
      "cell_type": "code",
      "metadata": {
        "id": "TAAoBY90CCyW",
        "colab_type": "code",
        "outputId": "4ca9a66c-f3a4-477e-e478-54dc237264fa",
        "colab": {
          "base_uri": "https://localhost:8080/",
          "height": 122
        }
      },
      "source": [
        "from google.colab import drive\n",
        "drive.mount('/data')\n",
        "\n",
        "# open a file, where you stored the pickled data\n",
        "#file = open('data/text8', 'rb')\n",
        "# file = open('/data/My Drive/Colab Notebooks/data/text8', 'rb')"
      ],
      "execution_count": 1,
      "outputs": [
        {
          "output_type": "stream",
          "text": [
            "Go to this URL in a browser: https://accounts.google.com/o/oauth2/auth?client_id=947318989803-6bn6qk8qdgf4n4g3pfee6491hc0brc4i.apps.googleusercontent.com&redirect_uri=urn%3aietf%3awg%3aoauth%3a2.0%3aoob&response_type=code&scope=email%20https%3a%2f%2fwww.googleapis.com%2fauth%2fdocs.test%20https%3a%2f%2fwww.googleapis.com%2fauth%2fdrive%20https%3a%2f%2fwww.googleapis.com%2fauth%2fdrive.photos.readonly%20https%3a%2f%2fwww.googleapis.com%2fauth%2fpeopleapi.readonly\n",
            "\n",
            "Enter your authorization code:\n",
            "··········\n",
            "Mounted at /data\n"
          ],
          "name": "stdout"
        }
      ]
    },
    {
      "cell_type": "code",
      "metadata": {
        "id": "X-YG9ZSs-mHU",
        "colab_type": "code",
        "outputId": "45e5dbfc-681e-4f81-8bcb-48e19f8ba3ca",
        "colab": {
          "base_uri": "https://localhost:8080/",
          "height": 870
        }
      },
      "source": [
        "# We need Open3D for the preprocessing\n",
        "%pip install keras\n",
        "%pip install open3d"
      ],
      "execution_count": 2,
      "outputs": [
        {
          "output_type": "stream",
          "text": [
            "Requirement already satisfied: keras in /usr/local/lib/python3.6/dist-packages (2.2.5)\n",
            "Requirement already satisfied: h5py in /usr/local/lib/python3.6/dist-packages (from keras) (2.8.0)\n",
            "Requirement already satisfied: scipy>=0.14 in /usr/local/lib/python3.6/dist-packages (from keras) (1.3.2)\n",
            "Requirement already satisfied: numpy>=1.9.1 in /usr/local/lib/python3.6/dist-packages (from keras) (1.17.4)\n",
            "Requirement already satisfied: six>=1.9.0 in /usr/local/lib/python3.6/dist-packages (from keras) (1.12.0)\n",
            "Requirement already satisfied: keras-applications>=1.0.8 in /usr/local/lib/python3.6/dist-packages (from keras) (1.0.8)\n",
            "Requirement already satisfied: pyyaml in /usr/local/lib/python3.6/dist-packages (from keras) (3.13)\n",
            "Requirement already satisfied: keras-preprocessing>=1.1.0 in /usr/local/lib/python3.6/dist-packages (from keras) (1.1.0)\n",
            "Collecting open3d\n",
            "\u001b[?25l  Downloading https://files.pythonhosted.org/packages/d0/75/c029e5cf8b7fd491d71f29cf31b9bf7f4a66dba130314cf5cebc367ffa56/open3d-0.8.0.0-cp36-cp36m-manylinux1_x86_64.whl (2.9MB)\n",
            "\u001b[K     |████████████████████████████████| 2.9MB 2.8MB/s \n",
            "\u001b[?25hRequirement already satisfied: numpy in /usr/local/lib/python3.6/dist-packages (from open3d) (1.17.4)\n",
            "Requirement already satisfied: widgetsnbextension in /usr/local/lib/python3.6/dist-packages (from open3d) (3.5.1)\n",
            "Requirement already satisfied: notebook in /usr/local/lib/python3.6/dist-packages (from open3d) (5.2.2)\n",
            "Requirement already satisfied: ipywidgets in /usr/local/lib/python3.6/dist-packages (from open3d) (7.5.1)\n",
            "Requirement already satisfied: tornado>=4 in /usr/local/lib/python3.6/dist-packages (from notebook->open3d) (4.5.3)\n",
            "Requirement already satisfied: ipython-genutils in /usr/local/lib/python3.6/dist-packages (from notebook->open3d) (0.2.0)\n",
            "Requirement already satisfied: jinja2 in /usr/local/lib/python3.6/dist-packages (from notebook->open3d) (2.10.3)\n",
            "Requirement already satisfied: ipykernel in /usr/local/lib/python3.6/dist-packages (from notebook->open3d) (4.6.1)\n",
            "Requirement already satisfied: jupyter-client in /usr/local/lib/python3.6/dist-packages (from notebook->open3d) (5.3.4)\n",
            "Requirement already satisfied: jupyter-core in /usr/local/lib/python3.6/dist-packages (from notebook->open3d) (4.6.1)\n",
            "Requirement already satisfied: nbformat in /usr/local/lib/python3.6/dist-packages (from notebook->open3d) (4.4.0)\n",
            "Requirement already satisfied: traitlets>=4.2.1 in /usr/local/lib/python3.6/dist-packages (from notebook->open3d) (4.3.3)\n",
            "Requirement already satisfied: nbconvert in /usr/local/lib/python3.6/dist-packages (from notebook->open3d) (5.6.1)\n",
            "Requirement already satisfied: terminado>=0.3.3; sys_platform != \"win32\" in /usr/local/lib/python3.6/dist-packages (from notebook->open3d) (0.8.3)\n",
            "Requirement already satisfied: ipython>=4.0.0; python_version >= \"3.3\" in /usr/local/lib/python3.6/dist-packages (from ipywidgets->open3d) (5.5.0)\n",
            "Requirement already satisfied: MarkupSafe>=0.23 in /usr/local/lib/python3.6/dist-packages (from jinja2->notebook->open3d) (1.1.1)\n",
            "Requirement already satisfied: python-dateutil>=2.1 in /usr/local/lib/python3.6/dist-packages (from jupyter-client->notebook->open3d) (2.6.1)\n",
            "Requirement already satisfied: pyzmq>=13 in /usr/local/lib/python3.6/dist-packages (from jupyter-client->notebook->open3d) (17.0.0)\n",
            "Requirement already satisfied: jsonschema!=2.5.0,>=2.4 in /usr/local/lib/python3.6/dist-packages (from nbformat->notebook->open3d) (2.6.0)\n",
            "Requirement already satisfied: six in /usr/local/lib/python3.6/dist-packages (from traitlets>=4.2.1->notebook->open3d) (1.12.0)\n",
            "Requirement already satisfied: decorator in /usr/local/lib/python3.6/dist-packages (from traitlets>=4.2.1->notebook->open3d) (4.4.1)\n",
            "Requirement already satisfied: bleach in /usr/local/lib/python3.6/dist-packages (from nbconvert->notebook->open3d) (3.1.0)\n",
            "Requirement already satisfied: testpath in /usr/local/lib/python3.6/dist-packages (from nbconvert->notebook->open3d) (0.4.4)\n",
            "Requirement already satisfied: entrypoints>=0.2.2 in /usr/local/lib/python3.6/dist-packages (from nbconvert->notebook->open3d) (0.3)\n",
            "Requirement already satisfied: mistune<2,>=0.8.1 in /usr/local/lib/python3.6/dist-packages (from nbconvert->notebook->open3d) (0.8.4)\n",
            "Requirement already satisfied: pandocfilters>=1.4.1 in /usr/local/lib/python3.6/dist-packages (from nbconvert->notebook->open3d) (1.4.2)\n",
            "Requirement already satisfied: pygments in /usr/local/lib/python3.6/dist-packages (from nbconvert->notebook->open3d) (2.1.3)\n",
            "Requirement already satisfied: defusedxml in /usr/local/lib/python3.6/dist-packages (from nbconvert->notebook->open3d) (0.6.0)\n",
            "Requirement already satisfied: ptyprocess; os_name != \"nt\" in /usr/local/lib/python3.6/dist-packages (from terminado>=0.3.3; sys_platform != \"win32\"->notebook->open3d) (0.6.0)\n",
            "Requirement already satisfied: pickleshare in /usr/local/lib/python3.6/dist-packages (from ipython>=4.0.0; python_version >= \"3.3\"->ipywidgets->open3d) (0.7.5)\n",
            "Requirement already satisfied: setuptools>=18.5 in /usr/local/lib/python3.6/dist-packages (from ipython>=4.0.0; python_version >= \"3.3\"->ipywidgets->open3d) (41.6.0)\n",
            "Requirement already satisfied: simplegeneric>0.8 in /usr/local/lib/python3.6/dist-packages (from ipython>=4.0.0; python_version >= \"3.3\"->ipywidgets->open3d) (0.8.1)\n",
            "Requirement already satisfied: prompt-toolkit<2.0.0,>=1.0.4 in /usr/local/lib/python3.6/dist-packages (from ipython>=4.0.0; python_version >= \"3.3\"->ipywidgets->open3d) (1.0.18)\n",
            "Requirement already satisfied: pexpect; sys_platform != \"win32\" in /usr/local/lib/python3.6/dist-packages (from ipython>=4.0.0; python_version >= \"3.3\"->ipywidgets->open3d) (4.7.0)\n",
            "Requirement already satisfied: webencodings in /usr/local/lib/python3.6/dist-packages (from bleach->nbconvert->notebook->open3d) (0.5.1)\n",
            "Requirement already satisfied: wcwidth in /usr/local/lib/python3.6/dist-packages (from prompt-toolkit<2.0.0,>=1.0.4->ipython>=4.0.0; python_version >= \"3.3\"->ipywidgets->open3d) (0.1.7)\n",
            "Installing collected packages: open3d\n",
            "Successfully installed open3d-0.8.0.0\n"
          ],
          "name": "stdout"
        }
      ]
    },
    {
      "cell_type": "code",
      "metadata": {
        "id": "hzogT0OtU6VX",
        "colab_type": "code",
        "colab": {}
      },
      "source": [
        "# Load the TensorBoard notebook extension\n",
        "%load_ext tensorboard"
      ],
      "execution_count": 0,
      "outputs": []
    },
    {
      "cell_type": "code",
      "metadata": {
        "id": "cy5Pipxu-mHZ",
        "colab_type": "code",
        "outputId": "9a801dac-68e6-4549-a5e8-15ea60519929",
        "colab": {
          "base_uri": "https://localhost:8080/",
          "height": 80
        }
      },
      "source": [
        "import open3d as o3d\n",
        "import os\n",
        "\n",
        "from keras.utils import Sequence, to_categorical\n",
        "import keras\n",
        "\n",
        "import numpy as np\n",
        "import pandas as pd\n",
        "\n",
        "from sklearn.model_selection import train_test_split\n",
        "\n",
        "os.environ[\"CUDA_DEVICE_ORDER\"]=\"PCI_BUS_ID\"\n",
        "os.environ[\"CUDA_VISIBLE_DEVICES\"]=\"\" \n",
        "\n",
        "%load_ext autoreload\n",
        "%matplotlib inline\n",
        "import numpy as np"
      ],
      "execution_count": 4,
      "outputs": [
        {
          "output_type": "stream",
          "text": [
            "Using TensorFlow backend.\n"
          ],
          "name": "stderr"
        },
        {
          "output_type": "display_data",
          "data": {
            "text/html": [
              "<p style=\"color: red;\">\n",
              "The default version of TensorFlow in Colab will soon switch to TensorFlow 2.x.<br>\n",
              "We recommend you <a href=\"https://www.tensorflow.org/guide/migrate\" target=\"_blank\">upgrade</a> now \n",
              "or ensure your notebook will continue to use TensorFlow 1.x via the <code>%tensorflow_version 1.x</code> magic:\n",
              "<a href=\"https://colab.research.google.com/notebooks/tensorflow_version.ipynb\" target=\"_blank\">more info</a>.</p>\n"
            ],
            "text/plain": [
              "<IPython.core.display.HTML object>"
            ]
          },
          "metadata": {
            "tags": []
          }
        }
      ]
    },
    {
      "cell_type": "code",
      "metadata": {
        "id": "hqVa7mrZ-mHc",
        "colab_type": "code",
        "colab": {}
      },
      "source": [
        "%%sh\n",
        "# download ModelNet10\n",
        "wget -q http://3dvision.princeton.edu/projects/2014/3DShapeNets/ModelNet10.zip\n",
        "# unpack\n",
        "unzip -oq ModelNet10.zip\n",
        "# remove Archive\n",
        "rm ModelNet10.zip"
      ],
      "execution_count": 0,
      "outputs": []
    },
    {
      "cell_type": "code",
      "metadata": {
        "id": "sFuJumxA-mHe",
        "colab_type": "code",
        "colab": {}
      },
      "source": [
        "KEEP = [\"chair\", \"desk\", \"toilet\", \"table\"]\n",
        "classes = [f for f in os.scandir(\"ModelNet10/\") if os.path.isdir(f)]\n",
        "\n",
        "import shutil\n",
        "\n",
        "for c in classes:\n",
        "    if c.name not in KEEP:\n",
        "        shutil.rmtree(c.path, ignore_errors=False, onerror=None)"
      ],
      "execution_count": 0,
      "outputs": []
    },
    {
      "cell_type": "markdown",
      "metadata": {
        "id": "DdBoT3hX-mHg",
        "colab_type": "text"
      },
      "source": [
        "##  Part One: Data Provider\n",
        "\n",
        "We use the Keras Sequence API to construct a data provider, which feeds our model during training and validation. Fill in all the ToDos to make it work."
      ]
    },
    {
      "cell_type": "code",
      "metadata": {
        "id": "Ejt6YlHv-mHh",
        "colab_type": "code",
        "colab": {}
      },
      "source": [
        "class ModelNetProvider(Sequence):\n",
        "    \"\"\"\n",
        "    Lazily load point clouds and annotations from filesystem and prepare it for model training.\n",
        "    \"\"\"\n",
        "\n",
        "    def __init__(self, dataset, batch_size, n_classes, sample_size):\n",
        "        self.dataset = dataset\n",
        "        self.batch_size = batch_size\n",
        "        self.n_classes = n_classes\n",
        "        self.sample_size = sample_size\n",
        "\n",
        "        # indices of samples used for shuffling\n",
        "        self.indices = np.arange(len(dataset))\n",
        "\n",
        "        self.on_epoch_end()\n",
        "\n",
        "    def __len__(self):\n",
        "        return self.sample_size // self.batch_size # ToDo: Define the length of the generator (Hint: Number of Steps in one Epoch)\n",
        "\n",
        "    def __getitem__(self, index):\n",
        "        \"\"\"Generate one batch of data.\"\"\"\n",
        "        #index = index * self.batch_size\n",
        "        #batch_indices = np.arange(index, index + self.batch_size) # ToDo: select the indices for the current batch, starting at `index`\n",
        "        batch_indices = self.indices[index * self.batch_size:(index + 1) * self.batch_size]\n",
        "        batch_samples = self.dataset.iloc[batch_indices]\n",
        "\n",
        "        return self.__generate_data(batch_samples)\n",
        "\n",
        "    def __generate_data(self, batch_samples):\n",
        "        X = []\n",
        "        y = []\n",
        "        for i, row in batch_samples.iterrows():\n",
        "            mesh = o3d.io.read_triangle_mesh((row[\"path\"]))\n",
        "            pcd = mesh.sample_points_uniformly(number_of_points=self.sample_size)\n",
        "            points = np.asarray(pcd.points)\n",
        "            mean_points = points.mean(axis=0)\n",
        "            centered_points = np.asarray([point - mean_points for point in points]) # ToDo center the points to origin\n",
        "\n",
        "            max_points = np.abs(points).max()\n",
        "            normalized_points = centered_points / max_points # ToDo normalize the centered points\n",
        "            X.append(normalized_points)\n",
        "            y.append(row[\"class\"])\n",
        "\n",
        "        return self.rotate_point_clouds(np.array(X)), to_categorical(np.array(y), num_classes=self.n_classes)\n",
        "\n",
        "    def on_epoch_end(self):\n",
        "        \"\"\"Shuffle training data, so batches are in different order\"\"\"\n",
        "        np.random.shuffle(self.indices)\n",
        "        \n",
        "        \n",
        "    def rotate_point_clouds(self, batch, rotation_angle_range=(-np.pi/8, np.pi/8)):\n",
        "        \"\"\"Rotate point cloud around y-axis (=up) by random angle\"\"\"\n",
        "        for b, pc in enumerate(batch):\n",
        "            phi = np.random.uniform(*rotation_angle_range)\n",
        "            c, s = np.cos(phi), np.sin(phi)\n",
        "            R = np.matrix([[c, 0, s],\n",
        "                           [0, 1, 0],\n",
        "                           [-s, 0, c]])\n",
        "            batch[b, :, :3] = np.dot(pc[:, :3], R)\n",
        "        return batch"
      ],
      "execution_count": 0,
      "outputs": []
    },
    {
      "cell_type": "code",
      "metadata": {
        "id": "pzLVchzC-mHm",
        "colab_type": "code",
        "colab": {}
      },
      "source": [
        "def initialize_dataset(data_directory, file_extension=\".off\"):\n",
        "    \"\"\"\n",
        "    Loads an index to all files and structures them.\n",
        "    :param data_directory: directory containing the data files\n",
        "    :param file_extension: extension of the data files\n",
        "    :return: pandas dataframe containing an index to all files and a label index, \n",
        "        mapping numerical label representations to label names.\n",
        "    \"\"\"\n",
        "    files = [\n",
        "        os.path.join(r, f)  \n",
        "            for r, d, fs in os.walk(data_directory) \n",
        "            for f in fs if f.endswith(file_extension)\n",
        "        ]\n",
        "    \n",
        "    dataframe = pd.DataFrame({\n",
        "        \"path\": files,\n",
        "        \"class\": pd.Categorical([f.rsplit(\"/\", 3)[1] for f in files]),\n",
        "        \"is_train\": [\"train\" in f for f in files]\n",
        "    })\n",
        "    \n",
        "    factorization = dataframe[\"class\"].factorize()\n",
        "    dataframe[\"class\"] = factorization[0]\n",
        "    \n",
        "    return dataframe, factorization[1]\n"
      ],
      "execution_count": 0,
      "outputs": []
    },
    {
      "cell_type": "code",
      "metadata": {
        "id": "QNpPlK-y-mHj",
        "colab_type": "code",
        "cellView": "both",
        "outputId": "5ab1cd5f-dc8b-494a-e32b-1cd9aa5dfb52",
        "colab": {
          "base_uri": "https://localhost:8080/",
          "height": 54
        }
      },
      "source": [
        "\"\"\"df, l_idx = initialize_dataset(\"ModelNet10/\")\n",
        "batch_indices = np.arange(0, 3) # ToDo: select the indices for the current batch, starting at `index`\n",
        "batch_samples = df.iloc[[5]]\n",
        "print(batch_indices)\n",
        "\n",
        "X = []\n",
        "y = []\n",
        "for i, row in batch_samples.iterrows():\n",
        "    mesh = o3d.io.read_triangle_mesh((row[\"path\"]))\n",
        "    pcd = mesh.sample_points_uniformly(number_of_points=500)\n",
        "    points = np.asarray(pcd.points)\n",
        "    #print(points.mean(axis=0))\n",
        "    #print(points)\n",
        "    mean_points = points.mean(axis=0)\n",
        "    centered_points = np.asarray([point - mean_points for point in points]) # ToDo center the points to origin\n",
        "    \n",
        "    max_points = np.abs(points).max(axis=0)\n",
        "    normalized_points = centered_points / max_points # ToDo normalize the centered points\n",
        "    X.append(normalized_points)\n",
        "    y.append(row[\"class\"])\n",
        "\n",
        "print(normalized_points)\n",
        "#[-0.01174359  2.37781578 -0.59867143]\n",
        "#[-0.07872658  1.99953358 -1.0851834 ]\"\"\""
      ],
      "execution_count": 9,
      "outputs": [
        {
          "output_type": "execute_result",
          "data": {
            "text/plain": [
              "'df, l_idx = initialize_dataset(\"ModelNet10/\")\\nbatch_indices = np.arange(0, 3) # ToDo: select the indices for the current batch, starting at `index`\\nbatch_samples = df.iloc[[5]]\\nprint(batch_indices)\\n\\nX = []\\ny = []\\nfor i, row in batch_samples.iterrows():\\n    mesh = o3d.io.read_triangle_mesh((row[\"path\"]))\\n    pcd = mesh.sample_points_uniformly(number_of_points=500)\\n    points = np.asarray(pcd.points)\\n    #print(points.mean(axis=0))\\n    #print(points)\\n    mean_points = points.mean(axis=0)\\n    centered_points = np.asarray([point - mean_points for point in points]) # ToDo center the points to origin\\n    \\n    max_points = np.abs(points).max(axis=0)\\n    normalized_points = centered_points / max_points # ToDo normalize the centered points\\n    X.append(normalized_points)\\n    y.append(row[\"class\"])\\n\\nprint(normalized_points)\\n#[-0.01174359  2.37781578 -0.59867143]\\n#[-0.07872658  1.99953358 -1.0851834 ]'"
            ]
          },
          "metadata": {
            "tags": []
          },
          "execution_count": 9
        }
      ]
    },
    {
      "cell_type": "code",
      "metadata": {
        "id": "_3xQhz7pb6Ql",
        "colab_type": "code",
        "outputId": "e77e5160-279d-48b6-98cd-638b1da3b163",
        "colab": {
          "base_uri": "https://localhost:8080/",
          "height": 54
        }
      },
      "source": [
        "\"\"\"from mpl_toolkits.mplot3d import Axes3D\n",
        "import matplotlib.pyplot as plt\n",
        "from matplotlib import cm\n",
        "from matplotlib.ticker import LinearLocator, FormatStrFormatter\n",
        "import numpy as np\n",
        "\n",
        "X = []\n",
        "Y = []\n",
        "Z = []\n",
        "\n",
        "for row in points:\n",
        "  X.append(row[0])\n",
        "  Y.append(row[1])\n",
        "  Z.append(row[2])\n",
        "\n",
        "fig = plt.figure()\n",
        "ax = fig.gca(projection='3d')\n",
        "surf = ax.scatter(X, Y, Z)\n",
        "#surf = ax.plot_surface(X, Y, Z, cmap=cm.coolwarm,\n",
        "#                       linewidth=0, antialiased=False)\"\"\""
      ],
      "execution_count": 10,
      "outputs": [
        {
          "output_type": "execute_result",
          "data": {
            "text/plain": [
              "\"from mpl_toolkits.mplot3d import Axes3D\\nimport matplotlib.pyplot as plt\\nfrom matplotlib import cm\\nfrom matplotlib.ticker import LinearLocator, FormatStrFormatter\\nimport numpy as np\\n\\nX = []\\nY = []\\nZ = []\\n\\nfor row in points:\\n  X.append(row[0])\\n  Y.append(row[1])\\n  Z.append(row[2])\\n\\nfig = plt.figure()\\nax = fig.gca(projection='3d')\\nsurf = ax.scatter(X, Y, Z)\\n#surf = ax.plot_surface(X, Y, Z, cmap=cm.coolwarm,\\n#                       linewidth=0, antialiased=False)\""
            ]
          },
          "metadata": {
            "tags": []
          },
          "execution_count": 10
        }
      ]
    },
    {
      "cell_type": "markdown",
      "metadata": {
        "id": "zEzA-iAM-mHo",
        "colab_type": "text"
      },
      "source": [
        "## Part Two: PointNet Architecture\n",
        "\n",
        "Implement all the missing code pieces to complete the whole architecture. Follow the description in the paper or use the image below. If your model definition is right, you should be able to load our pretrained weigths without an error. \n",
        "\n",
        "We provided the definition of the T-Net, so you don't need to implement it on your own. If you are interested in the implementation details, just have a look at the pointnet_utils.py file."
      ]
    },
    {
      "cell_type": "markdown",
      "metadata": {
        "id": "AnSXcCD5-mHp",
        "colab_type": "text"
      },
      "source": [
        "![PointNet Architecture](http://stanford.edu/~rqi/pointnet/images/pointnet.jpg)"
      ]
    },
    {
      "cell_type": "code",
      "metadata": {
        "id": "DWn9DIgU-mHp",
        "colab_type": "code",
        "colab": {}
      },
      "source": [
        "from keras import backend as K\n",
        "from keras.layers import Input, Dropout, Dense, Dot, Lambda, \\\n",
        "    Reshape, concatenate, GlobalMaxPooling1D, BatchNormalization, \\\n",
        "    Activation, Conv1D, Multiply\n",
        "from keras.models import Model\n",
        "\n",
        "\n",
        "from pointnet_utils import transform_net\n",
        "\n",
        "def conv1d_bn(x, num_filters, kernel_size, padding='same', strides=1,\n",
        "              use_bias=False, scope=None, activation='relu'):\n",
        "    \"\"\"\n",
        "    Utility function to apply Convolution + Batch Normalization.\n",
        "    \"\"\"\n",
        "    with K.name_scope(scope):\n",
        "        input_shape = x.get_shape().as_list()[-2:]\n",
        "        x = Conv1D(input_shape=input_shape, filters=num_filters, kernel_size=kernel_size, padding=padding, strides=strides,\n",
        "              use_bias=use_bias, activation=activation)(x) # ToDo define the Convolutional Part of this Layer\n",
        "        x = BatchNormalization()(x) # ToDo add BatchNormalization\n",
        "        x = Activation(activation)(x) # ToDo add activation function\n",
        "    return x\n",
        "\n",
        "\n",
        "def dense_bn(x, units, use_bias=True, scope=None, activation=None):\n",
        "    \"\"\"\n",
        "    Utility function to apply Dense + Batch Normalization.\n",
        "    \"\"\"\n",
        "    with K.name_scope(scope):\n",
        "        x = Dense(units, use_bias=use_bias, activation=activation)(x)# ToDo Add Dense Part of this Layer\n",
        "        x = BatchNormalization()(x) # ToDo add BatchNormalization\n",
        "        x = Activation(activation)(x) # ToDo add activation function\n",
        "    return x\n"
      ],
      "execution_count": 0,
      "outputs": []
    },
    {
      "cell_type": "code",
      "metadata": {
        "id": "_YbxoIOn-mHs",
        "colab_type": "code",
        "colab": {}
      },
      "source": [
        "def pointnet(input_shape, classes):\n",
        "    \"\"\"\n",
        "    PointNet Model definition for classification.\n",
        "    :param input_shape: The point cloud shape\n",
        "    :param classes: Number of classes in output.\n",
        "    :return: PointNet Model for classification with `classes` classes.\n",
        "    \"\"\"\n",
        "    # Generate input tensor\n",
        "    inputs = Input(shape=input_shape)# ToDo define Input-Layer\n",
        "\n",
        "    # Obtain spatial point transform from inputs and convert inputs\n",
        "    ptransform = transform_net(inputs, dense_bn, conv1d_bn, scope='transform_net1', regularize=False)\n",
        "    point_cloud_transformed = Dot(axes = (2, 1))([inputs, ptransform]) # ToDo Perform the matrix multiply between ptransform and inputs\n",
        "\n",
        "    # First block of convolutions\n",
        "    net = conv1d_bn(point_cloud_transformed, num_filters=64, kernel_size=(1), scope='First_block', use_bias=True) # ToDo, define first Conv-Layer\n",
        "    net = conv1d_bn(net, num_filters=64, kernel_size=(1), scope='First_block', use_bias=True)# ToDo, define second Conv-Layer\n",
        "\n",
        "    # Obtain feature transform and apply it to the network\n",
        "    ftransform = transform_net(net, dense_bn, conv1d_bn, scope='transform_net2', regularize=True)\n",
        "    net_transformed = Dot(axes = (2, 1))([net, ftransform])# ToDo Perform the matrix multiply between ftransform and net\n",
        "\n",
        "    # Second block of convolutions\n",
        "    net = conv1d_bn(net_transformed, num_filters=64, kernel_size=(1), scope='Second_block', use_bias=True) # ToDo, define third Conv-Layer\n",
        "    net = conv1d_bn(net, num_filters=128, kernel_size=(1), scope='Second_block', use_bias=True) # ToDo, define fourth Conv-Layer\n",
        "    net = conv1d_bn(net, num_filters=1024, kernel_size=(1), scope='Second_block', use_bias=True) # ToDo, define fifth Conv-Layer\n",
        "\n",
        "    # add Maxpooling \n",
        "    net = GlobalMaxPooling1D()(net)# Todo define MaxPool Layer\n",
        "\n",
        "    # Top layers\n",
        "    net = dense_bn(net, 512, scope='embedding_layer')# ToDo, define first Dense-Layer\n",
        "    net = Dropout(0.2)(net) # ToDo, define first Dropout-Layer\n",
        "    net = dense_bn(net, 256, scope='embedding_layer')# ToDo, define second Dense-Layer\n",
        "    net = Dropout(0.2)(net)# ToDo, define second Dropout-Layer\n",
        "    #net = dense_bn(net, classes, scope='embedding_layer', activation = 'softmax')# ToDo, define third Dense-Layer\n",
        "    net = Dense(units=classes, use_bias=True, activation='softmax')(net)\n",
        "\n",
        "    model = Model(inputs, net, name='pointnet')\n",
        "\n",
        "    return model"
      ],
      "execution_count": 0,
      "outputs": []
    },
    {
      "cell_type": "markdown",
      "metadata": {
        "id": "mdxPaxJi-mHu",
        "colab_type": "text"
      },
      "source": [
        "## Part Three: Transfer Learning of the PointNet\n",
        "\n",
        "Load the pretrained weigths for PointNet and change the output to four classes. Define all Hyperparameters and implement the train/test and your own learning rate scheduling algorithm. "
      ]
    },
    {
      "cell_type": "code",
      "metadata": {
        "scrolled": false,
        "id": "hgXsHbFw-mHv",
        "colab_type": "code",
        "outputId": "4870d20b-f885-4516-c264-fbf2f130cf33",
        "colab": {
          "base_uri": "https://localhost:8080/",
          "height": 1000
        }
      },
      "source": [
        "pretrained_model = pointnet((None, 3), 6)\n",
        "# pretrained_model.summary()\n",
        "pretrained_model.load_weights(\"/data/My Drive/Colab Notebooks/pretrained-modelnet.h5\")\n",
        "\n",
        "# print(pretrained_model.layers[-1].weights)\n",
        "# print(pretrained_model.inputs)\n",
        "# print(pretrained_model.outputs)\n",
        "\n",
        "# We need to replace the last layer, because it was trained to predict 6 classes instead of 4.\n",
        "embedding_layer = pretrained_model.layers[-2] # ToDo find \"embedding layer\" (The layer before the old softmax layer)\n",
        "outputs = Dense(units=4, use_bias=True, activation='softmax')(embedding_layer.output) # ToDo Define new Output Layer\n",
        "new_model = Model(inputs=pretrained_model.inputs, outputs=outputs)\n",
        "\n",
        "new_model.summary()"
      ],
      "execution_count": 14,
      "outputs": [
        {
          "output_type": "stream",
          "text": [
            "WARNING:tensorflow:From /usr/local/lib/python3.6/dist-packages/keras/backend/tensorflow_backend.py:66: The name tf.get_default_graph is deprecated. Please use tf.compat.v1.get_default_graph instead.\n",
            "\n",
            "WARNING:tensorflow:From /usr/local/lib/python3.6/dist-packages/keras/backend/tensorflow_backend.py:541: The name tf.placeholder is deprecated. Please use tf.compat.v1.placeholder instead.\n",
            "\n",
            "WARNING:tensorflow:From /usr/local/lib/python3.6/dist-packages/keras/backend/tensorflow_backend.py:4432: The name tf.random_uniform is deprecated. Please use tf.random.uniform instead.\n",
            "\n",
            "WARNING:tensorflow:From /usr/local/lib/python3.6/dist-packages/keras/backend/tensorflow_backend.py:148: The name tf.placeholder_with_default is deprecated. Please use tf.compat.v1.placeholder_with_default instead.\n",
            "\n",
            "WARNING:tensorflow:From /usr/local/lib/python3.6/dist-packages/keras/backend/tensorflow_backend.py:3733: calling dropout (from tensorflow.python.ops.nn_ops) with keep_prob is deprecated and will be removed in a future version.\n",
            "Instructions for updating:\n",
            "Please use `rate` instead of `keep_prob`. Rate should be set to `rate = 1 - keep_prob`.\n",
            "WARNING:tensorflow:From /usr/local/lib/python3.6/dist-packages/keras/backend/tensorflow_backend.py:190: The name tf.get_default_session is deprecated. Please use tf.compat.v1.get_default_session instead.\n",
            "\n",
            "WARNING:tensorflow:From /usr/local/lib/python3.6/dist-packages/keras/backend/tensorflow_backend.py:197: The name tf.ConfigProto is deprecated. Please use tf.compat.v1.ConfigProto instead.\n",
            "\n",
            "WARNING:tensorflow:From /usr/local/lib/python3.6/dist-packages/keras/backend/tensorflow_backend.py:203: The name tf.Session is deprecated. Please use tf.compat.v1.Session instead.\n",
            "\n",
            "WARNING:tensorflow:From /usr/local/lib/python3.6/dist-packages/keras/backend/tensorflow_backend.py:207: The name tf.global_variables is deprecated. Please use tf.compat.v1.global_variables instead.\n",
            "\n",
            "WARNING:tensorflow:From /usr/local/lib/python3.6/dist-packages/keras/backend/tensorflow_backend.py:216: The name tf.is_variable_initialized is deprecated. Please use tf.compat.v1.is_variable_initialized instead.\n",
            "\n",
            "WARNING:tensorflow:From /usr/local/lib/python3.6/dist-packages/keras/backend/tensorflow_backend.py:223: The name tf.variables_initializer is deprecated. Please use tf.compat.v1.variables_initializer instead.\n",
            "\n",
            "Model: \"model_1\"\n",
            "__________________________________________________________________________________________________\n",
            "Layer (type)                    Output Shape         Param #     Connected to                     \n",
            "==================================================================================================\n",
            "input_1 (InputLayer)            (None, None, 3)      0                                            \n",
            "__________________________________________________________________________________________________\n",
            "conv1d_1 (Conv1D)               (None, None, 64)     256         input_1[0][0]                    \n",
            "__________________________________________________________________________________________________\n",
            "batch_normalization_1 (BatchNor (None, None, 64)     256         conv1d_1[0][0]                   \n",
            "__________________________________________________________________________________________________\n",
            "activation_1 (Activation)       (None, None, 64)     0           batch_normalization_1[0][0]      \n",
            "__________________________________________________________________________________________________\n",
            "conv1d_2 (Conv1D)               (None, None, 128)    8320        activation_1[0][0]               \n",
            "__________________________________________________________________________________________________\n",
            "batch_normalization_2 (BatchNor (None, None, 128)    512         conv1d_2[0][0]                   \n",
            "__________________________________________________________________________________________________\n",
            "activation_2 (Activation)       (None, None, 128)    0           batch_normalization_2[0][0]      \n",
            "__________________________________________________________________________________________________\n",
            "conv1d_3 (Conv1D)               (None, None, 1024)   132096      activation_2[0][0]               \n",
            "__________________________________________________________________________________________________\n",
            "batch_normalization_3 (BatchNor (None, None, 1024)   4096        conv1d_3[0][0]                   \n",
            "__________________________________________________________________________________________________\n",
            "activation_3 (Activation)       (None, None, 1024)   0           batch_normalization_3[0][0]      \n",
            "__________________________________________________________________________________________________\n",
            "global_max_pooling1d_1 (GlobalM (None, 1024)         0           activation_3[0][0]               \n",
            "__________________________________________________________________________________________________\n",
            "dense_1 (Dense)                 (None, 512)          524800      global_max_pooling1d_1[0][0]     \n",
            "__________________________________________________________________________________________________\n",
            "batch_normalization_4 (BatchNor (None, 512)          2048        dense_1[0][0]                    \n",
            "__________________________________________________________________________________________________\n",
            "activation_4 (Activation)       (None, 512)          0           batch_normalization_4[0][0]      \n",
            "__________________________________________________________________________________________________\n",
            "dense_2 (Dense)                 (None, 256)          131328      activation_4[0][0]               \n",
            "__________________________________________________________________________________________________\n",
            "batch_normalization_5 (BatchNor (None, 256)          1024        dense_2[0][0]                    \n",
            "__________________________________________________________________________________________________\n",
            "activation_5 (Activation)       (None, 256)          0           batch_normalization_5[0][0]      \n",
            "__________________________________________________________________________________________________\n",
            "dense_3 (Dense)                 (None, 9)            2313        activation_5[0][0]               \n",
            "__________________________________________________________________________________________________\n",
            "reshape_1 (Reshape)             (None, 3, 3)         0           dense_3[0][0]                    \n",
            "__________________________________________________________________________________________________\n",
            "dot_1 (Dot)                     (None, None, 3)      0           input_1[0][0]                    \n",
            "                                                                 reshape_1[0][0]                  \n",
            "__________________________________________________________________________________________________\n",
            "conv1d_4 (Conv1D)               (None, None, 64)     256         dot_1[0][0]                      \n",
            "__________________________________________________________________________________________________\n",
            "batch_normalization_6 (BatchNor (None, None, 64)     256         conv1d_4[0][0]                   \n",
            "__________________________________________________________________________________________________\n",
            "activation_6 (Activation)       (None, None, 64)     0           batch_normalization_6[0][0]      \n",
            "__________________________________________________________________________________________________\n",
            "conv1d_5 (Conv1D)               (None, None, 64)     4160        activation_6[0][0]               \n",
            "__________________________________________________________________________________________________\n",
            "batch_normalization_7 (BatchNor (None, None, 64)     256         conv1d_5[0][0]                   \n",
            "__________________________________________________________________________________________________\n",
            "activation_7 (Activation)       (None, None, 64)     0           batch_normalization_7[0][0]      \n",
            "__________________________________________________________________________________________________\n",
            "conv1d_6 (Conv1D)               (None, None, 64)     4160        activation_7[0][0]               \n",
            "__________________________________________________________________________________________________\n",
            "batch_normalization_8 (BatchNor (None, None, 64)     256         conv1d_6[0][0]                   \n",
            "__________________________________________________________________________________________________\n",
            "activation_8 (Activation)       (None, None, 64)     0           batch_normalization_8[0][0]      \n",
            "__________________________________________________________________________________________________\n",
            "conv1d_7 (Conv1D)               (None, None, 128)    8320        activation_8[0][0]               \n",
            "__________________________________________________________________________________________________\n",
            "batch_normalization_9 (BatchNor (None, None, 128)    512         conv1d_7[0][0]                   \n",
            "__________________________________________________________________________________________________\n",
            "activation_9 (Activation)       (None, None, 128)    0           batch_normalization_9[0][0]      \n",
            "__________________________________________________________________________________________________\n",
            "conv1d_8 (Conv1D)               (None, None, 1024)   132096      activation_9[0][0]               \n",
            "__________________________________________________________________________________________________\n",
            "batch_normalization_10 (BatchNo (None, None, 1024)   4096        conv1d_8[0][0]                   \n",
            "__________________________________________________________________________________________________\n",
            "activation_10 (Activation)      (None, None, 1024)   0           batch_normalization_10[0][0]     \n",
            "__________________________________________________________________________________________________\n",
            "global_max_pooling1d_2 (GlobalM (None, 1024)         0           activation_10[0][0]              \n",
            "__________________________________________________________________________________________________\n",
            "dense_4 (Dense)                 (None, 512)          524800      global_max_pooling1d_2[0][0]     \n",
            "__________________________________________________________________________________________________\n",
            "batch_normalization_11 (BatchNo (None, 512)          2048        dense_4[0][0]                    \n",
            "__________________________________________________________________________________________________\n",
            "activation_11 (Activation)      (None, 512)          0           batch_normalization_11[0][0]     \n",
            "__________________________________________________________________________________________________\n",
            "dense_5 (Dense)                 (None, 256)          131328      activation_11[0][0]              \n",
            "__________________________________________________________________________________________________\n",
            "batch_normalization_12 (BatchNo (None, 256)          1024        dense_5[0][0]                    \n",
            "__________________________________________________________________________________________________\n",
            "activation_12 (Activation)      (None, 256)          0           batch_normalization_12[0][0]     \n",
            "__________________________________________________________________________________________________\n",
            "dense_6 (Dense)                 (None, 4096)         1052672     activation_12[0][0]              \n",
            "__________________________________________________________________________________________________\n",
            "reshape_2 (Reshape)             (None, 64, 64)       0           dense_6[0][0]                    \n",
            "__________________________________________________________________________________________________\n",
            "dot_2 (Dot)                     (None, None, 64)     0           activation_7[0][0]               \n",
            "                                                                 reshape_2[0][0]                  \n",
            "__________________________________________________________________________________________________\n",
            "conv1d_9 (Conv1D)               (None, None, 64)     4160        dot_2[0][0]                      \n",
            "__________________________________________________________________________________________________\n",
            "batch_normalization_13 (BatchNo (None, None, 64)     256         conv1d_9[0][0]                   \n",
            "__________________________________________________________________________________________________\n",
            "activation_13 (Activation)      (None, None, 64)     0           batch_normalization_13[0][0]     \n",
            "__________________________________________________________________________________________________\n",
            "conv1d_10 (Conv1D)              (None, None, 128)    8320        activation_13[0][0]              \n",
            "__________________________________________________________________________________________________\n",
            "batch_normalization_14 (BatchNo (None, None, 128)    512         conv1d_10[0][0]                  \n",
            "__________________________________________________________________________________________________\n",
            "activation_14 (Activation)      (None, None, 128)    0           batch_normalization_14[0][0]     \n",
            "__________________________________________________________________________________________________\n",
            "conv1d_11 (Conv1D)              (None, None, 1024)   132096      activation_14[0][0]              \n",
            "__________________________________________________________________________________________________\n",
            "batch_normalization_15 (BatchNo (None, None, 1024)   4096        conv1d_11[0][0]                  \n",
            "__________________________________________________________________________________________________\n",
            "activation_15 (Activation)      (None, None, 1024)   0           batch_normalization_15[0][0]     \n",
            "__________________________________________________________________________________________________\n",
            "global_max_pooling1d_3 (GlobalM (None, 1024)         0           activation_15[0][0]              \n",
            "__________________________________________________________________________________________________\n",
            "dense_7 (Dense)                 (None, 512)          524800      global_max_pooling1d_3[0][0]     \n",
            "__________________________________________________________________________________________________\n",
            "batch_normalization_16 (BatchNo (None, 512)          2048        dense_7[0][0]                    \n",
            "__________________________________________________________________________________________________\n",
            "activation_16 (Activation)      (None, 512)          0           batch_normalization_16[0][0]     \n",
            "__________________________________________________________________________________________________\n",
            "dropout_1 (Dropout)             (None, 512)          0           activation_16[0][0]              \n",
            "__________________________________________________________________________________________________\n",
            "dense_8 (Dense)                 (None, 256)          131328      dropout_1[0][0]                  \n",
            "__________________________________________________________________________________________________\n",
            "batch_normalization_17 (BatchNo (None, 256)          1024        dense_8[0][0]                    \n",
            "__________________________________________________________________________________________________\n",
            "activation_17 (Activation)      (None, 256)          0           batch_normalization_17[0][0]     \n",
            "__________________________________________________________________________________________________\n",
            "dropout_2 (Dropout)             (None, 256)          0           activation_17[0][0]              \n",
            "__________________________________________________________________________________________________\n",
            "dense_10 (Dense)                (None, 4)            1028        dropout_2[0][0]                  \n",
            "==================================================================================================\n",
            "Total params: 3,482,957\n",
            "Trainable params: 3,470,797\n",
            "Non-trainable params: 12,160\n",
            "__________________________________________________________________________________________________\n"
          ],
          "name": "stdout"
        }
      ]
    },
    {
      "cell_type": "code",
      "metadata": {
        "id": "tlg0WkA8TESz",
        "colab_type": "code",
        "colab": {}
      },
      "source": [
        "#for layer in new_model.layers[:-1]:\n",
        "#  layer.trainable = False\n",
        "\n",
        "#new_model.layers[-9].trainable = True\n",
        "\n",
        "#for layer in new_model.layers:\n",
        "#   print(layer.name, layer.trainable)"
      ],
      "execution_count": 0,
      "outputs": []
    },
    {
      "cell_type": "code",
      "metadata": {
        "id": "NOeEbFZG-mHx",
        "colab_type": "code",
        "colab": {}
      },
      "source": [
        "# TODO: Define Hyperparameters\n",
        "SAMPLE_SIZE = 500\n",
        "EPOCHS = 25\n",
        "TRAIN_TEST_SPLIT = 0.8\n",
        "BATCH_SIZE = 10"
      ],
      "execution_count": 0,
      "outputs": []
    },
    {
      "cell_type": "code",
      "metadata": {
        "id": "xdETiQNE-mHz",
        "colab_type": "code",
        "colab": {}
      },
      "source": [
        "import math\n",
        "from sklearn.utils import shuffle\n",
        "\n",
        "def random_split(samples, atFraction):\n",
        "    \"\"\"\n",
        "    Perform the train/test split.\n",
        "    \"\"\"\n",
        "    print(\"atFraction = \", atFraction)\n",
        "    # ToDo perform the train/test split.\n",
        "    #samples = shuffle(samples)\n",
        "    return train_test_split(samples, train_size=atFraction, shuffle=True)\n",
        "\n",
        "\n",
        "def reduce_learning_rate(epoch, currentLearningRate):\n",
        "    \"\"\"\n",
        "    Implements adaptive learning rate scheduling.\n",
        "    \n",
        "    drop = 0.5\n",
        "    epochs_drop = 2.0\n",
        "    lrate = currentLearningRate * math.pow(drop,math.floor((1+epoch)/epochs_drop))\n",
        "    return lrate\n",
        "    \n",
        "    \"\"\"\n",
        "    decay_rate = 0.1\n",
        "    decay_step = 5\n",
        "    if epoch % decay_step == 0 and epoch:\n",
        "        return currentLearningRate * decay_rate #/ (epoch + 1)#\n",
        "    return currentLearningRate\n"
      ],
      "execution_count": 0,
      "outputs": []
    },
    {
      "cell_type": "code",
      "metadata": {
        "id": "mIMx3tEP-mH1",
        "colab_type": "code",
        "outputId": "85d5f0df-f06b-4224-dc49-f8e453bb3592",
        "colab": {
          "base_uri": "https://localhost:8080/",
          "height": 187
        }
      },
      "source": [
        "df, l_idx = initialize_dataset(\"ModelNet10/\")\n",
        "\n",
        "train_samples, validation_samples = random_split(df[df[\"is_train\"]], TRAIN_TEST_SPLIT)\n",
        "test_samples = df[~df[\"is_train\"]]\n",
        "\n",
        "print(df.head())\n",
        "\n",
        "print(\"Number of training samples: \", len(train_samples))\n",
        "print(\"Number of validation samples: \", len(validation_samples))\n",
        "print(\"Number of hold out test samples: \", len(test_samples))\n",
        "\n",
        "generator_training = ModelNetProvider(train_samples, batch_size=BATCH_SIZE, n_classes=4, sample_size=SAMPLE_SIZE)\n",
        "generator_validation = ModelNetProvider(validation_samples, batch_size=BATCH_SIZE, n_classes=4, sample_size=len(validation_samples))\n",
        "\n",
        "new_model.compile(optimizer=\"adam\", loss='categorical_crossentropy',\n",
        "              metrics=[\"categorical_accuracy\"])\n",
        "\n",
        "pathname = '/data/My Drive/Colab Notebooks/'\n",
        "\n",
        "callbacks = [\n",
        "    keras.callbacks.LearningRateScheduler(reduce_learning_rate, verbose=1),\n",
        "    keras.callbacks.TensorBoard(\"logs/\", batch_size=BATCH_SIZE),\n",
        "    keras.callbacks.ModelCheckpoint(pathname + \"checkpoints/weights.{epoch:03d}-{val_loss:.2f}.h5\", save_weights_only=True, save_best_only=True),\n",
        "    #tbCallBack\n",
        "]"
      ],
      "execution_count": 35,
      "outputs": [
        {
          "output_type": "stream",
          "text": [
            "atFraction =  0.8\n",
            "                                 path  class  is_train\n",
            "0  ModelNet10/desk/test/desk_0270.off      0     False\n",
            "1  ModelNet10/desk/test/desk_0242.off      0     False\n",
            "2  ModelNet10/desk/test/desk_0259.off      0     False\n",
            "3  ModelNet10/desk/test/desk_0277.off      0     False\n",
            "4  ModelNet10/desk/test/desk_0261.off      0     False\n",
            "Number of training samples:  1460\n",
            "Number of validation samples:  365\n",
            "Number of hold out test samples:  386\n"
          ],
          "name": "stdout"
        }
      ]
    },
    {
      "cell_type": "code",
      "metadata": {
        "id": "gWhijiq7-mH4",
        "colab_type": "code",
        "outputId": "0fb0d05d-f143-41ff-e506-8fc163d22dad",
        "colab": {
          "base_uri": "https://localhost:8080/",
          "height": 1000
        }
      },
      "source": [
        "# train model\n",
        "new_model.fit_generator(generator=generator_training, epochs=EPOCHS, callbacks=callbacks, \n",
        "                    validation_data=generator_validation, use_multiprocessing=False, shuffle=True)"
      ],
      "execution_count": 36,
      "outputs": [
        {
          "output_type": "stream",
          "text": [
            "Epoch 1/25\n",
            "\n",
            "Epoch 00001: LearningRateScheduler setting learning rate to 0.0010000000474974513.\n",
            "50/50 [==============================] - 69s 1s/step - loss: 0.9035 - categorical_accuracy: 0.7420 - val_loss: 184.8860 - val_categorical_accuracy: 0.6500\n",
            "Epoch 2/25\n",
            "\n",
            "Epoch 00002: LearningRateScheduler setting learning rate to 0.0010000000474974513.\n",
            "50/50 [==============================] - 61s 1s/step - loss: 0.9833 - categorical_accuracy: 0.6960 - val_loss: 300355.3147 - val_categorical_accuracy: 0.6472\n",
            "Epoch 3/25\n",
            "\n",
            "Epoch 00003: LearningRateScheduler setting learning rate to 0.0010000000474974513.\n",
            "50/50 [==============================] - 61s 1s/step - loss: 0.8661 - categorical_accuracy: 0.6820 - val_loss: 1334.3152 - val_categorical_accuracy: 0.5333\n",
            "Epoch 4/25\n",
            "\n",
            "Epoch 00004: LearningRateScheduler setting learning rate to 0.0010000000474974513.\n",
            "50/50 [==============================] - 62s 1s/step - loss: 0.7927 - categorical_accuracy: 0.7160 - val_loss: 8.2733 - val_categorical_accuracy: 0.7750\n",
            "Epoch 5/25\n",
            "\n",
            "Epoch 00005: LearningRateScheduler setting learning rate to 0.0010000000474974513.\n",
            "50/50 [==============================] - 62s 1s/step - loss: 0.6314 - categorical_accuracy: 0.7900 - val_loss: 33.5938 - val_categorical_accuracy: 0.7778\n",
            "Epoch 6/25\n",
            "\n",
            "Epoch 00006: LearningRateScheduler setting learning rate to 0.00010000000474974513.\n",
            "50/50 [==============================] - 62s 1s/step - loss: 0.6083 - categorical_accuracy: 0.8060 - val_loss: 3.1466 - val_categorical_accuracy: 0.8472\n",
            "Epoch 7/25\n",
            "\n",
            "Epoch 00007: LearningRateScheduler setting learning rate to 0.00010000000474974513.\n",
            "50/50 [==============================] - 59s 1s/step - loss: 0.5397 - categorical_accuracy: 0.8140 - val_loss: 0.9263 - val_categorical_accuracy: 0.8750\n",
            "Epoch 8/25\n",
            "\n",
            "Epoch 00008: LearningRateScheduler setting learning rate to 0.00010000000474974513.\n",
            "50/50 [==============================] - 58s 1s/step - loss: 0.4632 - categorical_accuracy: 0.8640 - val_loss: 0.8127 - val_categorical_accuracy: 0.8639\n",
            "Epoch 9/25\n",
            "\n",
            "Epoch 00009: LearningRateScheduler setting learning rate to 0.00010000000474974513.\n",
            "50/50 [==============================] - 59s 1s/step - loss: 0.4534 - categorical_accuracy: 0.8520 - val_loss: 0.7064 - val_categorical_accuracy: 0.8750\n",
            "Epoch 10/25\n",
            "\n",
            "Epoch 00010: LearningRateScheduler setting learning rate to 0.00010000000474974513.\n",
            "50/50 [==============================] - 57s 1s/step - loss: 0.4731 - categorical_accuracy: 0.8580 - val_loss: 0.4324 - val_categorical_accuracy: 0.8778\n",
            "Epoch 11/25\n",
            "\n",
            "Epoch 00011: LearningRateScheduler setting learning rate to 1.0000000474974514e-05.\n",
            "50/50 [==============================] - 58s 1s/step - loss: 0.4635 - categorical_accuracy: 0.8440 - val_loss: 0.5342 - val_categorical_accuracy: 0.8750\n",
            "Epoch 12/25\n",
            "\n",
            "Epoch 00012: LearningRateScheduler setting learning rate to 1.0000000656873453e-05.\n",
            "50/50 [==============================] - 57s 1s/step - loss: 0.4403 - categorical_accuracy: 0.8560 - val_loss: 280.8819 - val_categorical_accuracy: 0.8694\n",
            "Epoch 13/25\n",
            "\n",
            "Epoch 00013: LearningRateScheduler setting learning rate to 1.0000000656873453e-05.\n",
            "50/50 [==============================] - 58s 1s/step - loss: 0.4162 - categorical_accuracy: 0.8580 - val_loss: 5.2316 - val_categorical_accuracy: 0.8889\n",
            "Epoch 14/25\n",
            "\n",
            "Epoch 00014: LearningRateScheduler setting learning rate to 1.0000000656873453e-05.\n",
            "50/50 [==============================] - 56s 1s/step - loss: 0.4493 - categorical_accuracy: 0.8500 - val_loss: 0.4147 - val_categorical_accuracy: 0.8889\n",
            "Epoch 15/25\n",
            "\n",
            "Epoch 00015: LearningRateScheduler setting learning rate to 1.0000000656873453e-05.\n",
            "50/50 [==============================] - 57s 1s/step - loss: 0.4725 - categorical_accuracy: 0.8460 - val_loss: 0.4456 - val_categorical_accuracy: 0.8806\n",
            "Epoch 16/25\n",
            "\n",
            "Epoch 00016: LearningRateScheduler setting learning rate to 1.0000000656873453e-06.\n",
            "50/50 [==============================] - 56s 1s/step - loss: 0.4289 - categorical_accuracy: 0.8440 - val_loss: 0.4711 - val_categorical_accuracy: 0.8917\n",
            "Epoch 17/25\n",
            "\n",
            "Epoch 00017: LearningRateScheduler setting learning rate to 1.0000001111620804e-06.\n",
            "50/50 [==============================] - 57s 1s/step - loss: 0.4095 - categorical_accuracy: 0.8800 - val_loss: 0.4310 - val_categorical_accuracy: 0.8944\n",
            "Epoch 18/25\n",
            "\n",
            "Epoch 00018: LearningRateScheduler setting learning rate to 1.0000001111620804e-06.\n",
            "50/50 [==============================] - 55s 1s/step - loss: 0.4545 - categorical_accuracy: 0.8540 - val_loss: 0.5006 - val_categorical_accuracy: 0.8750\n",
            "Epoch 19/25\n",
            "\n",
            "Epoch 00019: LearningRateScheduler setting learning rate to 1.0000001111620804e-06.\n",
            "50/50 [==============================] - 57s 1s/step - loss: 0.4902 - categorical_accuracy: 0.8500 - val_loss: 0.4981 - val_categorical_accuracy: 0.8972\n",
            "Epoch 20/25\n",
            "\n",
            "Epoch 00020: LearningRateScheduler setting learning rate to 1.0000001111620804e-06.\n",
            "50/50 [==============================] - 56s 1s/step - loss: 0.5478 - categorical_accuracy: 0.8140 - val_loss: 0.4999 - val_categorical_accuracy: 0.8917\n",
            "Epoch 21/25\n",
            "\n",
            "Epoch 00021: LearningRateScheduler setting learning rate to 1.0000001111620805e-07.\n",
            "50/50 [==============================] - 54s 1s/step - loss: 0.4120 - categorical_accuracy: 0.8600 - val_loss: 0.8963 - val_categorical_accuracy: 0.8861\n",
            "Epoch 22/25\n",
            "\n",
            "Epoch 00022: LearningRateScheduler setting learning rate to 1.000000082740371e-07.\n",
            "50/50 [==============================] - 56s 1s/step - loss: 0.5105 - categorical_accuracy: 0.8160 - val_loss: 0.5276 - val_categorical_accuracy: 0.8972\n",
            "Epoch 23/25\n",
            "\n",
            "Epoch 00023: LearningRateScheduler setting learning rate to 1.000000082740371e-07.\n",
            "50/50 [==============================] - 55s 1s/step - loss: 0.4204 - categorical_accuracy: 0.8620 - val_loss: 0.4207 - val_categorical_accuracy: 0.8861\n",
            "Epoch 24/25\n",
            "\n",
            "Epoch 00024: LearningRateScheduler setting learning rate to 1.000000082740371e-07.\n",
            "50/50 [==============================] - 56s 1s/step - loss: 0.4492 - categorical_accuracy: 0.8620 - val_loss: 0.4807 - val_categorical_accuracy: 0.8806\n",
            "Epoch 25/25\n",
            "\n",
            "Epoch 00025: LearningRateScheduler setting learning rate to 1.000000082740371e-07.\n",
            "50/50 [==============================] - 56s 1s/step - loss: 0.3884 - categorical_accuracy: 0.8720 - val_loss: 0.6923 - val_categorical_accuracy: 0.9111\n"
          ],
          "name": "stdout"
        },
        {
          "output_type": "execute_result",
          "data": {
            "text/plain": [
              "<keras.callbacks.History at 0x7f5ce4bcfa20>"
            ]
          },
          "metadata": {
            "tags": []
          },
          "execution_count": 36
        }
      ]
    },
    {
      "cell_type": "code",
      "metadata": {
        "id": "v3AN6A6r-mH6",
        "colab_type": "code",
        "colab": {}
      },
      "source": [
        "# validate model\n",
        "generator_test = ModelNetProvider(test_samples, batch_size=1, n_classes=4, sample_size=len(test_samples))\n",
        "\n",
        "val_df = pd.DataFrame({\"prediction\": [], \"ground_truth\": []})\n",
        "for i in range(len(generator_test)):\n",
        "    X, y = generator_test[i]\n",
        "    prediction = new_model.predict(X)\n",
        "    val_df = val_df.append({\"prediction\": l_idx[np.argmax(prediction)],  \"ground_truth\": l_idx[np.argmax(y)]}, \n",
        "                  ignore_index=True)"
      ],
      "execution_count": 0,
      "outputs": []
    },
    {
      "cell_type": "code",
      "metadata": {
        "id": "rh58mlMo-mH8",
        "colab_type": "code",
        "colab": {
          "base_uri": "https://localhost:8080/",
          "height": 535
        },
        "outputId": "c9aed50e-d3f1-432a-bf84-8500f1c6d56b"
      },
      "source": [
        "from sklearn import metrics\n",
        "import seaborn as sns\n",
        "from ipywidgets import interact\n",
        "import matplotlib.pyplot as plt\n",
        "sns.set_context('talk')\n",
        "palette = sns.color_palette(n_colors=6)\n",
        "\n",
        "cm = metrics.confusion_matrix(val_df.ground_truth, val_df.prediction)\n",
        "confusionMatrix = pd.DataFrame(cm, index=l_idx, columns=l_idx)\n",
        "plt.figure(figsize=(10, 8))\n",
        "\n",
        "sns.heatmap(confusionMatrix, vmin=0, annot=True, fmt=\"d\", linewidth=.5, mask=(confusionMatrix==0), cmap=\"viridis\")\n",
        "plt.xlabel(\"Prediction\")\n",
        "plt.ylabel(\"Truth\")\n",
        "plt.ylim(4, 0)"
      ],
      "execution_count": 38,
      "outputs": [
        {
          "output_type": "execute_result",
          "data": {
            "text/plain": [
              "(4, 0)"
            ]
          },
          "metadata": {
            "tags": []
          },
          "execution_count": 38
        },
        {
          "output_type": "display_data",
          "data": {
            "image/png": "[encoded data removed]",
            "text/plain": [
              "<Figure size 720x576 with 2 Axes>"
            ]
          },
          "metadata": {
            "tags": []
          }
        }
      ]
    },
    {
      "cell_type": "code",
      "metadata": {
        "id": "SAToWvNlZmBw",
        "colab_type": "code",
        "colab": {}
      },
      "source": [
        ""
      ],
      "execution_count": 0,
      "outputs": []
    }
  ]
}