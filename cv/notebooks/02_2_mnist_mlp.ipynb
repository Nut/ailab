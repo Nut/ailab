{
 "cells": [
  {
   "cell_type": "markdown",
   "metadata": {},
   "source": [
    "# MNIST Multilayer-Perceptron\n",
    "\n",
    "Implementation of a Multilayer Perceptron Network for the classification of handwritten digits.\n",
    "This example is using the MNIST database of handwritten digits\n",
    "(http://yann.lecun.com/exdb/mnist/).\n",
    "\n",
    "The notebook already provides the required functionality to download the dataset. Your task is to implement the missing steps in the training process, test various configurations and finally train a MLP to achieve a high test accuracy.\n",
    "\n",
    "Tasks:\n",
    "- implement the TODOs\n",
    "- run the script so that training starts\n",
    "- try overfitting a fixed set of images\n",
    "- test different network architectures and parameters\n",
    "    - number of hidden layers\n",
    "    - number of neurons\n",
    "    - different optimizers\n",
    "    - learning rate\n",
    "    - adding dropout layer\n",
    "    - normalize data\n",
    "- achieve high test accuracy\n",
    "\n",
    "Help:\n",
    "- use the TensorFlow API Documentation [https://www.tensorflow.org/api_docs/](https://www.tensorflow.org/api_docs/)"
   ]
  },
  {
   "cell_type": "code",
   "execution_count": 17,
   "metadata": {},
   "outputs": [],
   "source": [
    "import tensorflow as tf\n",
    "import numpy as np"
   ]
  },
  {
   "cell_type": "code",
   "execution_count": 18,
   "metadata": {},
   "outputs": [],
   "source": [
    "# imports MNIST data\n",
    "(x_train, y_train), (x_test, y_test) = tf.keras.datasets.mnist.load_data()"
   ]
  },
  {
   "cell_type": "code",
   "execution_count": 19,
   "metadata": {},
   "outputs": [
    {
     "name": "stdout",
     "output_type": "stream",
     "text": [
      "\n",
      "\n",
      "5 0 4 1 9 \n",
      "\n",
      "2 1 3 1 4 \n",
      "\n",
      "3 5 3 6 1 "
     ]
    }
   ],
   "source": [
    "# print first 16 labels\n",
    "for i in range(15):\n",
    "    if i % 5 == 0:\n",
    "        print(\"\\n\")\n",
    "    print(y_train[i], end=' ')"
   ]
  },
  {
   "cell_type": "code",
   "execution_count": 20,
   "metadata": {},
   "outputs": [
    {
     "data": {
      "image/png": "[encoded data removed]",
      "text/plain": [
       "<Figure size 432x288 with 15 Axes>"
      ]
     },
     "metadata": {
      "needs_background": "light"
     },
     "output_type": "display_data"
    }
   ],
   "source": [
    "# plots the first 16 entries in the train set\n",
    "import matplotlib.pyplot as plt\n",
    "\n",
    "for i in range(15):\n",
    "    plt.subplot(3, 5, i + 1)\n",
    "    plt.imshow(x_train[i], cmap='gray')"
   ]
  },
  {
   "cell_type": "code",
   "execution_count": 21,
   "metadata": {},
   "outputs": [
    {
     "data": {
      "text/plain": [
       "784"
      ]
     },
     "execution_count": 21,
     "metadata": {},
     "output_type": "execute_result"
    }
   ],
   "source": [
    "x_train.shape[1] * x_train.shape[2]"
   ]
  },
  {
   "cell_type": "code",
   "execution_count": 22,
   "metadata": {},
   "outputs": [],
   "source": [
    "# TODO: define input and output network parameters\n",
    "n_input = x_train.shape[1] * x_train.shape[2] # MNIST data input\n",
    "n_classes =  10 # MNIST total classes"
   ]
  },
  {
   "cell_type": "code",
   "execution_count": 23,
   "metadata": {},
   "outputs": [],
   "source": [
    "# TODO: reshape images\n",
    "x_train = np.asarray([np.reshape(x, n_input) for x in x_train])\n",
    "x_test = np.asarray([np.reshape(x, n_input) for x in x_test])"
   ]
  },
  {
   "cell_type": "code",
   "execution_count": 24,
   "metadata": {},
   "outputs": [],
   "source": [
    "# one hot encoding of labels\n",
    "def one_hot_encode(a, length):\n",
    "    temp = np.zeros((a.shape[0], length))\n",
    "    temp[np.arange(a.shape[0]), a] = 1\n",
    "    return temp\n",
    "\n",
    "y_train = one_hot_encode(y_train, n_classes)\n",
    "y_test = one_hot_encode(y_test, n_classes)"
   ]
  },
  {
   "cell_type": "code",
   "execution_count": 25,
   "metadata": {},
   "outputs": [],
   "source": [
    "# TODO: define hyper parameters\n",
    "learning_rate = 0.01\n",
    "training_iters = 20\n",
    "batch_size = 60\n",
    "display_step = 100"
   ]
  },
  {
   "cell_type": "code",
   "execution_count": 26,
   "metadata": {},
   "outputs": [],
   "source": [
    "# placeholder\n",
    "x = tf.placeholder(tf.float32, [None, n_input])\n",
    "y = tf.placeholder(tf.float32, [None, n_classes])\n",
    "\n",
    "input = tf.reshape(x, shape=[-1, 28, 28, 1]) "
   ]
  },
  {
   "cell_type": "code",
   "execution_count": 27,
   "metadata": {},
   "outputs": [],
   "source": [
    "# MLP definition\n",
    "flatten = tf.layers.flatten(input) # input layer\n",
    "\n",
    "# TODO: define hidden layers\n",
    "firstFully = tf.layers.dense(flatten, 500, activation=\"relu\")\n",
    "dropout = tf.layers.dense(firstFully, 200, activation=\"relu\")\n",
    "\n",
    "pred = tf.layers.dense(dropout, 10, activation=tf.nn.softmax) # output layer"
   ]
  },
  {
   "cell_type": "code",
   "execution_count": 28,
   "metadata": {},
   "outputs": [],
   "source": [
    "# define cost\n",
    "cost = tf.reduce_mean(tf.losses.softmax_cross_entropy(y, pred))"
   ]
  },
  {
   "cell_type": "code",
   "execution_count": 29,
   "metadata": {},
   "outputs": [],
   "source": [
    "# TODO: define optimizer\n",
    "optimizer = tf.train.GradientDescentOptimizer(learning_rate).minimize(cost)"
   ]
  },
  {
   "cell_type": "code",
   "execution_count": 30,
   "metadata": {},
   "outputs": [],
   "source": [
    "# evaluate model\n",
    "correct_pred = tf.equal(tf.argmax(pred, 1), tf.argmax(y, 1))\n",
    "accuracy = tf.reduce_mean(tf.cast(correct_pred, tf.float32))"
   ]
  },
  {
   "cell_type": "code",
   "execution_count": 33,
   "metadata": {},
   "outputs": [
    {
     "name": "stdout",
     "output_type": "stream",
     "text": [
      "Iter 6000, Minibatch Loss= 2.377380, Training Accuracy= 0.08333\n",
      "Iter 12000, Minibatch Loss= 2.213177, Training Accuracy= 0.25000\n",
      "Iter 18000, Minibatch Loss= 2.211646, Training Accuracy= 0.25000\n",
      "Iter 24000, Minibatch Loss= 2.011040, Training Accuracy= 0.45000\n",
      "Iter 30000, Minibatch Loss= 2.094409, Training Accuracy= 0.36667\n",
      "Iter 36000, Minibatch Loss= 1.944453, Training Accuracy= 0.51667\n",
      "Iter 42000, Minibatch Loss= 2.077243, Training Accuracy= 0.38333\n",
      "Iter 48000, Minibatch Loss= 2.061150, Training Accuracy= 0.40000\n",
      "Iter 54000, Minibatch Loss= 1.811148, Training Accuracy= 0.65000\n",
      "Iter 60000, Minibatch Loss= 1.850982, Training Accuracy= 0.61017\n",
      "Iter 6000, Minibatch Loss= 1.877654, Training Accuracy= 0.58333\n",
      "Iter 12000, Minibatch Loss= 1.811146, Training Accuracy= 0.65000\n",
      "Iter 18000, Minibatch Loss= 1.827371, Training Accuracy= 0.63333\n",
      "Iter 24000, Minibatch Loss= 1.844474, Training Accuracy= 0.61667\n",
      "Iter 30000, Minibatch Loss= 2.044204, Training Accuracy= 0.41667\n",
      "Iter 36000, Minibatch Loss= 1.808261, Training Accuracy= 0.65000\n",
      "Iter 42000, Minibatch Loss= 1.944461, Training Accuracy= 0.51667\n",
      "Iter 48000, Minibatch Loss= 1.893639, Training Accuracy= 0.56667\n",
      "Iter 54000, Minibatch Loss= 1.761128, Training Accuracy= 0.70000\n",
      "Iter 60000, Minibatch Loss= 1.783184, Training Accuracy= 0.67797\n",
      "Iter 6000, Minibatch Loss= 1.827808, Training Accuracy= 0.63333\n",
      "Iter 12000, Minibatch Loss= 1.844400, Training Accuracy= 0.61667\n",
      "Iter 18000, Minibatch Loss= 1.811147, Training Accuracy= 0.65000\n",
      "Iter 24000, Minibatch Loss= 1.827210, Training Accuracy= 0.63333\n",
      "Iter 30000, Minibatch Loss= 1.927817, Training Accuracy= 0.53333\n",
      "Iter 36000, Minibatch Loss= 1.843958, Training Accuracy= 0.61667\n",
      "Iter 42000, Minibatch Loss= 1.911147, Training Accuracy= 0.55000\n",
      "Iter 48000, Minibatch Loss= 1.894481, Training Accuracy= 0.56667\n",
      "Iter 54000, Minibatch Loss= 1.761067, Training Accuracy= 0.70000\n",
      "Iter 60000, Minibatch Loss= 1.800133, Training Accuracy= 0.66102\n",
      "Iter 6000, Minibatch Loss= 1.844463, Training Accuracy= 0.61667\n",
      "Iter 12000, Minibatch Loss= 1.827646, Training Accuracy= 0.63333\n",
      "Iter 18000, Minibatch Loss= 1.827645, Training Accuracy= 0.63333\n",
      "Iter 24000, Minibatch Loss= 1.811155, Training Accuracy= 0.65000\n",
      "Iter 30000, Minibatch Loss= 1.944483, Training Accuracy= 0.51667\n",
      "Iter 36000, Minibatch Loss= 1.794397, Training Accuracy= 0.66667\n",
      "Iter 42000, Minibatch Loss= 1.894483, Training Accuracy= 0.56667\n",
      "Iter 48000, Minibatch Loss= 1.861150, Training Accuracy= 0.60000\n",
      "Iter 54000, Minibatch Loss= 1.777817, Training Accuracy= 0.68333\n",
      "Iter 60000, Minibatch Loss= 1.782990, Training Accuracy= 0.67797\n",
      "Iter 6000, Minibatch Loss= 1.827786, Training Accuracy= 0.63333\n",
      "Iter 12000, Minibatch Loss= 1.794427, Training Accuracy= 0.66667\n",
      "Iter 18000, Minibatch Loss= 1.794242, Training Accuracy= 0.66667\n",
      "Iter 24000, Minibatch Loss= 1.810963, Training Accuracy= 0.65000\n",
      "Iter 30000, Minibatch Loss= 1.927601, Training Accuracy= 0.53333\n",
      "Iter 36000, Minibatch Loss= 1.794124, Training Accuracy= 0.66667\n",
      "Iter 42000, Minibatch Loss= 1.894374, Training Accuracy= 0.56667\n",
      "Iter 48000, Minibatch Loss= 1.877817, Training Accuracy= 0.58333\n",
      "Iter 54000, Minibatch Loss= 1.777323, Training Accuracy= 0.68333\n",
      "Iter 60000, Minibatch Loss= 1.816988, Training Accuracy= 0.64407\n",
      "Iter 6000, Minibatch Loss= 1.827816, Training Accuracy= 0.63333\n",
      "Iter 12000, Minibatch Loss= 1.777817, Training Accuracy= 0.68333\n",
      "Iter 18000, Minibatch Loss= 1.827814, Training Accuracy= 0.63333\n",
      "Iter 24000, Minibatch Loss= 1.811150, Training Accuracy= 0.65000\n",
      "Iter 30000, Minibatch Loss= 1.911149, Training Accuracy= 0.55000\n",
      "Iter 36000, Minibatch Loss= 1.760709, Training Accuracy= 0.70000\n",
      "Iter 42000, Minibatch Loss= 1.894481, Training Accuracy= 0.56667\n",
      "Iter 48000, Minibatch Loss= 1.893662, Training Accuracy= 0.56667\n",
      "Iter 54000, Minibatch Loss= 1.743960, Training Accuracy= 0.71667\n",
      "Iter 60000, Minibatch Loss= 1.834031, Training Accuracy= 0.62712\n",
      "Iter 6000, Minibatch Loss= 1.827809, Training Accuracy= 0.63333\n",
      "Iter 12000, Minibatch Loss= 1.777232, Training Accuracy= 0.68333\n",
      "Iter 18000, Minibatch Loss= 1.794432, Training Accuracy= 0.66667\n",
      "Iter 24000, Minibatch Loss= 1.805026, Training Accuracy= 0.65000\n",
      "Iter 30000, Minibatch Loss= 1.927813, Training Accuracy= 0.53333\n",
      "Iter 36000, Minibatch Loss= 1.777558, Training Accuracy= 0.68333\n",
      "Iter 42000, Minibatch Loss= 1.877598, Training Accuracy= 0.58333\n",
      "Iter 48000, Minibatch Loss= 1.894482, Training Accuracy= 0.56667\n",
      "Iter 54000, Minibatch Loss= 1.744429, Training Accuracy= 0.71667\n",
      "Iter 60000, Minibatch Loss= 1.783184, Training Accuracy= 0.67797\n",
      "Iter 6000, Minibatch Loss= 1.810546, Training Accuracy= 0.65000\n",
      "Iter 12000, Minibatch Loss= 1.794387, Training Accuracy= 0.66667\n",
      "Iter 18000, Minibatch Loss= 1.794483, Training Accuracy= 0.66667\n",
      "Iter 24000, Minibatch Loss= 1.811150, Training Accuracy= 0.65000\n",
      "Iter 30000, Minibatch Loss= 1.927704, Training Accuracy= 0.53333\n",
      "Iter 36000, Minibatch Loss= 1.777617, Training Accuracy= 0.68333\n",
      "Iter 42000, Minibatch Loss= 1.877739, Training Accuracy= 0.58333\n",
      "Iter 48000, Minibatch Loss= 1.877817, Training Accuracy= 0.58333\n",
      "Iter 54000, Minibatch Loss= 1.727772, Training Accuracy= 0.73333\n",
      "Iter 60000, Minibatch Loss= 1.783065, Training Accuracy= 0.67797\n",
      "Iter 6000, Minibatch Loss= 1.828752, Training Accuracy= 0.63333\n",
      "Iter 12000, Minibatch Loss= 1.794483, Training Accuracy= 0.66667\n",
      "Iter 18000, Minibatch Loss= 1.811111, Training Accuracy= 0.65000\n",
      "Iter 24000, Minibatch Loss= 1.810457, Training Accuracy= 0.65000\n",
      "Iter 30000, Minibatch Loss= 1.910526, Training Accuracy= 0.55000\n",
      "Iter 36000, Minibatch Loss= 1.777071, Training Accuracy= 0.68333\n",
      "Iter 42000, Minibatch Loss= 1.894380, Training Accuracy= 0.56667\n",
      "Iter 48000, Minibatch Loss= 1.808139, Training Accuracy= 0.65000\n",
      "Iter 54000, Minibatch Loss= 1.761141, Training Accuracy= 0.70000\n",
      "Iter 60000, Minibatch Loss= 1.783148, Training Accuracy= 0.67797\n",
      "Iter 6000, Minibatch Loss= 1.827817, Training Accuracy= 0.63333\n",
      "Iter 12000, Minibatch Loss= 1.777398, Training Accuracy= 0.68333\n",
      "Iter 18000, Minibatch Loss= 1.794483, Training Accuracy= 0.66667\n",
      "Iter 24000, Minibatch Loss= 1.810671, Training Accuracy= 0.65000\n",
      "Iter 30000, Minibatch Loss= 1.943605, Training Accuracy= 0.51667\n",
      "Iter 36000, Minibatch Loss= 1.761131, Training Accuracy= 0.70000\n",
      "Iter 42000, Minibatch Loss= 1.861074, Training Accuracy= 0.60000\n",
      "Iter 48000, Minibatch Loss= 1.843804, Training Accuracy= 0.61667\n",
      "Iter 54000, Minibatch Loss= 1.727805, Training Accuracy= 0.73333\n",
      "Iter 60000, Minibatch Loss= 1.783166, Training Accuracy= 0.67797\n",
      "Iter 6000, Minibatch Loss= 1.811149, Training Accuracy= 0.65000\n",
      "Iter 12000, Minibatch Loss= 1.760564, Training Accuracy= 0.70000\n",
      "Iter 18000, Minibatch Loss= 1.794483, Training Accuracy= 0.66667\n",
      "Iter 24000, Minibatch Loss= 1.811150, Training Accuracy= 0.65000\n",
      "Iter 30000, Minibatch Loss= 1.911151, Training Accuracy= 0.55000\n",
      "Iter 36000, Minibatch Loss= 1.760933, Training Accuracy= 0.70000\n",
      "Iter 42000, Minibatch Loss= 1.911128, Training Accuracy= 0.55000\n",
      "Iter 48000, Minibatch Loss= 1.827227, Training Accuracy= 0.63333\n",
      "Iter 54000, Minibatch Loss= 1.727220, Training Accuracy= 0.73333\n",
      "Iter 60000, Minibatch Loss= 1.799509, Training Accuracy= 0.66102\n",
      "Iter 6000, Minibatch Loss= 1.827549, Training Accuracy= 0.63333\n",
      "Iter 12000, Minibatch Loss= 1.761150, Training Accuracy= 0.70000\n",
      "Iter 18000, Minibatch Loss= 1.794483, Training Accuracy= 0.66667\n",
      "Iter 24000, Minibatch Loss= 1.811106, Training Accuracy= 0.65000\n",
      "Iter 30000, Minibatch Loss= 1.927817, Training Accuracy= 0.53333\n",
      "Iter 36000, Minibatch Loss= 1.761137, Training Accuracy= 0.70000\n",
      "Iter 42000, Minibatch Loss= 1.877787, Training Accuracy= 0.58333\n",
      "Iter 48000, Minibatch Loss= 1.827815, Training Accuracy= 0.63333\n",
      "Iter 54000, Minibatch Loss= 1.744483, Training Accuracy= 0.71667\n",
      "Iter 60000, Minibatch Loss= 1.782695, Training Accuracy= 0.67797\n",
      "Iter 6000, Minibatch Loss= 1.811121, Training Accuracy= 0.65000\n",
      "Iter 12000, Minibatch Loss= 1.777817, Training Accuracy= 0.68333\n",
      "Iter 18000, Minibatch Loss= 1.810864, Training Accuracy= 0.65000\n",
      "Iter 24000, Minibatch Loss= 1.811150, Training Accuracy= 0.65000\n",
      "Iter 30000, Minibatch Loss= 1.910618, Training Accuracy= 0.55000\n",
      "Iter 36000, Minibatch Loss= 1.777348, Training Accuracy= 0.68333\n",
      "Iter 42000, Minibatch Loss= 1.894482, Training Accuracy= 0.56667\n"
     ]
    },
    {
     "name": "stdout",
     "output_type": "stream",
     "text": [
      "Iter 48000, Minibatch Loss= 1.843759, Training Accuracy= 0.61667\n",
      "Iter 54000, Minibatch Loss= 1.727266, Training Accuracy= 0.73333\n",
      "Iter 60000, Minibatch Loss= 1.783180, Training Accuracy= 0.67797\n",
      "Iter 6000, Minibatch Loss= 1.811150, Training Accuracy= 0.65000\n",
      "Iter 12000, Minibatch Loss= 1.761125, Training Accuracy= 0.70000\n",
      "Iter 18000, Minibatch Loss= 1.811150, Training Accuracy= 0.65000\n",
      "Iter 24000, Minibatch Loss= 1.811149, Training Accuracy= 0.65000\n",
      "Iter 30000, Minibatch Loss= 1.909943, Training Accuracy= 0.55000\n",
      "Iter 36000, Minibatch Loss= 1.777817, Training Accuracy= 0.68333\n",
      "Iter 42000, Minibatch Loss= 1.894436, Training Accuracy= 0.56667\n",
      "Iter 48000, Minibatch Loss= 1.877808, Training Accuracy= 0.58333\n",
      "Iter 54000, Minibatch Loss= 1.744483, Training Accuracy= 0.71667\n",
      "Iter 60000, Minibatch Loss= 1.783184, Training Accuracy= 0.67797\n",
      "Iter 6000, Minibatch Loss= 1.810631, Training Accuracy= 0.65000\n",
      "Iter 12000, Minibatch Loss= 1.761150, Training Accuracy= 0.70000\n",
      "Iter 18000, Minibatch Loss= 1.794443, Training Accuracy= 0.66667\n",
      "Iter 24000, Minibatch Loss= 1.809563, Training Accuracy= 0.65000\n",
      "Iter 30000, Minibatch Loss= 1.911150, Training Accuracy= 0.55000\n",
      "Iter 36000, Minibatch Loss= 1.794479, Training Accuracy= 0.66667\n",
      "Iter 42000, Minibatch Loss= 1.927814, Training Accuracy= 0.53333\n",
      "Iter 48000, Minibatch Loss= 1.811085, Training Accuracy= 0.65000\n",
      "Iter 54000, Minibatch Loss= 1.727817, Training Accuracy= 0.73333\n",
      "Iter 60000, Minibatch Loss= 1.783183, Training Accuracy= 0.67797\n",
      "Iter 6000, Minibatch Loss= 1.811150, Training Accuracy= 0.65000\n",
      "Iter 12000, Minibatch Loss= 1.794445, Training Accuracy= 0.66667\n",
      "Iter 18000, Minibatch Loss= 1.794481, Training Accuracy= 0.66667\n",
      "Iter 24000, Minibatch Loss= 1.794483, Training Accuracy= 0.66667\n",
      "Iter 30000, Minibatch Loss= 1.910868, Training Accuracy= 0.55000\n",
      "Iter 36000, Minibatch Loss= 1.761125, Training Accuracy= 0.70000\n",
      "Iter 42000, Minibatch Loss= 1.911150, Training Accuracy= 0.55000\n",
      "Iter 48000, Minibatch Loss= 1.811103, Training Accuracy= 0.65000\n",
      "Iter 54000, Minibatch Loss= 1.727817, Training Accuracy= 0.73333\n",
      "Iter 60000, Minibatch Loss= 1.783184, Training Accuracy= 0.67797\n",
      "Iter 6000, Minibatch Loss= 1.811131, Training Accuracy= 0.65000\n",
      "Iter 12000, Minibatch Loss= 1.793842, Training Accuracy= 0.66667\n",
      "Iter 18000, Minibatch Loss= 1.811147, Training Accuracy= 0.65000\n",
      "Iter 24000, Minibatch Loss= 1.794483, Training Accuracy= 0.66667\n",
      "Iter 30000, Minibatch Loss= 1.894478, Training Accuracy= 0.56667\n",
      "Iter 36000, Minibatch Loss= 1.761135, Training Accuracy= 0.70000\n",
      "Iter 42000, Minibatch Loss= 1.877689, Training Accuracy= 0.58333\n",
      "Iter 48000, Minibatch Loss= 1.827786, Training Accuracy= 0.63333\n",
      "Iter 54000, Minibatch Loss= 1.727817, Training Accuracy= 0.73333\n",
      "Iter 60000, Minibatch Loss= 1.783184, Training Accuracy= 0.67797\n",
      "Iter 6000, Minibatch Loss= 1.811149, Training Accuracy= 0.65000\n",
      "Iter 12000, Minibatch Loss= 1.761150, Training Accuracy= 0.70000\n",
      "Iter 18000, Minibatch Loss= 1.794468, Training Accuracy= 0.66667\n",
      "Iter 24000, Minibatch Loss= 1.794483, Training Accuracy= 0.66667\n",
      "Iter 30000, Minibatch Loss= 1.894478, Training Accuracy= 0.56667\n",
      "Iter 36000, Minibatch Loss= 1.744482, Training Accuracy= 0.71667\n",
      "Iter 42000, Minibatch Loss= 1.894483, Training Accuracy= 0.56667\n",
      "Iter 48000, Minibatch Loss= 1.794486, Training Accuracy= 0.66667\n",
      "Iter 54000, Minibatch Loss= 1.743875, Training Accuracy= 0.71667\n",
      "Iter 60000, Minibatch Loss= 1.782720, Training Accuracy= 0.67797\n",
      "Iter 6000, Minibatch Loss= 1.827816, Training Accuracy= 0.63333\n",
      "Iter 12000, Minibatch Loss= 1.777816, Training Accuracy= 0.68333\n",
      "Iter 18000, Minibatch Loss= 1.794453, Training Accuracy= 0.66667\n",
      "Iter 24000, Minibatch Loss= 1.794183, Training Accuracy= 0.66667\n",
      "Iter 30000, Minibatch Loss= 1.910964, Training Accuracy= 0.55000\n",
      "Iter 36000, Minibatch Loss= 1.743913, Training Accuracy= 0.71667\n",
      "Iter 42000, Minibatch Loss= 1.894235, Training Accuracy= 0.56667\n",
      "Iter 48000, Minibatch Loss= 1.794483, Training Accuracy= 0.66667\n",
      "Iter 54000, Minibatch Loss= 1.727816, Training Accuracy= 0.73333\n",
      "Iter 60000, Minibatch Loss= 1.783181, Training Accuracy= 0.67797\n",
      "Optimization Finished!\n",
      "Test Loss= 1.802520, Test Accuracy= 0.65850\n"
     ]
    }
   ],
   "source": [
    "# initializing the variables\n",
    "init = tf.global_variables_initializer()\n",
    "\n",
    "with tf.Session() as sess:\n",
    "    sess.run(init)\n",
    "    \n",
    "    epoch = 1\n",
    "    \n",
    "    while epoch < training_iters:\n",
    "\n",
    "        step = 1\n",
    "        begin_pointer = 0\n",
    "\n",
    "        # TODO: define training loop condition\n",
    "        while step <= x_train.shape[0] / batch_size:\n",
    "            # TODO: get batch of images and labels\n",
    "            batch_x = x_train[begin_pointer:(batch_size * step) + 1]\n",
    "            batch_y = y_train[begin_pointer:(batch_size * step) + 1]\n",
    "            begin_pointer = (batch_size * step) + 1\n",
    "            # run optimization op (backprop)\n",
    "            sess.run(optimizer, feed_dict={x: batch_x, y: batch_y})\n",
    "            if step % display_step == 0:\n",
    "                # calculate batch loss and accuracy\n",
    "                loss, acc = sess.run([cost, accuracy], feed_dict={x: batch_x,\n",
    "                                                                  y: batch_y})\n",
    "                print (\"Iter \" + str(step*batch_size) + \\\n",
    "                       \", Minibatch Loss= \" + \"{:.6f}\".format(loss) + \\\n",
    "                       \", Training Accuracy= \" + \"{:.5f}\".format(acc))\n",
    "            step += 1\n",
    "\n",
    "        print (\"Epoch {} finished\".format(epoch))\n",
    "        epoch += 1\n",
    "    print (\"Optimization Finished!\")\n",
    "\n",
    "    # TODO: calculate accuracy for test set\n",
    "    #predictions = \n",
    "    #tf.metrics.accuracy(y_train, predictions)\n",
    "    loss, acc = sess.run([cost, accuracy], feed_dict={x: x_test, y: y_test})\n",
    "    print (\"Test Loss= \" + \"{:.6f}\".format(loss) + \", Test Accuracy= \" + \"{:.5f}\".format(acc))\n",
    "    "
   ]
  },
  {
   "cell_type": "code",
   "execution_count": 32,
   "metadata": {},
   "outputs": [
    {
     "data": {
      "text/plain": [
       "(10000, 784)"
      ]
     },
     "execution_count": 32,
     "metadata": {},
     "output_type": "execute_result"
    }
   ],
   "source": [
    "x_test.shape"
   ]
  }
 ],
 "metadata": {
  "kernelspec": {
   "display_name": "Python 3",
   "language": "python",
   "name": "python3"
  },
  "language_info": {
   "codemirror_mode": {
    "name": "ipython",
    "version": 3
   },
   "file_extension": ".py",
   "mimetype": "text/x-python",
   "name": "python",
   "nbconvert_exporter": "python",
   "pygments_lexer": "ipython3",
   "version": "3.6.8"
  }
 },
 "nbformat": 4,
 "nbformat_minor": 1
}
