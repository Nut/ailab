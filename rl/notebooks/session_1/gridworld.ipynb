{
 "cells": [
  {
   "cell_type": "markdown",
   "metadata": {},
   "source": [
    "# AI Labor HSKA: Reinforcement Learning"
   ]
  },
  {
   "cell_type": "markdown",
   "metadata": {},
   "source": [
    "## Wiederholung: Q-Learning"
   ]
  },
  {
   "cell_type": "markdown",
   "metadata": {},
   "source": [
    "Q-Learning basiert auf Temporalen Differenz (TD)-Lernen (engl. Temporal Difference Learning). Die Idee von TD Methoden ist es, die bisherige Schätzung der Value-Function zusammen mit dem unmittelbar erhaltenen Reward nach Ausführung einer Aktion zu nutzen, um die bisherige Schätzung der Value-Function zu aktualisieren. Diese Aktualisierung findet nach jeder Aktionswahl statt. Im einfachsten Fall wählt der Agent eine Aktion anhand seiner Policy, erhält eine Belohnung und passt die Value-Function wie folgt an:\n",
    "\n",
    "$$V(s_t) \\leftarrow V(s_t) + \\alpha [\\overbrace{\\underbrace{R_t + \\gamma V(s_{t+1})}_{target} - V(s_t)}^{TD\\ error}]$$\n",
    "\n",
    "Daraus ergibt sich die Lernregel für das Q-Learning:\n",
    "\n",
    "$$Q(s_t,a_t) \\leftarrow Q(s_t,a_t) + \\alpha\\left[R(s_t,a_t)+\\gamma \\max_{a\\in A(s_{t+1})} Q(s_{t+1},a) - \n",
    "Q(s_t,a_t)\\right]$$\n",
    "\n",
    "$Q$ approximiert dabei $q^*$ und damit die optimale Action-Value Function. Ist $q^*$ bekannt, können optimale Aktionen ohne jegliches Wissen über Nachfolgezustände (Successor States) oder deren Werte gewählt werden, da bereits die zu wählende Aktion für einen Zustand gegeben ist. Das heißt, der agent muss nichts über die Dynamik (Transition Model, Reward Function) der Umgebung wissen."
   ]
  },
  {
   "cell_type": "markdown",
   "metadata": {},
   "source": [
    "## Aufgabe 1"
   ]
  },
  {
   "cell_type": "markdown",
   "metadata": {},
   "source": [
    "Vervollständige die in **agent.py** vorgebene Implementierung eines Agent, der mit Hilfe von Q-Learning eine optimale Policy $\\pi^*$ findet. Pro Episode sind maximal 200 Steps in den beiden Ausprägungen der GridWorld erlaubt, danach wird das Environment zurückgesetzt.\n",
    "\n",
    "Der Agent soll über 50 Episoden hinweg versuchen eine optimale Policy zu finden."
   ]
  },
  {
   "cell_type": "code",
   "execution_count": 8,
   "metadata": {},
   "outputs": [
    {
     "name": "stdout",
     "output_type": "stream",
     "text": [
      "The autoreload extension is already loaded. To reload it, use:\n",
      "  %reload_ext autoreload\n"
     ]
    }
   ],
   "source": [
    "%run ../setup.ipynb"
   ]
  },
  {
   "cell_type": "code",
   "execution_count": 93,
   "metadata": {},
   "outputs": [],
   "source": [
    "from lib import GridWorld\n",
    "from lib.statistics import plot\n",
    "\n",
    "n_episodes = 50\n",
    "max_steps = 200\n",
    "statistics = []\n",
    "\n",
    "def interact_with_environment(env, agent, verbose=False):\n",
    "    if verbose:\n",
    "        print('Startposition:')\n",
    "        env.render()\n",
    "    \n",
    "    for episode in range(n_episodes):\n",
    "        done = False\n",
    "        total_reward = 0\n",
    "        state = env.reset()\n",
    "\n",
    "        for t in range(max_steps):\n",
    "            action = agent.act(state)\n",
    "            next_state, reward, done = env.step(action)\n",
    "            agent.train((state, action, next_state, reward, done))\n",
    "            \n",
    "            state = next_state\n",
    "            total_reward += reward\n",
    "            \n",
    "            if done:\n",
    "                break\n",
    "        \n",
    "        if verbose:\n",
    "            print(f'episode: {episode}/{n_episodes}, score: {total_reward}, steps:{t}, e:{agent.epsilon:.2f}')\n",
    "            env.render()\n",
    "            \n",
    "        statistics.append({\n",
    "            'episode': episode,\n",
    "            'score': total_reward,\n",
    "            'steps': t\n",
    "        })\n",
    "        \n",
    "    return statistics"
   ]
  },
  {
   "cell_type": "markdown",
   "metadata": {},
   "source": [
    "### Aufgabe 1.1\n",
    "\n",
    "Der Agent soll folgende Ausprägung der GridWorld lösen: Die Start- und Zielposition des Agenten ist fest vorgegeben und ändert sich nicht. Das Transition Model dieser GridWorld ist deterministisch (`transition_probability=1.0`). D.h. die vom Agenten gewählte Aktion wird in jedem Fall ausgeführt."
   ]
  },
  {
   "cell_type": "code",
   "execution_count": 160,
   "metadata": {},
   "outputs": [],
   "source": [
    "env = GridWorld(env_x=8, env_y=8, init_agent_pos=(0,0), goal_pos=(7,7), max_steps=max_steps, transition_probability=1.0)"
   ]
  },
  {
   "cell_type": "code",
   "execution_count": 144,
   "metadata": {},
   "outputs": [],
   "source": [
    "from agent import QLearning\n",
    "import numpy as np\n",
    "import random"
   ]
  },
  {
   "cell_type": "code",
   "execution_count": 145,
   "metadata": {},
   "outputs": [],
   "source": [
    "## Assertions, please do not change\n",
    "np.random.seed(42)\n",
    "test_agent = QLearning(action_dim=(2,), state_dim=(2,2), gamma=5, epsilon=0.8, alpha=2)\n",
    "assert test_agent.Q.shape == (2,2,2,2,2), 'Q shape incorrect. Please check agent init method'\n",
    "test_agent.Q = np.array([[[[[.5, 0.],[0., 0.]],[[0., 0.],[0., 0.]]],[[[0., 0.],[0., 0.]],[[0., 0.],[0.,0.]]]],[[[[0., 0.],[0., 0.]],[[0., 0.],[0., 0.]]],[[[0., 0.],[0., 0.]],[[0., 0.],[.1, .2]]]]])\n",
    "action = test_agent.act((1,1,1,1))\n",
    "assert action == 0, 'Agent should explore the environment. Please check agent act method'\n",
    "action = test_agent.act((1,1,1,1))\n",
    "assert action == 1, 'Agent should exploit the environment. Please check agent act method'\n",
    "test_agent.train(((1,1,1,1),1,(0,0,0,0),5,False))\n",
    "assert np.allclose(test_agent.Q, np.array([[[[[.5, 0.],[0., 0.]],[[0., 0.],[0., 0.]]],[[[0., 0.],[0., 0.]],[[0., 0.],[0.,0.]]]],[[[[0., 0.],[0., 0.]],[[0., 0.],[0., 0.]]],[[[0., 0.],[0., 0.]],[[0., 0.],[.1, 14.8]]]]])), 'Q update incorrect. Please check agent train method'"
   ]
  },
  {
   "cell_type": "code",
   "execution_count": 164,
   "metadata": {},
   "outputs": [
    {
     "data": {
      "image/png": "[encoded data removed]",
      "text/plain": [
       "<Figure size 432x288 with 1 Axes>"
      ]
     },
     "metadata": {
      "needs_background": "light"
     },
     "output_type": "display_data"
    },
    {
     "name": "stdout",
     "output_type": "stream",
     "text": [
      "[{'episode': 0, 'score': -111, 'steps': 111}, {'episode': 1, 'score': -76, 'steps': 76}, {'episode': 2, 'score': -79, 'steps': 79}, {'episode': 3, 'score': -64, 'steps': 64}, {'episode': 4, 'score': -90, 'steps': 90}, {'episode': 5, 'score': -200, 'steps': 199}, {'episode': 6, 'score': -71, 'steps': 71}, {'episode': 7, 'score': -86, 'steps': 86}, {'episode': 8, 'score': -42, 'steps': 42}, {'episode': 9, 'score': -80, 'steps': 80}, {'episode': 10, 'score': -35, 'steps': 35}, {'episode': 11, 'score': -26, 'steps': 26}, {'episode': 12, 'score': -33, 'steps': 33}, {'episode': 13, 'score': -37, 'steps': 37}, {'episode': 14, 'score': -38, 'steps': 38}, {'episode': 15, 'score': -38, 'steps': 38}, {'episode': 16, 'score': -38, 'steps': 38}, {'episode': 17, 'score': -21, 'steps': 21}, {'episode': 18, 'score': -30, 'steps': 30}, {'episode': 19, 'score': -26, 'steps': 26}, {'episode': 20, 'score': -28, 'steps': 28}, {'episode': 21, 'score': -26, 'steps': 26}, {'episode': 22, 'score': -28, 'steps': 28}, {'episode': 23, 'score': -30, 'steps': 30}, {'episode': 24, 'score': -35, 'steps': 35}, {'episode': 25, 'score': -26, 'steps': 26}, {'episode': 26, 'score': -28, 'steps': 28}, {'episode': 27, 'score': -32, 'steps': 32}, {'episode': 28, 'score': -30, 'steps': 30}, {'episode': 29, 'score': -32, 'steps': 32}, {'episode': 30, 'score': -30, 'steps': 30}, {'episode': 31, 'score': -19, 'steps': 19}, {'episode': 32, 'score': -26, 'steps': 26}, {'episode': 33, 'score': -26, 'steps': 26}, {'episode': 34, 'score': -26, 'steps': 26}, {'episode': 35, 'score': -22, 'steps': 22}, {'episode': 36, 'score': -24, 'steps': 24}, {'episode': 37, 'score': -22, 'steps': 22}, {'episode': 38, 'score': -24, 'steps': 24}, {'episode': 39, 'score': -24, 'steps': 24}, {'episode': 40, 'score': -13, 'steps': 13}, {'episode': 41, 'score': -27, 'steps': 27}, {'episode': 42, 'score': -22, 'steps': 22}, {'episode': 43, 'score': -20, 'steps': 20}, {'episode': 44, 'score': -24, 'steps': 24}, {'episode': 45, 'score': -24, 'steps': 24}, {'episode': 46, 'score': -24, 'steps': 24}, {'episode': 47, 'score': -22, 'steps': 22}, {'episode': 48, 'score': -17, 'steps': 17}, {'episode': 49, 'score': -20, 'steps': 20}]\n"
     ]
    }
   ],
   "source": [
    "statistics = []\n",
    "# Hyperparams\n",
    "gamma = 0.75\n",
    "epsilon = 0.001\n",
    "epsilon_decay = 0.9\n",
    "epsilon_min = 0.0001\n",
    "alpha = 1.0\n",
    "alpha_decay = 0.999\n",
    "alpha_min = 0.001\n",
    "\n",
    "agent = QLearning(action_dim=env.action_dim, state_dim=env.state_dim,\n",
    "                  gamma=gamma, epsilon=epsilon, alpha=alpha)\n",
    "\n",
    "statistics = interact_with_environment(env, agent, verbose=False)\n",
    "plot(statistics)\n",
    "print(statistics)"
   ]
  },
  {
   "cell_type": "markdown",
   "metadata": {},
   "source": [
    "### Aufgabe 1.2\n",
    "\n",
    "Erweitere (falls nötig) die Implementierung deines Agenten, sodass er die RandomGridWorld (`transition_probability=0.8`) löst."
   ]
  },
  {
   "cell_type": "code",
   "execution_count": 153,
   "metadata": {},
   "outputs": [],
   "source": [
    "env = GridWorld(env_x=8, env_y=8, init_agent_pos=None, goal_pos=None, max_steps=max_steps, transition_probability=0.8)"
   ]
  },
  {
   "cell_type": "code",
   "execution_count": 159,
   "metadata": {},
   "outputs": [
    {
     "data": {
      "image/png": "[encoded data removed]",
      "text/plain": [
       "<Figure size 432x288 with 1 Axes>"
      ]
     },
     "metadata": {
      "needs_background": "light"
     },
     "output_type": "display_data"
    }
   ],
   "source": [
    "from agent import QLearning\n",
    "statistics = []\n",
    "# Hyperparams\n",
    "gamma = 0.75\n",
    "epsilon = 0.001\n",
    "epsilon_decay = 0.9\n",
    "epsilon_min = 0.0001\n",
    "alpha = 0.9\n",
    "alpha_decay = 0.999\n",
    "alpha_min = 0.001\n",
    "\n",
    "agent = QLearning(action_dim=env.action_dim, state_dim=env.state_dim,\n",
    "                  gamma=gamma, epsilon=epsilon, alpha=alpha)\n",
    "\n",
    "statistics = interact_with_environment(env, agent, verbose=False)\n",
    "plot(statistics)"
   ]
  },
  {
   "cell_type": "markdown",
   "metadata": {},
   "source": [
    "## Aufgabe 2\n",
    "Beschreibe was eine optimale Policy ausmacht und begründe warum es mehrere optimale Policies gibt."
   ]
  },
  {
   "cell_type": "markdown",
   "metadata": {},
   "source": []
  },
  {
   "cell_type": "code",
   "execution_count": null,
   "metadata": {},
   "outputs": [],
   "source": []
  },
  {
   "cell_type": "code",
   "execution_count": null,
   "metadata": {},
   "outputs": [],
   "source": []
  }
 ],
 "metadata": {
  "kernelspec": {
   "display_name": "Python 3",
   "language": "python",
   "name": "python3"
  },
  "language_info": {
   "codemirror_mode": {
    "name": "ipython",
    "version": 3
   },
   "file_extension": ".py",
   "mimetype": "text/x-python",
   "name": "python",
   "nbconvert_exporter": "python",
   "pygments_lexer": "ipython3",
   "version": "3.6.8"
  }
 },
 "nbformat": 4,
 "nbformat_minor": 2
}
