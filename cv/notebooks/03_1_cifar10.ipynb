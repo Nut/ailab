{
  "nbformat": 4,
  "nbformat_minor": 0,
  "metadata": {
    "hide_input": false,
    "kernelspec": {
      "name": "python3",
      "display_name": "Python 3"
    },
    "language_info": {
      "codemirror_mode": {
        "name": "ipython",
        "version": 3
      },
      "file_extension": ".py",
      "mimetype": "text/x-python",
      "name": "python",
      "nbconvert_exporter": "python",
      "pygments_lexer": "ipython3",
      "version": "3.6.8"
    },
    "latex_envs": {
      "LaTeX_envs_menu_present": true,
      "autoclose": false,
      "autocomplete": true,
      "bibliofile": "biblio.bib",
      "cite_by": "apalike",
      "current_citInitial": 1,
      "eqLabelWithNumbers": true,
      "eqNumInitial": 1,
      "hotkeys": {
        "equation": "Ctrl-E",
        "itemize": "Ctrl-I"
      },
      "labels_anchors": false,
      "latex_user_defs": false,
      "report_style_numbering": false,
      "user_envs_cfg": false
    },
    "varInspector": {
      "cols": {
        "lenName": 16,
        "lenType": 16,
        "lenVar": 40
      },
      "kernels_config": {
        "python": {
          "delete_cmd_postfix": "",
          "delete_cmd_prefix": "del ",
          "library": "var_list.py",
          "varRefreshCmd": "print(var_dic_list())"
        },
        "r": {
          "delete_cmd_postfix": ") ",
          "delete_cmd_prefix": "rm(",
          "library": "var_list.r",
          "varRefreshCmd": "cat(var_dic_list()) "
        }
      },
      "types_to_exclude": [
        "module",
        "function",
        "builtin_function_or_method",
        "instance",
        "_Feature"
      ],
      "window_display": false
    },
    "colab": {
      "name": "Copy of 03_1_cifar10.ipynb",
      "provenance": [],
      "collapsed_sections": []
    },
    "accelerator": "GPU"
  },
  "cells": [
    {
      "cell_type": "markdown",
      "metadata": {
        "id": "u48V_RdcJeCq",
        "colab_type": "text"
      },
      "source": [
        "# CIFAR-10 Object Classification\n",
        "\n",
        "The CIFAR-10 dataset contains 60k 32x32 pixel color images from 10 different classes.\n",
        "\n",
        "The classes are:\n",
        "- airplane \n",
        "- automobile \n",
        "- bird \n",
        "- cat \n",
        "- deer \n",
        "- dog \n",
        "- frog \n",
        "- horse \n",
        "- ship \n",
        "- truck\n",
        "\n",
        "Tasks:\n",
        "\n",
        "- implement the TODOs\n",
        "- train a MLP to achieve >50% test accuracy\n",
        "- train a CNN to achieve >80% test accuracy\n",
        "\n",
        "Help:\n",
        "- use the Keras API Documentation [https://www.keras.io/)\n",
        "\n",
        "<hr>"
      ]
    },
    {
      "cell_type": "markdown",
      "metadata": {
        "id": "yFmbuj9HJeCr",
        "colab_type": "text"
      },
      "source": [
        "# Download data"
      ]
    },
    {
      "cell_type": "code",
      "metadata": {
        "ExecuteTime": {
          "end_time": "2019-10-17T09:16:15.832547Z",
          "start_time": "2019-10-17T09:16:00.665123Z"
        },
        "id": "CtEZ4EtWJeCs",
        "colab_type": "code",
        "colab": {}
      },
      "source": [
        "%%sh\n",
        "# download CIFAR-10 if needed\n",
        "if [ ! -d cifar-10-batches-py ]; then\n",
        "    wget -c -q https://www.cs.toronto.edu/~kriz/cifar-10-python.tar.gz\n",
        "    tar xzf cifar-10-python.tar.gz\n",
        "    rm cifar-10-python.tar.gz\n",
        "fi"
      ],
      "execution_count": 0,
      "outputs": []
    },
    {
      "cell_type": "markdown",
      "metadata": {
        "id": "CvwQFH3EJeCu",
        "colab_type": "text"
      },
      "source": [
        "# Install keras"
      ]
    },
    {
      "cell_type": "code",
      "metadata": {
        "id": "-_DR6dI3JeCv",
        "colab_type": "code",
        "outputId": "7d4a83e8-5b7b-4661-c370-d7ec3e9b4bad",
        "colab": {
          "base_uri": "https://localhost:8080/",
          "height": 153
        }
      },
      "source": [
        "%%sh\n",
        "pip install keras"
      ],
      "execution_count": 0,
      "outputs": [
        {
          "output_type": "stream",
          "text": [
            "Requirement already satisfied: keras in /usr/local/lib/python3.6/dist-packages (2.2.5)\n",
            "Requirement already satisfied: scipy>=0.14 in /usr/local/lib/python3.6/dist-packages (from keras) (1.3.1)\n",
            "Requirement already satisfied: keras-applications>=1.0.8 in /usr/local/lib/python3.6/dist-packages (from keras) (1.0.8)\n",
            "Requirement already satisfied: keras-preprocessing>=1.1.0 in /usr/local/lib/python3.6/dist-packages (from keras) (1.1.0)\n",
            "Requirement already satisfied: h5py in /usr/local/lib/python3.6/dist-packages (from keras) (2.8.0)\n",
            "Requirement already satisfied: pyyaml in /usr/local/lib/python3.6/dist-packages (from keras) (3.13)\n",
            "Requirement already satisfied: six>=1.9.0 in /usr/local/lib/python3.6/dist-packages (from keras) (1.12.0)\n",
            "Requirement already satisfied: numpy>=1.9.1 in /usr/local/lib/python3.6/dist-packages (from keras) (1.17.3)\n"
          ],
          "name": "stdout"
        }
      ]
    },
    {
      "cell_type": "markdown",
      "metadata": {
        "id": "t4dpKVEyJeCx",
        "colab_type": "text"
      },
      "source": [
        "# Imports"
      ]
    },
    {
      "cell_type": "code",
      "metadata": {
        "ExecuteTime": {
          "end_time": "2019-10-17T19:03:49.424862Z",
          "start_time": "2019-10-17T19:03:49.420290Z"
        },
        "id": "q6aZTl_RJeCx",
        "colab_type": "code",
        "colab": {}
      },
      "source": [
        "import numpy as np\n",
        "import pickle\n",
        "import matplotlib.pyplot as plt\n",
        "import cv2\n",
        "%matplotlib inline"
      ],
      "execution_count": 0,
      "outputs": []
    },
    {
      "cell_type": "markdown",
      "metadata": {
        "id": "aN-BdD2fJeCz",
        "colab_type": "text"
      },
      "source": [
        "# Preparations"
      ]
    },
    {
      "cell_type": "code",
      "metadata": {
        "ExecuteTime": {
          "end_time": "2019-10-17T19:07:45.207184Z",
          "start_time": "2019-10-17T19:07:45.202930Z"
        },
        "id": "H-hD2Qg5JeC0",
        "colab_type": "code",
        "colab": {}
      },
      "source": [
        "# function to unpickle data files\n",
        "def unpickle(file):\n",
        "    with open(file, 'rb') as fo:\n",
        "        return pickle.load(fo, encoding='bytes')\n",
        "\n",
        "# function to store  data in pickle file\n",
        "def store(obj, filename):\n",
        "    pickle.dump(obj, open('cifar-10-batches-py/' + filename, 'wb'))"
      ],
      "execution_count": 0,
      "outputs": []
    },
    {
      "cell_type": "code",
      "metadata": {
        "ExecuteTime": {
          "end_time": "2019-10-17T19:07:45.705602Z",
          "start_time": "2019-10-17T19:07:45.693257Z"
        },
        "id": "FXG-QDLfJeC1",
        "colab_type": "code",
        "colab": {}
      },
      "source": [
        "# TODO: decode pickle data as images\n",
        "# see https://www.cs.toronto.edu/~kriz/cifar.html for the storage format\n",
        "def decode_as_image(img_flat):\n",
        "    img_R = img_flat[0:1024]\n",
        "    img_G = img_flat[1024:2048]\n",
        "    img_B = img_flat[2048:3072]\n",
        "    return np.dstack((img_R, img_G, img_B)).reshape(32, 32, 3)\n",
        "\n",
        "# NOTE: alternatively use reshape & np.rollaxis"
      ],
      "execution_count": 0,
      "outputs": []
    },
    {
      "cell_type": "code",
      "metadata": {
        "id": "czlmH8kCJeC3",
        "colab_type": "code",
        "colab": {}
      },
      "source": [
        "def showBGR(imgRGB):\n",
        "    plt.figure(figsize=(12,8))\n",
        "    plt.imshow(imgRGB)"
      ],
      "execution_count": 0,
      "outputs": []
    },
    {
      "cell_type": "code",
      "metadata": {
        "ExecuteTime": {
          "end_time": "2019-10-17T18:28:29.770521Z",
          "start_time": "2019-10-17T18:28:29.057316Z"
        },
        "id": "9fj9IZ3EJeC5",
        "colab_type": "code",
        "colab": {}
      },
      "source": [
        "# load train data and save to disk for later usage\n",
        "# note: you might need to give Docker more memory\n",
        "# alternatively, execute separately\n",
        "x_train = []\n",
        "for i in range(1, 6):\n",
        "    x_train_b = unpickle('cifar-10-batches-py/data_batch_' + str(i)).get(bytes('data', 'ascii'))\n",
        "    for img in x_train_b:\n",
        "        img = decode_as_image(img)\n",
        "        x_train.append(img)\n",
        "\n",
        "x_train = np.array(x_train)\n",
        "assert x_train.shape == (50000, 32, 32, 3)\n",
        "#print(x_train[0].shape)\n",
        "#showBGR(x_train[9])\n",
        "        \n",
        "# save to disk\n",
        "store(x_train, 'x_train')"
      ],
      "execution_count": 0,
      "outputs": []
    },
    {
      "cell_type": "code",
      "metadata": {
        "ExecuteTime": {
          "end_time": "2019-10-17T18:28:48.352156Z",
          "start_time": "2019-10-17T18:28:48.196333Z"
        },
        "id": "iMQWRF3ZJeC6",
        "colab_type": "code",
        "colab": {}
      },
      "source": [
        "# load test data and save to disk for later usage\n",
        "x_test = []\n",
        "x_test_b = unpickle('cifar-10-batches-py/test_batch').get(bytes('data', 'ascii'))\n",
        "for img in x_test_b:\n",
        "    img = decode_as_image(img)\n",
        "    x_test.append(img)\n",
        "\n",
        "x_test = np.array(x_test)\n",
        "assert x_test.shape == (10000, 32, 32, 3)\n",
        "    \n",
        "# save to disk\n",
        "store(x_test, 'x_test')"
      ],
      "execution_count": 0,
      "outputs": []
    },
    {
      "cell_type": "code",
      "metadata": {
        "ExecuteTime": {
          "end_time": "2019-10-17T19:06:35.736132Z",
          "start_time": "2019-10-17T19:06:35.532987Z"
        },
        "id": "5m8ZR-1jJeC8",
        "colab_type": "code",
        "colab": {}
      },
      "source": [
        "# load train and test labels and save to disk\n",
        "y_train = np.concatenate([\n",
        "    unpickle('cifar-10-batches-py/data_batch_' + str(i)).get(bytes('labels', 'ascii'))\n",
        "    for i in range(1, 6)\n",
        "])\n",
        "assert y_train.shape == (50000,)\n",
        "store(y_train, 'y_train')\n",
        "\n",
        "y_test = np.array(unpickle('cifar-10-batches-py/test_batch').get(bytes('labels', 'ascii')))\n",
        "assert y_test.shape == (10000,)\n",
        "store(y_test, 'y_test')"
      ],
      "execution_count": 0,
      "outputs": []
    },
    {
      "cell_type": "markdown",
      "metadata": {
        "id": "xZeTviDfJeC-",
        "colab_type": "text"
      },
      "source": [
        "# Load prepared data"
      ]
    },
    {
      "cell_type": "code",
      "metadata": {
        "ExecuteTime": {
          "end_time": "2019-10-17T19:07:49.516623Z",
          "start_time": "2019-10-17T19:07:49.335325Z"
        },
        "id": "3eUSO8jMJeC-",
        "colab_type": "code",
        "outputId": "489526ef-0df3-477d-b073-28c165332833",
        "colab": {
          "base_uri": "https://localhost:8080/",
          "height": 51
        }
      },
      "source": [
        "x_train = unpickle(\"cifar-10-batches-py/x_train\")\n",
        "x_test = unpickle(\"cifar-10-batches-py/x_test\")\n",
        "y_train = unpickle(\"cifar-10-batches-py/y_train\")\n",
        "y_test = unpickle(\"cifar-10-batches-py/y_test\")\n",
        "\n",
        "print(x_train.shape)\n",
        "print(x_test.shape)"
      ],
      "execution_count": 0,
      "outputs": [
        {
          "output_type": "stream",
          "text": [
            "(50000, 32, 32, 3)\n",
            "(10000, 32, 32, 3)\n"
          ],
          "name": "stdout"
        }
      ]
    },
    {
      "cell_type": "code",
      "metadata": {
        "ExecuteTime": {
          "end_time": "2019-10-17T19:07:50.511401Z",
          "start_time": "2019-10-17T19:07:50.095818Z"
        },
        "id": "BrvrLUHEJeDA",
        "colab_type": "code",
        "outputId": "70c5fab9-fa09-4072-c10d-b8b0f8dbf09e",
        "colab": {
          "base_uri": "https://localhost:8080/",
          "height": 227
        }
      },
      "source": [
        "# show 5 random training samples\n",
        "%matplotlib inline\n",
        "import matplotlib.pyplot as plt\n",
        "\n",
        "label_mapping = ['airplane', 'automobile', 'bird', 'cat', 'deer', 'dog', 'frog', 'horse', 'ship', 'truck']\n",
        "\n",
        "indices = np.arange(x_train.shape[0])\n",
        "np.random.shuffle(indices)\n",
        "plt.figure(figsize=(18,3))\n",
        "for i, idx in enumerate(indices[:5]):\n",
        "    plt.subplot(1, 5, i + 1)\n",
        "    plt.title(\"Class: {}\".format(label_mapping[int(y_train[idx])]))\n",
        "    plt.imshow(x_train[idx])\n",
        "plt.show()"
      ],
      "execution_count": 0,
      "outputs": [
        {
          "output_type": "display_data",
          "data": {
            "image/png": "[encoded data removed]",
            "text/plain": [
              "<Figure size 1296x216 with 5 Axes>"
            ]
          },
          "metadata": {
            "tags": []
          }
        }
      ]
    },
    {
      "cell_type": "markdown",
      "metadata": {
        "id": "ryimwBUbJeDE",
        "colab_type": "text"
      },
      "source": [
        "# Prepare dataset for training and labels"
      ]
    },
    {
      "cell_type": "code",
      "metadata": {
        "ExecuteTime": {
          "end_time": "2019-10-17T18:29:38.301104Z",
          "start_time": "2019-10-17T18:29:38.022966Z"
        },
        "id": "42He9lOcJeDF",
        "colab_type": "code",
        "colab": {}
      },
      "source": [
        "# TODO: normalize data and cast to float32\n",
        "# x_train = np.asarray([x / 255.0 for x in x_train])\n",
        "# x_test = np.asarray([x / 255.0 for x in x_test])\n",
        "x_train = x_train.astype(np.float32) / 255.0\n",
        "x_test = x_test.astype(np.float32) / 255.0"
      ],
      "execution_count": 0,
      "outputs": []
    },
    {
      "cell_type": "code",
      "metadata": {
        "id": "4qSkPG9jJeDI",
        "colab_type": "code",
        "outputId": "acb9feea-2800-4b74-fac2-2c1610ff7957",
        "colab": {
          "base_uri": "https://localhost:8080/",
          "height": 1000
        }
      },
      "source": [
        "x_train"
      ],
      "execution_count": 0,
      "outputs": [
        {
          "output_type": "execute_result",
          "data": {
            "text/plain": [
              "array([[[[0.23137255, 0.24313726, 0.24705882],\n",
              "         [0.16862746, 0.18039216, 0.1764706 ],\n",
              "         [0.19607843, 0.1882353 , 0.16862746],\n",
              "         ...,\n",
              "         [0.61960787, 0.5176471 , 0.42352942],\n",
              "         [0.59607846, 0.49019608, 0.4       ],\n",
              "         [0.5803922 , 0.4862745 , 0.40392157]],\n",
              "\n",
              "        [[0.0627451 , 0.07843138, 0.07843138],\n",
              "         [0.        , 0.        , 0.        ],\n",
              "         [0.07058824, 0.03137255, 0.        ],\n",
              "         ...,\n",
              "         [0.48235294, 0.34509805, 0.21568628],\n",
              "         [0.46666667, 0.3254902 , 0.19607843],\n",
              "         [0.47843137, 0.34117648, 0.22352941]],\n",
              "\n",
              "        [[0.09803922, 0.09411765, 0.08235294],\n",
              "         [0.0627451 , 0.02745098, 0.        ],\n",
              "         [0.19215687, 0.10588235, 0.03137255],\n",
              "         ...,\n",
              "         [0.4627451 , 0.32941177, 0.19607843],\n",
              "         [0.47058824, 0.32941177, 0.19607843],\n",
              "         [0.42745098, 0.28627452, 0.16470589]],\n",
              "\n",
              "        ...,\n",
              "\n",
              "        [[0.8156863 , 0.6666667 , 0.3764706 ],\n",
              "         [0.7882353 , 0.6       , 0.13333334],\n",
              "         [0.7764706 , 0.6313726 , 0.10196079],\n",
              "         ...,\n",
              "         [0.627451  , 0.52156866, 0.27450982],\n",
              "         [0.21960784, 0.12156863, 0.02745098],\n",
              "         [0.20784314, 0.13333334, 0.07843138]],\n",
              "\n",
              "        [[0.7058824 , 0.54509807, 0.3764706 ],\n",
              "         [0.6784314 , 0.48235294, 0.16470589],\n",
              "         [0.7294118 , 0.5647059 , 0.11764706],\n",
              "         ...,\n",
              "         [0.72156864, 0.5803922 , 0.36862746],\n",
              "         [0.38039216, 0.24313726, 0.13333334],\n",
              "         [0.3254902 , 0.20784314, 0.13333334]],\n",
              "\n",
              "        [[0.69411767, 0.5647059 , 0.45490196],\n",
              "         [0.65882355, 0.5058824 , 0.36862746],\n",
              "         [0.7019608 , 0.5568628 , 0.34117648],\n",
              "         ...,\n",
              "         [0.84705883, 0.72156864, 0.54901963],\n",
              "         [0.5921569 , 0.4627451 , 0.32941177],\n",
              "         [0.48235294, 0.36078432, 0.28235295]]],\n",
              "\n",
              "\n",
              "       [[[0.6039216 , 0.69411767, 0.73333335],\n",
              "         [0.49411765, 0.5372549 , 0.53333336],\n",
              "         [0.4117647 , 0.40784314, 0.37254903],\n",
              "         ...,\n",
              "         [0.35686275, 0.37254903, 0.2784314 ],\n",
              "         [0.34117648, 0.3529412 , 0.2784314 ],\n",
              "         [0.30980393, 0.31764707, 0.27450982]],\n",
              "\n",
              "        [[0.54901963, 0.627451  , 0.6627451 ],\n",
              "         [0.5686275 , 0.6       , 0.6039216 ],\n",
              "         [0.49019608, 0.49019608, 0.4627451 ],\n",
              "         ...,\n",
              "         [0.3764706 , 0.3882353 , 0.30588236],\n",
              "         [0.3019608 , 0.3137255 , 0.24313726],\n",
              "         [0.2784314 , 0.28627452, 0.23921569]],\n",
              "\n",
              "        [[0.54901963, 0.60784316, 0.6431373 ],\n",
              "         [0.54509807, 0.57254905, 0.58431375],\n",
              "         [0.4509804 , 0.4509804 , 0.4392157 ],\n",
              "         ...,\n",
              "         [0.30980393, 0.32156864, 0.2509804 ],\n",
              "         [0.26666668, 0.27450982, 0.21568628],\n",
              "         [0.2627451 , 0.27058825, 0.21568628]],\n",
              "\n",
              "        ...,\n",
              "\n",
              "        [[0.6862745 , 0.654902  , 0.6509804 ],\n",
              "         [0.6117647 , 0.6039216 , 0.627451  ],\n",
              "         [0.6039216 , 0.627451  , 0.6666667 ],\n",
              "         ...,\n",
              "         [0.16470589, 0.13333334, 0.14117648],\n",
              "         [0.23921569, 0.20784314, 0.22352941],\n",
              "         [0.3647059 , 0.3254902 , 0.35686275]],\n",
              "\n",
              "        [[0.64705884, 0.6039216 , 0.5019608 ],\n",
              "         [0.6117647 , 0.59607846, 0.50980395],\n",
              "         [0.62352943, 0.6313726 , 0.5568628 ],\n",
              "         ...,\n",
              "         [0.40392157, 0.3647059 , 0.3764706 ],\n",
              "         [0.48235294, 0.44705883, 0.47058824],\n",
              "         [0.5137255 , 0.4745098 , 0.5137255 ]],\n",
              "\n",
              "        [[0.6392157 , 0.5803922 , 0.47058824],\n",
              "         [0.61960787, 0.5803922 , 0.47843137],\n",
              "         [0.6392157 , 0.6117647 , 0.52156866],\n",
              "         ...,\n",
              "         [0.56078434, 0.52156866, 0.54509807],\n",
              "         [0.56078434, 0.5254902 , 0.5568628 ],\n",
              "         [0.56078434, 0.52156866, 0.5647059 ]]],\n",
              "\n",
              "\n",
              "       [[[1.        , 1.        , 1.        ],\n",
              "         [0.99215686, 0.99215686, 0.99215686],\n",
              "         [0.99215686, 0.99215686, 0.99215686],\n",
              "         ...,\n",
              "         [0.99215686, 0.99215686, 0.99215686],\n",
              "         [0.99215686, 0.99215686, 0.99215686],\n",
              "         [0.99215686, 0.99215686, 0.99215686]],\n",
              "\n",
              "        [[1.        , 1.        , 1.        ],\n",
              "         [1.        , 1.        , 1.        ],\n",
              "         [1.        , 1.        , 1.        ],\n",
              "         ...,\n",
              "         [1.        , 1.        , 1.        ],\n",
              "         [1.        , 1.        , 1.        ],\n",
              "         [1.        , 1.        , 1.        ]],\n",
              "\n",
              "        [[1.        , 1.        , 1.        ],\n",
              "         [0.99607843, 0.99607843, 0.99607843],\n",
              "         [0.99607843, 0.99607843, 0.99607843],\n",
              "         ...,\n",
              "         [0.99607843, 0.99607843, 0.99607843],\n",
              "         [0.99607843, 0.99607843, 0.99607843],\n",
              "         [0.99607843, 0.99607843, 0.99607843]],\n",
              "\n",
              "        ...,\n",
              "\n",
              "        [[0.44313726, 0.47058824, 0.4392157 ],\n",
              "         [0.43529412, 0.4627451 , 0.43529412],\n",
              "         [0.4117647 , 0.4392157 , 0.41568628],\n",
              "         ...,\n",
              "         [0.28235295, 0.31764707, 0.3137255 ],\n",
              "         [0.28235295, 0.3137255 , 0.30980393],\n",
              "         [0.28235295, 0.3137255 , 0.30980393]],\n",
              "\n",
              "        [[0.43529412, 0.4627451 , 0.43137255],\n",
              "         [0.40784314, 0.43529412, 0.40784314],\n",
              "         [0.3882353 , 0.41568628, 0.38431373],\n",
              "         ...,\n",
              "         [0.26666668, 0.29411766, 0.28627452],\n",
              "         [0.27450982, 0.29803923, 0.29411766],\n",
              "         [0.30588236, 0.32941177, 0.32156864]],\n",
              "\n",
              "        [[0.41568628, 0.44313726, 0.4117647 ],\n",
              "         [0.3882353 , 0.41568628, 0.38431373],\n",
              "         [0.37254903, 0.4       , 0.36862746],\n",
              "         ...,\n",
              "         [0.30588236, 0.33333334, 0.3254902 ],\n",
              "         [0.30980393, 0.33333334, 0.3254902 ],\n",
              "         [0.3137255 , 0.3372549 , 0.32941177]]],\n",
              "\n",
              "\n",
              "       ...,\n",
              "\n",
              "\n",
              "       [[[0.13725491, 0.69803923, 0.92156863],\n",
              "         [0.15686275, 0.6901961 , 0.9372549 ],\n",
              "         [0.16470589, 0.6901961 , 0.94509804],\n",
              "         ...,\n",
              "         [0.3882353 , 0.69411767, 0.85882354],\n",
              "         [0.30980393, 0.5764706 , 0.77254903],\n",
              "         [0.34901962, 0.5803922 , 0.7411765 ]],\n",
              "\n",
              "        [[0.22352941, 0.7137255 , 0.91764706],\n",
              "         [0.17254902, 0.72156864, 0.98039216],\n",
              "         [0.19607843, 0.7176471 , 0.9411765 ],\n",
              "         ...,\n",
              "         [0.6117647 , 0.7137255 , 0.78431374],\n",
              "         [0.5529412 , 0.69411767, 0.80784315],\n",
              "         [0.45490196, 0.58431375, 0.6862745 ]],\n",
              "\n",
              "        [[0.38431373, 0.77254903, 0.92941177],\n",
              "         [0.2509804 , 0.7411765 , 0.9882353 ],\n",
              "         [0.27058825, 0.7529412 , 0.9607843 ],\n",
              "         ...,\n",
              "         [0.7372549 , 0.7647059 , 0.80784315],\n",
              "         [0.46666667, 0.5294118 , 0.5764706 ],\n",
              "         [0.23921569, 0.30980393, 0.3529412 ]],\n",
              "\n",
              "        ...,\n",
              "\n",
              "        [[0.28627452, 0.30980393, 0.3019608 ],\n",
              "         [0.20784314, 0.24705882, 0.26666668],\n",
              "         [0.21176471, 0.26666668, 0.3137255 ],\n",
              "         ...,\n",
              "         [0.06666667, 0.15686275, 0.2509804 ],\n",
              "         [0.08235294, 0.14117648, 0.2       ],\n",
              "         [0.12941177, 0.1882353 , 0.19215687]],\n",
              "\n",
              "        [[0.23921569, 0.26666668, 0.29411766],\n",
              "         [0.21568628, 0.27450982, 0.3372549 ],\n",
              "         [0.22352941, 0.30980393, 0.40392157],\n",
              "         ...,\n",
              "         [0.09411765, 0.1882353 , 0.28235295],\n",
              "         [0.06666667, 0.13725491, 0.20784314],\n",
              "         [0.02745098, 0.09019608, 0.1254902 ]],\n",
              "\n",
              "        [[0.17254902, 0.21960784, 0.28627452],\n",
              "         [0.18039216, 0.25882354, 0.34509805],\n",
              "         [0.19215687, 0.3019608 , 0.4117647 ],\n",
              "         ...,\n",
              "         [0.10588235, 0.20392157, 0.3019608 ],\n",
              "         [0.08235294, 0.16862746, 0.25882354],\n",
              "         [0.04705882, 0.12156863, 0.19607843]]],\n",
              "\n",
              "\n",
              "       [[[0.7411765 , 0.827451  , 0.9411765 ],\n",
              "         [0.7294118 , 0.8156863 , 0.9254902 ],\n",
              "         [0.7254902 , 0.8117647 , 0.92156863],\n",
              "         ...,\n",
              "         [0.6862745 , 0.7647059 , 0.8784314 ],\n",
              "         [0.6745098 , 0.7607843 , 0.87058824],\n",
              "         [0.6627451 , 0.7607843 , 0.8627451 ]],\n",
              "\n",
              "        [[0.7607843 , 0.8235294 , 0.9372549 ],\n",
              "         [0.7490196 , 0.8117647 , 0.9254902 ],\n",
              "         [0.74509805, 0.80784315, 0.92156863],\n",
              "         ...,\n",
              "         [0.6784314 , 0.7529412 , 0.8627451 ],\n",
              "         [0.67058825, 0.7490196 , 0.85490197],\n",
              "         [0.654902  , 0.74509805, 0.84705883]],\n",
              "\n",
              "        [[0.8156863 , 0.85882354, 0.95686275],\n",
              "         [0.8039216 , 0.84705883, 0.9411765 ],\n",
              "         [0.8       , 0.84313726, 0.9372549 ],\n",
              "         ...,\n",
              "         [0.6862745 , 0.7490196 , 0.8509804 ],\n",
              "         [0.6745098 , 0.74509805, 0.84705883],\n",
              "         [0.6627451 , 0.7490196 , 0.84313726]],\n",
              "\n",
              "        ...,\n",
              "\n",
              "        [[0.8117647 , 0.78039217, 0.70980394],\n",
              "         [0.79607844, 0.7647059 , 0.6862745 ],\n",
              "         [0.79607844, 0.76862746, 0.6784314 ],\n",
              "         ...,\n",
              "         [0.5294118 , 0.5176471 , 0.49803922],\n",
              "         [0.63529414, 0.61960787, 0.5882353 ],\n",
              "         [0.65882355, 0.6392157 , 0.5921569 ]],\n",
              "\n",
              "        [[0.7764706 , 0.74509805, 0.6666667 ],\n",
              "         [0.7411765 , 0.70980394, 0.62352943],\n",
              "         [0.7058824 , 0.6745098 , 0.5764706 ],\n",
              "         ...,\n",
              "         [0.69803923, 0.67058825, 0.627451  ],\n",
              "         [0.6862745 , 0.6627451 , 0.6117647 ],\n",
              "         [0.6862745 , 0.6627451 , 0.6039216 ]],\n",
              "\n",
              "        [[0.7764706 , 0.7411765 , 0.6784314 ],\n",
              "         [0.7411765 , 0.70980394, 0.63529414],\n",
              "         [0.69803923, 0.6666667 , 0.58431375],\n",
              "         ...,\n",
              "         [0.7647059 , 0.72156864, 0.6627451 ],\n",
              "         [0.76862746, 0.7411765 , 0.67058825],\n",
              "         [0.7647059 , 0.74509805, 0.67058825]]],\n",
              "\n",
              "\n",
              "       [[[0.8980392 , 0.8980392 , 0.9372549 ],\n",
              "         [0.9254902 , 0.92941177, 0.96862745],\n",
              "         [0.91764706, 0.9254902 , 0.96862745],\n",
              "         ...,\n",
              "         [0.8509804 , 0.85882354, 0.9137255 ],\n",
              "         [0.8666667 , 0.8745098 , 0.91764706],\n",
              "         [0.87058824, 0.8745098 , 0.9137255 ]],\n",
              "\n",
              "        [[0.87058824, 0.8666667 , 0.8980392 ],\n",
              "         [0.9372549 , 0.9372549 , 0.9764706 ],\n",
              "         [0.9137255 , 0.91764706, 0.9647059 ],\n",
              "         ...,\n",
              "         [0.8745098 , 0.8745098 , 0.9254902 ],\n",
              "         [0.8901961 , 0.89411765, 0.93333334],\n",
              "         [0.8235294 , 0.827451  , 0.8627451 ]],\n",
              "\n",
              "        [[0.8352941 , 0.80784315, 0.827451  ],\n",
              "         [0.91764706, 0.9098039 , 0.9372549 ],\n",
              "         [0.90588236, 0.9137255 , 0.95686275],\n",
              "         ...,\n",
              "         [0.8627451 , 0.8627451 , 0.9098039 ],\n",
              "         [0.8627451 , 0.85882354, 0.9098039 ],\n",
              "         [0.7921569 , 0.79607844, 0.84313726]],\n",
              "\n",
              "        ...,\n",
              "\n",
              "        [[0.5882353 , 0.56078434, 0.5294118 ],\n",
              "         [0.54901963, 0.5294118 , 0.49803922],\n",
              "         [0.5176471 , 0.49803922, 0.47058824],\n",
              "         ...,\n",
              "         [0.8784314 , 0.87058824, 0.85490197],\n",
              "         [0.9019608 , 0.89411765, 0.88235295],\n",
              "         [0.94509804, 0.94509804, 0.93333334]],\n",
              "\n",
              "        [[0.5372549 , 0.5176471 , 0.49411765],\n",
              "         [0.50980395, 0.49803922, 0.47058824],\n",
              "         [0.49019608, 0.4745098 , 0.4509804 ],\n",
              "         ...,\n",
              "         [0.70980394, 0.7058824 , 0.69803923],\n",
              "         [0.7921569 , 0.7882353 , 0.7764706 ],\n",
              "         [0.83137256, 0.827451  , 0.8117647 ]],\n",
              "\n",
              "        [[0.47843137, 0.46666667, 0.44705883],\n",
              "         [0.4627451 , 0.45490196, 0.43137255],\n",
              "         [0.47058824, 0.45490196, 0.43529412],\n",
              "         ...,\n",
              "         [0.7019608 , 0.69411767, 0.6784314 ],\n",
              "         [0.6431373 , 0.6431373 , 0.63529414],\n",
              "         [0.6392157 , 0.6392157 , 0.6313726 ]]]], dtype=float32)"
            ]
          },
          "metadata": {
            "tags": []
          },
          "execution_count": 29
        }
      ]
    },
    {
      "cell_type": "code",
      "metadata": {
        "ExecuteTime": {
          "end_time": "2019-10-17T18:29:39.635086Z",
          "start_time": "2019-10-17T18:29:39.630573Z"
        },
        "id": "5OBphtAQJeDL",
        "colab_type": "code",
        "colab": {}
      },
      "source": [
        "# TODO: figure out number of classes (preferably from the data)\n",
        "n_classes = len(unpickle('cifar-10-batches-py/batches.meta').get(bytes('label_names', 'ascii')))"
      ],
      "execution_count": 0,
      "outputs": []
    },
    {
      "cell_type": "code",
      "metadata": {
        "ExecuteTime": {
          "end_time": "2019-10-17T18:29:42.587252Z",
          "start_time": "2019-10-17T18:29:41.218016Z"
        },
        "id": "k50qHDZTJeDN",
        "colab_type": "code",
        "outputId": "337aa9e1-5e42-4194-c4fb-e09030dfb53c",
        "colab": {
          "base_uri": "https://localhost:8080/",
          "height": 34
        }
      },
      "source": [
        "from keras.utils import to_categorical\n",
        "\n",
        "y_train = to_categorical(y_train, n_classes)\n",
        "y_test = to_categorical(y_test, n_classes)\n",
        "\n",
        "y_train.shape"
      ],
      "execution_count": 0,
      "outputs": [
        {
          "output_type": "execute_result",
          "data": {
            "text/plain": [
              "(50000, 10)"
            ]
          },
          "metadata": {
            "tags": []
          },
          "execution_count": 31
        }
      ]
    },
    {
      "cell_type": "markdown",
      "metadata": {
        "ExecuteTime": {
          "end_time": "2019-10-17T18:14:04.489770Z",
          "start_time": "2019-10-17T18:14:04.486643Z"
        },
        "id": "U0uWyBsiJeDP",
        "colab_type": "text"
      },
      "source": [
        "# The Multi Layer Perceptron\n",
        "\n",
        "## 1. Define the model"
      ]
    },
    {
      "cell_type": "code",
      "metadata": {
        "ExecuteTime": {
          "end_time": "2019-10-17T18:49:12.710623Z",
          "start_time": "2019-10-17T18:49:12.648370Z"
        },
        "id": "V2xIrrnFJeDQ",
        "colab_type": "code",
        "outputId": "4db6fd2c-155c-445d-dc1b-12b7d8799f1a",
        "colab": {
          "base_uri": "https://localhost:8080/",
          "height": 391
        }
      },
      "source": [
        "# TODO: define the mlp model\n",
        "from keras.layers import Flatten, Dense, Activation, Dropout\n",
        "from keras.models import Sequential\n",
        "\n",
        "mlp = Sequential([\n",
        "    Flatten(input_shape=(32, 32, 3)),\n",
        "    Dense(1024, activation='relu'),\n",
        "    #Dropout(0.2),\n",
        "    Dense(512, activation='relu'),\n",
        "    #Dropout(0.2),\n",
        "    Dense(256, activation='relu'),\n",
        "    #Dropout(0.2),\n",
        "    Dense(n_classes, activation='softmax')\n",
        "])\n",
        "\n",
        "\n",
        "mlp.summary()"
      ],
      "execution_count": 0,
      "outputs": [
        {
          "output_type": "stream",
          "text": [
            "WARNING:tensorflow:From /usr/local/lib/python3.6/dist-packages/keras/backend/tensorflow_backend.py:541: The name tf.placeholder is deprecated. Please use tf.compat.v1.placeholder instead.\n",
            "\n",
            "WARNING:tensorflow:From /usr/local/lib/python3.6/dist-packages/keras/backend/tensorflow_backend.py:4432: The name tf.random_uniform is deprecated. Please use tf.random.uniform instead.\n",
            "\n",
            "Model: \"sequential_1\"\n",
            "_________________________________________________________________\n",
            "Layer (type)                 Output Shape              Param #   \n",
            "=================================================================\n",
            "flatten_3 (Flatten)          (None, 3072)              0         \n",
            "_________________________________________________________________\n",
            "dense_3 (Dense)              (None, 1024)              3146752   \n",
            "_________________________________________________________________\n",
            "dense_4 (Dense)              (None, 512)               524800    \n",
            "_________________________________________________________________\n",
            "dense_5 (Dense)              (None, 256)               131328    \n",
            "_________________________________________________________________\n",
            "dense_6 (Dense)              (None, 10)                2570      \n",
            "=================================================================\n",
            "Total params: 3,805,450\n",
            "Trainable params: 3,805,450\n",
            "Non-trainable params: 0\n",
            "_________________________________________________________________\n"
          ],
          "name": "stdout"
        }
      ]
    },
    {
      "cell_type": "markdown",
      "metadata": {
        "ExecuteTime": {
          "end_time": "2019-10-17T18:14:15.075879Z",
          "start_time": "2019-10-17T18:14:15.070105Z"
        },
        "id": "NT3HIa1GJeDR",
        "colab_type": "text"
      },
      "source": [
        "## 2. Compile the model"
      ]
    },
    {
      "cell_type": "code",
      "metadata": {
        "ExecuteTime": {
          "end_time": "2019-10-17T18:46:29.270731Z",
          "start_time": "2019-10-17T18:46:29.224105Z"
        },
        "id": "O2rxO4kXJeDS",
        "colab_type": "code",
        "outputId": "eed51bbb-779c-45da-e3a4-919e131dedb4",
        "colab": {
          "base_uri": "https://localhost:8080/",
          "height": 85
        }
      },
      "source": [
        "# TODO: fill in learning rate, change optimize, etc\n",
        "from keras.optimizers import Adam, RMSprop\n",
        "\n",
        "mlp.compile(loss='categorical_crossentropy',\n",
        "            optimizer=Adam(),#learning_rate=0.0001),\n",
        "            metrics=['accuracy'])"
      ],
      "execution_count": 0,
      "outputs": [
        {
          "output_type": "stream",
          "text": [
            "WARNING:tensorflow:From /usr/local/lib/python3.6/dist-packages/keras/optimizers.py:793: The name tf.train.Optimizer is deprecated. Please use tf.compat.v1.train.Optimizer instead.\n",
            "\n",
            "WARNING:tensorflow:From /usr/local/lib/python3.6/dist-packages/keras/backend/tensorflow_backend.py:3576: The name tf.log is deprecated. Please use tf.math.log instead.\n",
            "\n"
          ],
          "name": "stdout"
        }
      ]
    },
    {
      "cell_type": "markdown",
      "metadata": {
        "id": "HqFwVm_PJeDU",
        "colab_type": "text"
      },
      "source": [
        "## 3. Train (fit) the model"
      ]
    },
    {
      "cell_type": "code",
      "metadata": {
        "ExecuteTime": {
          "end_time": "2019-10-17T18:45:04.470248Z",
          "start_time": "2019-10-17T18:43:03.839652Z"
        },
        "id": "SAO7EzLCJeDU",
        "colab_type": "code",
        "outputId": "fabb4cac-ea64-4cf9-a0ec-e3394cd766fc",
        "colab": {
          "base_uri": "https://localhost:8080/",
          "height": 734
        }
      },
      "source": [
        "# TODO: decide training parameters, insert a learning rate schedule - GO WILD!\n",
        "batch_size = 64\n",
        "epochs = 10\n",
        "\n",
        "mlp.fit(x_train, y_train, batch_size=batch_size, epochs=epochs,\n",
        "        validation_data=(x_test, y_test), shuffle=True)"
      ],
      "execution_count": 0,
      "outputs": [
        {
          "output_type": "stream",
          "text": [
            "WARNING:tensorflow:From /usr/local/lib/python3.6/dist-packages/tensorflow_core/python/ops/math_grad.py:1424: where (from tensorflow.python.ops.array_ops) is deprecated and will be removed in a future version.\n",
            "Instructions for updating:\n",
            "Use tf.where in 2.0, which has the same broadcast rule as np.where\n",
            "WARNING:tensorflow:From /usr/local/lib/python3.6/dist-packages/keras/backend/tensorflow_backend.py:1033: The name tf.assign_add is deprecated. Please use tf.compat.v1.assign_add instead.\n",
            "\n",
            "WARNING:tensorflow:From /usr/local/lib/python3.6/dist-packages/keras/backend/tensorflow_backend.py:1020: The name tf.assign is deprecated. Please use tf.compat.v1.assign instead.\n",
            "\n",
            "WARNING:tensorflow:From /usr/local/lib/python3.6/dist-packages/keras/backend/tensorflow_backend.py:3005: The name tf.Session is deprecated. Please use tf.compat.v1.Session instead.\n",
            "\n",
            "Train on 50000 samples, validate on 10000 samples\n",
            "Epoch 1/10\n",
            "WARNING:tensorflow:From /usr/local/lib/python3.6/dist-packages/keras/backend/tensorflow_backend.py:190: The name tf.get_default_session is deprecated. Please use tf.compat.v1.get_default_session instead.\n",
            "\n",
            "WARNING:tensorflow:From /usr/local/lib/python3.6/dist-packages/keras/backend/tensorflow_backend.py:197: The name tf.ConfigProto is deprecated. Please use tf.compat.v1.ConfigProto instead.\n",
            "\n",
            "WARNING:tensorflow:From /usr/local/lib/python3.6/dist-packages/keras/backend/tensorflow_backend.py:207: The name tf.global_variables is deprecated. Please use tf.compat.v1.global_variables instead.\n",
            "\n",
            "WARNING:tensorflow:From /usr/local/lib/python3.6/dist-packages/keras/backend/tensorflow_backend.py:216: The name tf.is_variable_initialized is deprecated. Please use tf.compat.v1.is_variable_initialized instead.\n",
            "\n",
            "WARNING:tensorflow:From /usr/local/lib/python3.6/dist-packages/keras/backend/tensorflow_backend.py:223: The name tf.variables_initializer is deprecated. Please use tf.compat.v1.variables_initializer instead.\n",
            "\n",
            "50000/50000 [==============================] - 60s 1ms/step - loss: 1.8697 - acc: 0.3261 - val_loss: 1.7622 - val_acc: 0.3648\n",
            "Epoch 2/10\n",
            "50000/50000 [==============================] - 59s 1ms/step - loss: 1.6719 - acc: 0.3977 - val_loss: 1.6414 - val_acc: 0.4187\n",
            "Epoch 3/10\n",
            "50000/50000 [==============================] - 60s 1ms/step - loss: 1.5805 - acc: 0.4305 - val_loss: 1.5687 - val_acc: 0.4322\n",
            "Epoch 4/10\n",
            "50000/50000 [==============================] - 60s 1ms/step - loss: 1.5182 - acc: 0.4564 - val_loss: 1.5718 - val_acc: 0.4438\n",
            "Epoch 5/10\n",
            "50000/50000 [==============================] - 59s 1ms/step - loss: 1.4720 - acc: 0.4706 - val_loss: 1.4814 - val_acc: 0.4682\n",
            "Epoch 6/10\n",
            "50000/50000 [==============================] - 59s 1ms/step - loss: 1.4368 - acc: 0.4879 - val_loss: 1.4459 - val_acc: 0.4794\n",
            "Epoch 7/10\n",
            "50000/50000 [==============================] - 59s 1ms/step - loss: 1.3960 - acc: 0.5004 - val_loss: 1.4578 - val_acc: 0.4800\n",
            "Epoch 8/10\n",
            "50000/50000 [==============================] - 59s 1ms/step - loss: 1.3643 - acc: 0.5140 - val_loss: 1.4347 - val_acc: 0.4936\n",
            "Epoch 9/10\n",
            "50000/50000 [==============================] - 59s 1ms/step - loss: 1.3379 - acc: 0.5205 - val_loss: 1.4347 - val_acc: 0.4901\n",
            "Epoch 10/10\n",
            "50000/50000 [==============================] - 59s 1ms/step - loss: 1.3097 - acc: 0.5318 - val_loss: 1.4066 - val_acc: 0.5088\n"
          ],
          "name": "stdout"
        },
        {
          "output_type": "execute_result",
          "data": {
            "text/plain": [
              "<keras.callbacks.History at 0x7f3a703b7be0>"
            ]
          },
          "metadata": {
            "tags": []
          },
          "execution_count": 37
        }
      ]
    },
    {
      "cell_type": "markdown",
      "metadata": {
        "id": "GlTyA8w9JeDY",
        "colab_type": "text"
      },
      "source": [
        "## 4. Evaluate the model\n",
        "\n",
        "Compute this metric:\n",
        "\n",
        "$$\\text{accuracy} = \\frac{N_{\\text{correct}}}{N_{\\text{total}}}$$\n",
        "\n",
        "Extra credit (for life, not this course): See [Wikipedia: Confusion Matrix](https://en.wikipedia.org/wiki/Confusion_matrix) for why accuracy is not always a good choice when evaluating models and what metric(s) to use instead."
      ]
    },
    {
      "cell_type": "code",
      "metadata": {
        "ExecuteTime": {
          "end_time": "2019-10-17T18:37:37.484084Z",
          "start_time": "2019-10-17T18:37:37.479527Z"
        },
        "id": "q5i9PHphJeDY",
        "colab_type": "code",
        "colab": {}
      },
      "source": [
        "# TODO: compute accuracy\n",
        "def get_accuracy(predictions, ground_truth):\n",
        "    return sum([(np.argmax(pred)==np.argmax(truth)) for pred, truth in zip(predictions, ground_truth)]) / len(predictions)"
      ],
      "execution_count": 0,
      "outputs": []
    },
    {
      "cell_type": "code",
      "metadata": {
        "ExecuteTime": {
          "end_time": "2019-10-17T18:41:59.420075Z",
          "start_time": "2019-10-17T18:41:58.730117Z"
        },
        "id": "sGZFn7uHJeDa",
        "colab_type": "code",
        "outputId": "15c19c67-7dc1-4b7f-de56-96852601b9b1",
        "colab": {
          "base_uri": "https://localhost:8080/",
          "height": 275
        }
      },
      "source": [
        "mlp_scores = mlp.evaluate(x_test, y_test, verbose=0)\n",
        "predictions = mlp.predict(x_test)\n",
        "\n",
        "print(\"MLP Accuracy:\", mlp_scores[1])\n",
        "print(\"My MLP Accuracy:\", get_accuracy(predictions, y_test))\n",
        "assert np.isclose(mlp_scores[1], get_accuracy(predictions, y_test))"
      ],
      "execution_count": 0,
      "outputs": [
        {
          "output_type": "stream",
          "text": [
            "WARNING:tensorflow:From /usr/local/lib/python3.6/dist-packages/keras/backend/tensorflow_backend.py:3005: The name tf.Session is deprecated. Please use tf.compat.v1.Session instead.\n",
            "\n",
            "WARNING:tensorflow:From /usr/local/lib/python3.6/dist-packages/keras/backend/tensorflow_backend.py:190: The name tf.get_default_session is deprecated. Please use tf.compat.v1.get_default_session instead.\n",
            "\n",
            "WARNING:tensorflow:From /usr/local/lib/python3.6/dist-packages/keras/backend/tensorflow_backend.py:197: The name tf.ConfigProto is deprecated. Please use tf.compat.v1.ConfigProto instead.\n",
            "\n",
            "WARNING:tensorflow:From /usr/local/lib/python3.6/dist-packages/keras/backend/tensorflow_backend.py:207: The name tf.global_variables is deprecated. Please use tf.compat.v1.global_variables instead.\n",
            "\n",
            "WARNING:tensorflow:From /usr/local/lib/python3.6/dist-packages/keras/backend/tensorflow_backend.py:216: The name tf.is_variable_initialized is deprecated. Please use tf.compat.v1.is_variable_initialized instead.\n",
            "\n",
            "WARNING:tensorflow:From /usr/local/lib/python3.6/dist-packages/keras/backend/tensorflow_backend.py:223: The name tf.variables_initializer is deprecated. Please use tf.compat.v1.variables_initializer instead.\n",
            "\n",
            "MLP Accuracy: 0.0941\n",
            "My MLP Accuracy: 0.0941\n"
          ],
          "name": "stdout"
        }
      ]
    },
    {
      "cell_type": "markdown",
      "metadata": {
        "id": "GeW2KvpKJeDc",
        "colab_type": "text"
      },
      "source": [
        "# The Convolutional Neural Network"
      ]
    },
    {
      "cell_type": "code",
      "metadata": {
        "ExecuteTime": {
          "end_time": "2019-10-17T18:50:41.557938Z",
          "start_time": "2019-10-17T18:50:41.480576Z"
        },
        "id": "k2KpyNX-JeDc",
        "colab_type": "code",
        "outputId": "81e8240b-33fe-42b5-cca8-5af8ba31db95",
        "colab": {
          "base_uri": "https://localhost:8080/",
          "height": 527
        }
      },
      "source": [
        "# TODO: define the cnn model\n",
        "from keras.layers import MaxPooling2D, Flatten, Dense, Conv2D, Conv1D, Activation\n",
        "from keras.models import Sequential\n",
        "\n",
        "cnn = Sequential([\n",
        "    Conv2D(32, (3, 3), padding='same', input_shape=(32, 32, 3), activation='relu'),\n",
        "    Conv2D(64, (3, 3), padding='same', activation='relu'),\n",
        "    Conv2D(128, (3, 3), padding='same', activation='relu'),\n",
        "    MaxPooling2D(pool_size=(4, 4), strides=(2, 2)),\n",
        "    Conv2D(256, (3, 3), padding='same', activation='relu'),\n",
        "    Conv2D(512, (3, 3), padding='same', activation='relu'),\n",
        "    Conv2D(1024, (3, 3), padding='same', activation='relu'),\n",
        "    MaxPooling2D(pool_size=(3, 3), strides=(2, 2)),\n",
        "    Flatten(),\n",
        "    Dense(500, activation='relu'),\n",
        "    Dense(n_classes, activation='softmax')\n",
        "])\n",
        "\n",
        "cnn.summary()"
      ],
      "execution_count": 0,
      "outputs": [
        {
          "output_type": "stream",
          "text": [
            "Model: \"sequential_30\"\n",
            "_________________________________________________________________\n",
            "Layer (type)                 Output Shape              Param #   \n",
            "=================================================================\n",
            "conv2d_188 (Conv2D)          (None, 32, 32, 32)        896       \n",
            "_________________________________________________________________\n",
            "conv2d_189 (Conv2D)          (None, 32, 32, 64)        18496     \n",
            "_________________________________________________________________\n",
            "conv2d_190 (Conv2D)          (None, 32, 32, 128)       73856     \n",
            "_________________________________________________________________\n",
            "max_pooling2d_64 (MaxPooling (None, 15, 15, 128)       0         \n",
            "_________________________________________________________________\n",
            "conv2d_191 (Conv2D)          (None, 15, 15, 256)       295168    \n",
            "_________________________________________________________________\n",
            "conv2d_192 (Conv2D)          (None, 15, 15, 512)       1180160   \n",
            "_________________________________________________________________\n",
            "conv2d_193 (Conv2D)          (None, 15, 15, 1024)      4719616   \n",
            "_________________________________________________________________\n",
            "max_pooling2d_65 (MaxPooling (None, 7, 7, 1024)        0         \n",
            "_________________________________________________________________\n",
            "flatten_32 (Flatten)         (None, 50176)             0         \n",
            "_________________________________________________________________\n",
            "dense_66 (Dense)             (None, 500)               25088500  \n",
            "_________________________________________________________________\n",
            "dense_67 (Dense)             (None, 10)                5010      \n",
            "=================================================================\n",
            "Total params: 31,381,702\n",
            "Trainable params: 31,381,702\n",
            "Non-trainable params: 0\n",
            "_________________________________________________________________\n"
          ],
          "name": "stdout"
        }
      ]
    },
    {
      "cell_type": "markdown",
      "metadata": {
        "ExecuteTime": {
          "end_time": "2019-10-17T18:53:18.117287Z",
          "start_time": "2019-10-17T18:52:00.278Z"
        },
        "id": "jns-rv8pJeDe",
        "colab_type": "text"
      },
      "source": [
        "## 2. Compile the model"
      ]
    },
    {
      "cell_type": "code",
      "metadata": {
        "ExecuteTime": {
          "end_time": "2019-10-17T18:50:53.147288Z",
          "start_time": "2019-10-17T18:50:53.111279Z"
        },
        "id": "cB6kYECeJeDe",
        "colab_type": "code",
        "colab": {}
      },
      "source": [
        "# TODO: fill in learning rate, change optimize, etc\n",
        "from keras.optimizers import RMSprop\n",
        "\n",
        "cnn.compile(loss='categorical_crossentropy',\n",
        "            optimizer=RMSprop(0.0001),\n",
        "            metrics=['accuracy'])"
      ],
      "execution_count": 0,
      "outputs": []
    },
    {
      "cell_type": "markdown",
      "metadata": {
        "id": "taQsT9-UJeDg",
        "colab_type": "text"
      },
      "source": [
        "## 3. Train the model\n",
        "\n",
        "Optional, but recommended: Add a [Tensorboard callback](https://keras.io/callbacks/#tensorboard) to `cnn.fit()` to monitor the training."
      ]
    },
    {
      "cell_type": "code",
      "metadata": {
        "ExecuteTime": {
          "end_time": "2019-10-17T18:53:18.108561Z",
          "start_time": "2019-10-17T18:50:53.567954Z"
        },
        "id": "0hu_2nWTJeDg",
        "colab_type": "code",
        "outputId": "07ad9edf-15db-4511-a402-7315c2aaa6e7",
        "colab": {
          "base_uri": "https://localhost:8080/",
          "height": 323
        }
      },
      "source": [
        "# TODO: decide training parameters, insert a learning rate schedule - GO WILD!\n",
        "batch_size = 64\n",
        "epochs = 8\n",
        "\n",
        "cnn.fit(x_train, y_train, batch_size=batch_size, epochs=epochs,\n",
        "        validation_data=(x_test, y_test), shuffle=True)"
      ],
      "execution_count": 0,
      "outputs": [
        {
          "output_type": "stream",
          "text": [
            "Train on 50000 samples, validate on 10000 samples\n",
            "Epoch 1/8\n",
            "50000/50000 [==============================] - 141s 3ms/step - loss: 1.4688 - acc: 0.4736 - val_loss: 1.1719 - val_acc: 0.5902\n",
            "Epoch 2/8\n",
            "50000/50000 [==============================] - 137s 3ms/step - loss: 0.9570 - acc: 0.6659 - val_loss: 1.1117 - val_acc: 0.6220\n",
            "Epoch 3/8\n",
            "50000/50000 [==============================] - 137s 3ms/step - loss: 0.7409 - acc: 0.7454 - val_loss: 0.8729 - val_acc: 0.7001\n",
            "Epoch 4/8\n",
            "50000/50000 [==============================] - 136s 3ms/step - loss: 0.5967 - acc: 0.7950 - val_loss: 0.7996 - val_acc: 0.7448\n",
            "Epoch 5/8\n",
            "50000/50000 [==============================] - 136s 3ms/step - loss: 0.4882 - acc: 0.8317 - val_loss: 0.8520 - val_acc: 0.7288\n",
            "Epoch 6/8\n",
            "50000/50000 [==============================] - 137s 3ms/step - loss: 0.3831 - acc: 0.8668 - val_loss: 0.7446 - val_acc: 0.7632\n",
            "Epoch 7/8\n",
            "50000/50000 [==============================] - 137s 3ms/step - loss: 0.2925 - acc: 0.8986 - val_loss: 0.7033 - val_acc: 0.7979\n",
            "Epoch 8/8\n",
            "50000/50000 [==============================] - 137s 3ms/step - loss: 0.2169 - acc: 0.9251 - val_loss: 0.7978 - val_acc: 0.7833\n"
          ],
          "name": "stdout"
        },
        {
          "output_type": "execute_result",
          "data": {
            "text/plain": [
              "<keras.callbacks.History at 0x7f0a72c05cf8>"
            ]
          },
          "metadata": {
            "tags": []
          },
          "execution_count": 120
        }
      ]
    },
    {
      "cell_type": "code",
      "metadata": {
        "id": "NUoshU2ApqBu",
        "colab_type": "code",
        "outputId": "ca643c71-5137-4883-83c2-d85d0f0026b7",
        "colab": {
          "base_uri": "https://localhost:8080/",
          "height": 85
        }
      },
      "source": [
        "epochs = 1\n",
        "\n",
        "cnn.fit(x_train, y_train, batch_size=batch_size, epochs=epochs,\n",
        "        validation_data=(x_test, y_test), shuffle=True)"
      ],
      "execution_count": 0,
      "outputs": [
        {
          "output_type": "stream",
          "text": [
            "Train on 50000 samples, validate on 10000 samples\n",
            "Epoch 1/1\n",
            "50000/50000 [==============================] - 137s 3ms/step - loss: 0.1548 - acc: 0.9460 - val_loss: 0.7990 - val_acc: 0.7988\n"
          ],
          "name": "stdout"
        },
        {
          "output_type": "execute_result",
          "data": {
            "text/plain": [
              "<keras.callbacks.History at 0x7f0a739c4278>"
            ]
          },
          "metadata": {
            "tags": []
          },
          "execution_count": 122
        }
      ]
    },
    {
      "cell_type": "code",
      "metadata": {
        "id": "lb84iYepykP8",
        "colab_type": "code",
        "outputId": "548ee34d-1239-4f03-cdb0-967892102a01",
        "colab": {
          "base_uri": "https://localhost:8080/",
          "height": 85
        }
      },
      "source": [
        "epochs = 1\n",
        "\n",
        "cnn.fit(x_train, y_train, batch_size=batch_size, epochs=epochs,\n",
        "        validation_data=(x_test, y_test), shuffle=True)"
      ],
      "execution_count": 0,
      "outputs": [
        {
          "output_type": "stream",
          "text": [
            "Train on 50000 samples, validate on 10000 samples\n",
            "Epoch 1/1\n",
            "50000/50000 [==============================] - 136s 3ms/step - loss: 0.1114 - acc: 0.9607 - val_loss: 0.8361 - val_acc: 0.8074\n"
          ],
          "name": "stdout"
        },
        {
          "output_type": "execute_result",
          "data": {
            "text/plain": [
              "<keras.callbacks.History at 0x7f0a73a115c0>"
            ]
          },
          "metadata": {
            "tags": []
          },
          "execution_count": 124
        }
      ]
    },
    {
      "cell_type": "markdown",
      "metadata": {
        "ExecuteTime": {
          "end_time": "2019-10-17T18:53:18.123346Z",
          "start_time": "2019-10-17T18:52:24.364Z"
        },
        "id": "eRr-WpcuJeDi",
        "colab_type": "text"
      },
      "source": [
        "## 4. Evaluate the model"
      ]
    },
    {
      "cell_type": "code",
      "metadata": {
        "ExecuteTime": {
          "end_time": "2019-10-17T18:53:43.340229Z",
          "start_time": "2019-10-17T18:53:40.017736Z"
        },
        "id": "ESBDvTz8JeDj",
        "colab_type": "code",
        "outputId": "07a4d9b9-8314-4fd3-874c-d594d37eb8c0",
        "colab": {
          "base_uri": "https://localhost:8080/",
          "height": 51
        }
      },
      "source": [
        "cnn_scores = cnn.evaluate(x_test, y_test, verbose=0)\n",
        "predictions = cnn.predict(x_test)\n",
        "\n",
        "print(\"CNN Accuracy:\", cnn_scores[1])\n",
        "print(\"My CNN Accuracy:\", get_accuracy(predictions, y_test))\n",
        "assert np.isclose(cnn_scores[1], get_accuracy(predictions, y_test))"
      ],
      "execution_count": 0,
      "outputs": [
        {
          "output_type": "stream",
          "text": [
            "CNN Accuracy: 0.8074\n",
            "My CNN Accuracy: 0.8074\n"
          ],
          "name": "stdout"
        }
      ]
    },
    {
      "cell_type": "code",
      "metadata": {
        "id": "ceWavBmWJeDl",
        "colab_type": "code",
        "colab": {}
      },
      "source": [
        ""
      ],
      "execution_count": 0,
      "outputs": []
    }
  ]
}