{
 "cells": [
  {
   "cell_type": "markdown",
   "metadata": {},
   "source": [
    "# TF Lite and transfer learning\n",
    "\n",
    "Implement all the ToDos.\n",
    "\n",
    "You are working with the [Mendeley](https://data.mendeley.com/datasets/yz4v8tb3tp/5) dataset, which is modified version of the [LFWcrop](http://conradsanderson.id.au/lfwcrop/) dataset. The data is divided into two classes `smiling` and `non-smiling`. The samples for each class are located in a folder named after the class. There are aroung 600 images in each class."
   ]
  },
  {
   "cell_type": "code",
   "execution_count": null,
   "metadata": {},
   "outputs": [],
   "source": [
    "import tensorflow as tf\n",
    "from tensorflow import keras\n",
    "from PIL import Image\n",
    "import numpy as np\n",
    "import matplotlib.pyplot as plt\n",
    "import os\n",
    "import collections\n",
    "import h5py\n",
    "import pathlib \n",
    "%matplotlib inline"
   ]
  },
  {
   "cell_type": "code",
   "execution_count": null,
   "metadata": {},
   "outputs": [],
   "source": [
    "# ToDo: load the data from disk. Be sure to keep the images associated to their class (folder name)\n",
    "def loadDataset(directory):\n",
    "    # keep link between images and labels (folder names). Use for example OrderedDict\n",
    "    result = collections.OrderedDict()\n",
    "        \n",
    "    return result"
   ]
  },
  {
   "cell_type": "code",
   "execution_count": null,
   "metadata": {},
   "outputs": [],
   "source": [
    "data = loadDataset(\"resources/dataset/\")\n",
    "\n",
    "# ToDo: split the dataset into subsets for training and testing.\n",
    "X_train = \n",
    "X_test = \n",
    "\n",
    "\n",
    "y_train =                  \n",
    "y_test = "
   ]
  },
  {
   "cell_type": "code",
   "execution_count": null,
   "metadata": {},
   "outputs": [],
   "source": [
    "# ToDo: Load a pretrained Network using keras. Choose from https://keras.io/applications/\n",
    "# ALTERNATIVELY: Define your own network using the keras sequential API: https://keras.io/getting-started/sequential-model-guide/\n",
    "base_model = \n",
    "base_model.trainable = False\n",
    "base_model.summary()"
   ]
  },
  {
   "cell_type": "code",
   "execution_count": null,
   "metadata": {},
   "outputs": [],
   "source": [
    "# ToDo: Append new output layers to the loaded model using the keras sequential API: https://keras.io/getting-started/sequential-model-guide/\n",
    "\n",
    "model = tf.keras.Sequential([\n",
    "  ...\n",
    "])\n",
    "\n",
    "model.compile(...)"
   ]
  },
  {
   "cell_type": "code",
   "execution_count": null,
   "metadata": {},
   "outputs": [],
   "source": [
    "# ToDo define training checkpointing\n",
    "\n",
    "checkpoint_path = \n",
    "checkpoint_dir = \n",
    "\n",
    "# ToDo: create checkpoint callback\n",
    "cp_callback ="
   ]
  },
  {
   "cell_type": "code",
   "execution_count": null,
   "metadata": {},
   "outputs": [],
   "source": [
    "# ToDo: Train your model and save it as HDF5 file\n",
    "# again, use https://keras.io/models/model/ \n",
    "\n",
    "fileName = \"model.hd5\"\n",
    "\n",
    "model.fit(X_train, y_train, callbacks=[cp_callback], ... )\n",
    "model.evaluate(X_test, Y_test, ...)\n",
    "\n",
    "model.save(fileName)"
   ]
  },
  {
   "cell_type": "code",
   "execution_count": null,
   "metadata": {},
   "outputs": [],
   "source": [
    "# Run this command for detailed documentation on the attributes of tflite-convert.\n",
    "help(tf.lite.TFLiteConverter)"
   ]
  },
  {
   "cell_type": "code",
   "execution_count": null,
   "metadata": {},
   "outputs": [],
   "source": [
    "# ToDo: Convert to TensorFlow Lite model and save.\n",
    "converter = \n",
    "tflite_model = \n",
    "open(\"graph.tflite\", \"wb\").write(tflite_model)"
   ]
  }
 ],
 "metadata": {
  "kernelspec": {
   "display_name": "Python 3",
   "language": "python",
   "name": "python3"
  },
  "language_info": {
   "codemirror_mode": {
    "name": "ipython",
    "version": 3
   },
   "file_extension": ".py",
   "mimetype": "text/x-python",
   "name": "python",
   "nbconvert_exporter": "python",
   "pygments_lexer": "ipython3",
   "version": "3.6.8"
  }
 },
 "nbformat": 4,
 "nbformat_minor": 2
}
