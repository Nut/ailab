{
 "cells": [
  {
   "cell_type": "markdown",
   "metadata": {},
   "source": [
    "# CIFAR-10 Object Classification\n",
    "\n",
    "The CIFAR-10 dataset contains 60k 32x32 pixel color images from 10 different classes.\n",
    "\n",
    "The classes are:\n",
    "- airplane \n",
    "- automobile \n",
    "- bird \n",
    "- cat \n",
    "- deer \n",
    "- dog \n",
    "- frog \n",
    "- horse \n",
    "- ship \n",
    "- truck\n",
    "\n",
    "Tasks:\n",
    "\n",
    "- implement the TODOs\n",
    "- train a MLP to achieve >50% test accuracy\n",
    "- train a CNN to achieve >80% test accuracy\n",
    "\n",
    "Help:\n",
    "- use the Keras API Documentation [https://www.keras.io/)\n",
    "\n",
    "<hr>"
   ]
  },
  {
   "cell_type": "markdown",
   "metadata": {},
   "source": [
    "# Download data"
   ]
  },
  {
   "cell_type": "code",
   "execution_count": 1,
   "metadata": {
    "ExecuteTime": {
     "end_time": "2019-10-17T09:16:15.832547Z",
     "start_time": "2019-10-17T09:16:00.665123Z"
    }
   },
   "outputs": [],
   "source": [
    "%%sh\n",
    "# download CIFAR-10 if needed\n",
    "if [ ! -d cifar-10-batches-py ]; then\n",
    "    wget -c -q https://www.cs.toronto.edu/~kriz/cifar-10-python.tar.gz\n",
    "    tar xzf cifar-10-python.tar.gz\n",
    "    rm cifar-10-python.tar.gz\n",
    "fi"
   ]
  },
  {
   "cell_type": "markdown",
   "metadata": {},
   "source": [
    "# Install keras"
   ]
  },
  {
   "cell_type": "code",
   "execution_count": 2,
   "metadata": {},
   "outputs": [
    {
     "name": "stdout",
     "output_type": "stream",
     "text": [
      "Requirement already satisfied: keras in /usr/local/lib/python3.6/site-packages (2.3.1)\n",
      "Requirement already satisfied: h5py in /usr/local/lib/python3.6/site-packages (from keras) (2.9.0)\n",
      "Requirement already satisfied: six>=1.9.0 in /usr/local/lib/python3.6/site-packages (from keras) (1.12.0)\n",
      "Requirement already satisfied: keras-applications>=1.0.6 in /usr/local/lib/python3.6/site-packages (from keras) (1.0.7)\n",
      "Requirement already satisfied: numpy>=1.9.1 in /usr/local/lib/python3.6/site-packages (from keras) (1.16.2)\n",
      "Requirement already satisfied: pyyaml in /usr/local/lib/python3.6/site-packages (from keras) (5.1.2)\n",
      "Requirement already satisfied: keras-preprocessing>=1.0.5 in /usr/local/lib/python3.6/site-packages (from keras) (1.0.9)\n",
      "Requirement already satisfied: scipy>=0.14 in /usr/local/lib/python3.6/site-packages (from keras) (1.2.1)\n"
     ]
    },
    {
     "name": "stderr",
     "output_type": "stream",
     "text": [
      "You are using pip version 18.1, however version 19.3.1 is available.\n",
      "You should consider upgrading via the 'pip install --upgrade pip' command.\n"
     ]
    }
   ],
   "source": [
    "%%sh\n",
    "pip install keras"
   ]
  },
  {
   "cell_type": "markdown",
   "metadata": {},
   "source": [
    "# Imports"
   ]
  },
  {
   "cell_type": "code",
   "execution_count": 1,
   "metadata": {
    "ExecuteTime": {
     "end_time": "2019-10-17T19:03:49.424862Z",
     "start_time": "2019-10-17T19:03:49.420290Z"
    }
   },
   "outputs": [],
   "source": [
    "import numpy as np\n",
    "import pickle\n",
    "import matplotlib.pyplot as plt\n",
    "import cv2\n",
    "%matplotlib inline"
   ]
  },
  {
   "cell_type": "markdown",
   "metadata": {},
   "source": [
    "# Preparations"
   ]
  },
  {
   "cell_type": "code",
   "execution_count": 2,
   "metadata": {
    "ExecuteTime": {
     "end_time": "2019-10-17T19:07:45.207184Z",
     "start_time": "2019-10-17T19:07:45.202930Z"
    }
   },
   "outputs": [],
   "source": [
    "# function to unpickle data files\n",
    "def unpickle(file):\n",
    "    with open(file, 'rb') as fo:\n",
    "        return pickle.load(fo, encoding='bytes')\n",
    "\n",
    "# function to store  data in pickle file\n",
    "def store(obj, filename):\n",
    "    pickle.dump(obj, open('cifar-10-batches-py/' + filename, 'wb'))"
   ]
  },
  {
   "cell_type": "code",
   "execution_count": 3,
   "metadata": {
    "ExecuteTime": {
     "end_time": "2019-10-17T19:07:45.705602Z",
     "start_time": "2019-10-17T19:07:45.693257Z"
    }
   },
   "outputs": [],
   "source": [
    "# TODO: decode pickle data as images\n",
    "# see https://www.cs.toronto.edu/~kriz/cifar.html for the storage format\n",
    "def decode_as_image(img_flat):\n",
    "    img_R = img_flat[0:1024]\n",
    "    img_G = img_flat[1024:2048]\n",
    "    img_B = img_flat[2048:3072]\n",
    "    return np.dstack((img_R, img_G, img_B)).reshape(32, 32, 3)\n",
    "\n",
    "# NOTE: alternatively use reshape & np.rollaxis"
   ]
  },
  {
   "cell_type": "code",
   "execution_count": 4,
   "metadata": {},
   "outputs": [],
   "source": [
    "def showBGR(imgRGB):\n",
    "    plt.figure(figsize=(12,8))\n",
    "    plt.imshow(imgRGB)"
   ]
  },
  {
   "cell_type": "code",
   "execution_count": 5,
   "metadata": {
    "ExecuteTime": {
     "end_time": "2019-10-17T18:28:29.770521Z",
     "start_time": "2019-10-17T18:28:29.057316Z"
    }
   },
   "outputs": [],
   "source": [
    "# load train data and save to disk for later usage\n",
    "# note: you might need to give Docker more memory\n",
    "# alternatively, execute separately\n",
    "x_train = []\n",
    "for i in range(1, 6):\n",
    "    x_train_b = unpickle('cifar-10-batches-py/data_batch_' + str(i)).get(bytes('data', 'ascii'))\n",
    "    for img in x_train_b:\n",
    "        img = decode_as_image(img)\n",
    "        x_train.append(img)\n",
    "\n",
    "x_train = np.array(x_train)\n",
    "assert x_train.shape == (50000, 32, 32, 3)\n",
    "#print(x_train[0].shape)\n",
    "#showBGR(x_train[9])\n",
    "        \n",
    "# save to disk\n",
    "store(x_train, 'x_train')"
   ]
  },
  {
   "cell_type": "code",
   "execution_count": 6,
   "metadata": {
    "ExecuteTime": {
     "end_time": "2019-10-17T18:28:48.352156Z",
     "start_time": "2019-10-17T18:28:48.196333Z"
    }
   },
   "outputs": [],
   "source": [
    "# load test data and save to disk for later usage\n",
    "x_test = []\n",
    "x_test_b = unpickle('cifar-10-batches-py/test_batch').get(bytes('data', 'ascii'))\n",
    "for img in x_test_b:\n",
    "    img = decode_as_image(img)\n",
    "    x_test.append(img)\n",
    "\n",
    "x_test = np.array(x_test)\n",
    "assert x_test.shape == (10000, 32, 32, 3)\n",
    "    \n",
    "# save to disk\n",
    "store(x_test, 'x_test')"
   ]
  },
  {
   "cell_type": "code",
   "execution_count": 7,
   "metadata": {
    "ExecuteTime": {
     "end_time": "2019-10-17T19:06:35.736132Z",
     "start_time": "2019-10-17T19:06:35.532987Z"
    }
   },
   "outputs": [],
   "source": [
    "# load train and test labels and save to disk\n",
    "y_train = np.concatenate([\n",
    "    unpickle('cifar-10-batches-py/data_batch_' + str(i)).get(bytes('labels', 'ascii'))\n",
    "    for i in range(1, 6)\n",
    "])\n",
    "assert y_train.shape == (50000,)\n",
    "store(y_train, 'y_train')\n",
    "\n",
    "y_test = np.array(unpickle('cifar-10-batches-py/test_batch').get(bytes('labels', 'ascii')))\n",
    "assert y_test.shape == (10000,)\n",
    "store(y_test, 'y_test')"
   ]
  },
  {
   "cell_type": "markdown",
   "metadata": {},
   "source": [
    "# Load prepared data"
   ]
  },
  {
   "cell_type": "code",
   "execution_count": 8,
   "metadata": {
    "ExecuteTime": {
     "end_time": "2019-10-17T19:07:49.516623Z",
     "start_time": "2019-10-17T19:07:49.335325Z"
    }
   },
   "outputs": [
    {
     "name": "stdout",
     "output_type": "stream",
     "text": [
      "(50000, 32, 32, 3)\n",
      "(10000, 32, 32, 3)\n"
     ]
    }
   ],
   "source": [
    "x_train = unpickle(\"cifar-10-batches-py/x_train\")\n",
    "x_test = unpickle(\"cifar-10-batches-py/x_test\")\n",
    "y_train = unpickle(\"cifar-10-batches-py/y_train\")\n",
    "y_test = unpickle(\"cifar-10-batches-py/y_test\")\n",
    "\n",
    "print(x_train.shape)\n",
    "print(x_test.shape)"
   ]
  },
  {
   "cell_type": "code",
   "execution_count": 9,
   "metadata": {
    "ExecuteTime": {
     "end_time": "2019-10-17T19:07:50.511401Z",
     "start_time": "2019-10-17T19:07:50.095818Z"
    }
   },
   "outputs": [
    {
     "data": {
      "image/png": "[encoded data removed]",
      "text/plain": [
       "<Figure size 1296x216 with 5 Axes>"
      ]
     },
     "metadata": {
      "needs_background": "light"
     },
     "output_type": "display_data"
    }
   ],
   "source": [
    "# show 5 random training samples\n",
    "%matplotlib inline\n",
    "import matplotlib.pyplot as plt\n",
    "\n",
    "label_mapping = ['airplane', 'automobile', 'bird', 'cat', 'deer', 'dog', 'frog', 'horse', 'ship', 'truck']\n",
    "\n",
    "indices = np.arange(x_train.shape[0])\n",
    "np.random.shuffle(indices)\n",
    "plt.figure(figsize=(18,3))\n",
    "for i, idx in enumerate(indices[:5]):\n",
    "    plt.subplot(1, 5, i + 1)\n",
    "    plt.title(\"Class: {}\".format(label_mapping[int(y_train[idx])]))\n",
    "    plt.imshow(x_train[idx])\n",
    "plt.show()"
   ]
  },
  {
   "cell_type": "markdown",
   "metadata": {},
   "source": [
    "# Prepare dataset for training and labels"
   ]
  },
  {
   "cell_type": "code",
   "execution_count": 10,
   "metadata": {
    "ExecuteTime": {
     "end_time": "2019-10-17T18:29:38.301104Z",
     "start_time": "2019-10-17T18:29:38.022966Z"
    }
   },
   "outputs": [],
   "source": [
    "# TODO: normalize data and cast to float32\n",
    "# x_train = np.asarray([x / 255.0 for x in x_train])\n",
    "# x_test = np.asarray([x / 255.0 for x in x_test])\n",
    "x_train = x_train.astype(np.float32) / 255.0\n",
    "x_test = x_test.astype(np.float32) / 255.0"
   ]
  },
  {
   "cell_type": "code",
   "execution_count": 11,
   "metadata": {},
   "outputs": [
    {
     "data": {
      "text/plain": [
       "array([[[[0.23137255, 0.24313726, 0.24705882],\n",
       "         [0.16862746, 0.18039216, 0.1764706 ],\n",
       "         [0.19607843, 0.1882353 , 0.16862746],\n",
       "         ...,\n",
       "         [0.61960787, 0.5176471 , 0.42352942],\n",
       "         [0.59607846, 0.49019608, 0.4       ],\n",
       "         [0.5803922 , 0.4862745 , 0.40392157]],\n",
       "\n",
       "        [[0.0627451 , 0.07843138, 0.07843138],\n",
       "         [0.        , 0.        , 0.        ],\n",
       "         [0.07058824, 0.03137255, 0.        ],\n",
       "         ...,\n",
       "         [0.48235294, 0.34509805, 0.21568628],\n",
       "         [0.46666667, 0.3254902 , 0.19607843],\n",
       "         [0.47843137, 0.34117648, 0.22352941]],\n",
       "\n",
       "        [[0.09803922, 0.09411765, 0.08235294],\n",
       "         [0.0627451 , 0.02745098, 0.        ],\n",
       "         [0.19215687, 0.10588235, 0.03137255],\n",
       "         ...,\n",
       "         [0.4627451 , 0.32941177, 0.19607843],\n",
       "         [0.47058824, 0.32941177, 0.19607843],\n",
       "         [0.42745098, 0.28627452, 0.16470589]],\n",
       "\n",
       "        ...,\n",
       "\n",
       "        [[0.8156863 , 0.6666667 , 0.3764706 ],\n",
       "         [0.7882353 , 0.6       , 0.13333334],\n",
       "         [0.7764706 , 0.6313726 , 0.10196079],\n",
       "         ...,\n",
       "         [0.627451  , 0.52156866, 0.27450982],\n",
       "         [0.21960784, 0.12156863, 0.02745098],\n",
       "         [0.20784314, 0.13333334, 0.07843138]],\n",
       "\n",
       "        [[0.7058824 , 0.54509807, 0.3764706 ],\n",
       "         [0.6784314 , 0.48235294, 0.16470589],\n",
       "         [0.7294118 , 0.5647059 , 0.11764706],\n",
       "         ...,\n",
       "         [0.72156864, 0.5803922 , 0.36862746],\n",
       "         [0.38039216, 0.24313726, 0.13333334],\n",
       "         [0.3254902 , 0.20784314, 0.13333334]],\n",
       "\n",
       "        [[0.69411767, 0.5647059 , 0.45490196],\n",
       "         [0.65882355, 0.5058824 , 0.36862746],\n",
       "         [0.7019608 , 0.5568628 , 0.34117648],\n",
       "         ...,\n",
       "         [0.84705883, 0.72156864, 0.54901963],\n",
       "         [0.5921569 , 0.4627451 , 0.32941177],\n",
       "         [0.48235294, 0.36078432, 0.28235295]]],\n",
       "\n",
       "\n",
       "       [[[0.6039216 , 0.69411767, 0.73333335],\n",
       "         [0.49411765, 0.5372549 , 0.53333336],\n",
       "         [0.4117647 , 0.40784314, 0.37254903],\n",
       "         ...,\n",
       "         [0.35686275, 0.37254903, 0.2784314 ],\n",
       "         [0.34117648, 0.3529412 , 0.2784314 ],\n",
       "         [0.30980393, 0.31764707, 0.27450982]],\n",
       "\n",
       "        [[0.54901963, 0.627451  , 0.6627451 ],\n",
       "         [0.5686275 , 0.6       , 0.6039216 ],\n",
       "         [0.49019608, 0.49019608, 0.4627451 ],\n",
       "         ...,\n",
       "         [0.3764706 , 0.3882353 , 0.30588236],\n",
       "         [0.3019608 , 0.3137255 , 0.24313726],\n",
       "         [0.2784314 , 0.28627452, 0.23921569]],\n",
       "\n",
       "        [[0.54901963, 0.60784316, 0.6431373 ],\n",
       "         [0.54509807, 0.57254905, 0.58431375],\n",
       "         [0.4509804 , 0.4509804 , 0.4392157 ],\n",
       "         ...,\n",
       "         [0.30980393, 0.32156864, 0.2509804 ],\n",
       "         [0.26666668, 0.27450982, 0.21568628],\n",
       "         [0.2627451 , 0.27058825, 0.21568628]],\n",
       "\n",
       "        ...,\n",
       "\n",
       "        [[0.6862745 , 0.654902  , 0.6509804 ],\n",
       "         [0.6117647 , 0.6039216 , 0.627451  ],\n",
       "         [0.6039216 , 0.627451  , 0.6666667 ],\n",
       "         ...,\n",
       "         [0.16470589, 0.13333334, 0.14117648],\n",
       "         [0.23921569, 0.20784314, 0.22352941],\n",
       "         [0.3647059 , 0.3254902 , 0.35686275]],\n",
       "\n",
       "        [[0.64705884, 0.6039216 , 0.5019608 ],\n",
       "         [0.6117647 , 0.59607846, 0.50980395],\n",
       "         [0.62352943, 0.6313726 , 0.5568628 ],\n",
       "         ...,\n",
       "         [0.40392157, 0.3647059 , 0.3764706 ],\n",
       "         [0.48235294, 0.44705883, 0.47058824],\n",
       "         [0.5137255 , 0.4745098 , 0.5137255 ]],\n",
       "\n",
       "        [[0.6392157 , 0.5803922 , 0.47058824],\n",
       "         [0.61960787, 0.5803922 , 0.47843137],\n",
       "         [0.6392157 , 0.6117647 , 0.52156866],\n",
       "         ...,\n",
       "         [0.56078434, 0.52156866, 0.54509807],\n",
       "         [0.56078434, 0.5254902 , 0.5568628 ],\n",
       "         [0.56078434, 0.52156866, 0.5647059 ]]],\n",
       "\n",
       "\n",
       "       [[[1.        , 1.        , 1.        ],\n",
       "         [0.99215686, 0.99215686, 0.99215686],\n",
       "         [0.99215686, 0.99215686, 0.99215686],\n",
       "         ...,\n",
       "         [0.99215686, 0.99215686, 0.99215686],\n",
       "         [0.99215686, 0.99215686, 0.99215686],\n",
       "         [0.99215686, 0.99215686, 0.99215686]],\n",
       "\n",
       "        [[1.        , 1.        , 1.        ],\n",
       "         [1.        , 1.        , 1.        ],\n",
       "         [1.        , 1.        , 1.        ],\n",
       "         ...,\n",
       "         [1.        , 1.        , 1.        ],\n",
       "         [1.        , 1.        , 1.        ],\n",
       "         [1.        , 1.        , 1.        ]],\n",
       "\n",
       "        [[1.        , 1.        , 1.        ],\n",
       "         [0.99607843, 0.99607843, 0.99607843],\n",
       "         [0.99607843, 0.99607843, 0.99607843],\n",
       "         ...,\n",
       "         [0.99607843, 0.99607843, 0.99607843],\n",
       "         [0.99607843, 0.99607843, 0.99607843],\n",
       "         [0.99607843, 0.99607843, 0.99607843]],\n",
       "\n",
       "        ...,\n",
       "\n",
       "        [[0.44313726, 0.47058824, 0.4392157 ],\n",
       "         [0.43529412, 0.4627451 , 0.43529412],\n",
       "         [0.4117647 , 0.4392157 , 0.41568628],\n",
       "         ...,\n",
       "         [0.28235295, 0.31764707, 0.3137255 ],\n",
       "         [0.28235295, 0.3137255 , 0.30980393],\n",
       "         [0.28235295, 0.3137255 , 0.30980393]],\n",
       "\n",
       "        [[0.43529412, 0.4627451 , 0.43137255],\n",
       "         [0.40784314, 0.43529412, 0.40784314],\n",
       "         [0.3882353 , 0.41568628, 0.38431373],\n",
       "         ...,\n",
       "         [0.26666668, 0.29411766, 0.28627452],\n",
       "         [0.27450982, 0.29803923, 0.29411766],\n",
       "         [0.30588236, 0.32941177, 0.32156864]],\n",
       "\n",
       "        [[0.41568628, 0.44313726, 0.4117647 ],\n",
       "         [0.3882353 , 0.41568628, 0.38431373],\n",
       "         [0.37254903, 0.4       , 0.36862746],\n",
       "         ...,\n",
       "         [0.30588236, 0.33333334, 0.3254902 ],\n",
       "         [0.30980393, 0.33333334, 0.3254902 ],\n",
       "         [0.3137255 , 0.3372549 , 0.32941177]]],\n",
       "\n",
       "\n",
       "       ...,\n",
       "\n",
       "\n",
       "       [[[0.13725491, 0.69803923, 0.92156863],\n",
       "         [0.15686275, 0.6901961 , 0.9372549 ],\n",
       "         [0.16470589, 0.6901961 , 0.94509804],\n",
       "         ...,\n",
       "         [0.3882353 , 0.69411767, 0.85882354],\n",
       "         [0.30980393, 0.5764706 , 0.77254903],\n",
       "         [0.34901962, 0.5803922 , 0.7411765 ]],\n",
       "\n",
       "        [[0.22352941, 0.7137255 , 0.91764706],\n",
       "         [0.17254902, 0.72156864, 0.98039216],\n",
       "         [0.19607843, 0.7176471 , 0.9411765 ],\n",
       "         ...,\n",
       "         [0.6117647 , 0.7137255 , 0.78431374],\n",
       "         [0.5529412 , 0.69411767, 0.80784315],\n",
       "         [0.45490196, 0.58431375, 0.6862745 ]],\n",
       "\n",
       "        [[0.38431373, 0.77254903, 0.92941177],\n",
       "         [0.2509804 , 0.7411765 , 0.9882353 ],\n",
       "         [0.27058825, 0.7529412 , 0.9607843 ],\n",
       "         ...,\n",
       "         [0.7372549 , 0.7647059 , 0.80784315],\n",
       "         [0.46666667, 0.5294118 , 0.5764706 ],\n",
       "         [0.23921569, 0.30980393, 0.3529412 ]],\n",
       "\n",
       "        ...,\n",
       "\n",
       "        [[0.28627452, 0.30980393, 0.3019608 ],\n",
       "         [0.20784314, 0.24705882, 0.26666668],\n",
       "         [0.21176471, 0.26666668, 0.3137255 ],\n",
       "         ...,\n",
       "         [0.06666667, 0.15686275, 0.2509804 ],\n",
       "         [0.08235294, 0.14117648, 0.2       ],\n",
       "         [0.12941177, 0.1882353 , 0.19215687]],\n",
       "\n",
       "        [[0.23921569, 0.26666668, 0.29411766],\n",
       "         [0.21568628, 0.27450982, 0.3372549 ],\n",
       "         [0.22352941, 0.30980393, 0.40392157],\n",
       "         ...,\n",
       "         [0.09411765, 0.1882353 , 0.28235295],\n",
       "         [0.06666667, 0.13725491, 0.20784314],\n",
       "         [0.02745098, 0.09019608, 0.1254902 ]],\n",
       "\n",
       "        [[0.17254902, 0.21960784, 0.28627452],\n",
       "         [0.18039216, 0.25882354, 0.34509805],\n",
       "         [0.19215687, 0.3019608 , 0.4117647 ],\n",
       "         ...,\n",
       "         [0.10588235, 0.20392157, 0.3019608 ],\n",
       "         [0.08235294, 0.16862746, 0.25882354],\n",
       "         [0.04705882, 0.12156863, 0.19607843]]],\n",
       "\n",
       "\n",
       "       [[[0.7411765 , 0.827451  , 0.9411765 ],\n",
       "         [0.7294118 , 0.8156863 , 0.9254902 ],\n",
       "         [0.7254902 , 0.8117647 , 0.92156863],\n",
       "         ...,\n",
       "         [0.6862745 , 0.7647059 , 0.8784314 ],\n",
       "         [0.6745098 , 0.7607843 , 0.87058824],\n",
       "         [0.6627451 , 0.7607843 , 0.8627451 ]],\n",
       "\n",
       "        [[0.7607843 , 0.8235294 , 0.9372549 ],\n",
       "         [0.7490196 , 0.8117647 , 0.9254902 ],\n",
       "         [0.74509805, 0.80784315, 0.92156863],\n",
       "         ...,\n",
       "         [0.6784314 , 0.7529412 , 0.8627451 ],\n",
       "         [0.67058825, 0.7490196 , 0.85490197],\n",
       "         [0.654902  , 0.74509805, 0.84705883]],\n",
       "\n",
       "        [[0.8156863 , 0.85882354, 0.95686275],\n",
       "         [0.8039216 , 0.84705883, 0.9411765 ],\n",
       "         [0.8       , 0.84313726, 0.9372549 ],\n",
       "         ...,\n",
       "         [0.6862745 , 0.7490196 , 0.8509804 ],\n",
       "         [0.6745098 , 0.74509805, 0.84705883],\n",
       "         [0.6627451 , 0.7490196 , 0.84313726]],\n",
       "\n",
       "        ...,\n",
       "\n",
       "        [[0.8117647 , 0.78039217, 0.70980394],\n",
       "         [0.79607844, 0.7647059 , 0.6862745 ],\n",
       "         [0.79607844, 0.76862746, 0.6784314 ],\n",
       "         ...,\n",
       "         [0.5294118 , 0.5176471 , 0.49803922],\n",
       "         [0.63529414, 0.61960787, 0.5882353 ],\n",
       "         [0.65882355, 0.6392157 , 0.5921569 ]],\n",
       "\n",
       "        [[0.7764706 , 0.74509805, 0.6666667 ],\n",
       "         [0.7411765 , 0.70980394, 0.62352943],\n",
       "         [0.7058824 , 0.6745098 , 0.5764706 ],\n",
       "         ...,\n",
       "         [0.69803923, 0.67058825, 0.627451  ],\n",
       "         [0.6862745 , 0.6627451 , 0.6117647 ],\n",
       "         [0.6862745 , 0.6627451 , 0.6039216 ]],\n",
       "\n",
       "        [[0.7764706 , 0.7411765 , 0.6784314 ],\n",
       "         [0.7411765 , 0.70980394, 0.63529414],\n",
       "         [0.69803923, 0.6666667 , 0.58431375],\n",
       "         ...,\n",
       "         [0.7647059 , 0.72156864, 0.6627451 ],\n",
       "         [0.76862746, 0.7411765 , 0.67058825],\n",
       "         [0.7647059 , 0.74509805, 0.67058825]]],\n",
       "\n",
       "\n",
       "       [[[0.8980392 , 0.8980392 , 0.9372549 ],\n",
       "         [0.9254902 , 0.92941177, 0.96862745],\n",
       "         [0.91764706, 0.9254902 , 0.96862745],\n",
       "         ...,\n",
       "         [0.8509804 , 0.85882354, 0.9137255 ],\n",
       "         [0.8666667 , 0.8745098 , 0.91764706],\n",
       "         [0.87058824, 0.8745098 , 0.9137255 ]],\n",
       "\n",
       "        [[0.87058824, 0.8666667 , 0.8980392 ],\n",
       "         [0.9372549 , 0.9372549 , 0.9764706 ],\n",
       "         [0.9137255 , 0.91764706, 0.9647059 ],\n",
       "         ...,\n",
       "         [0.8745098 , 0.8745098 , 0.9254902 ],\n",
       "         [0.8901961 , 0.89411765, 0.93333334],\n",
       "         [0.8235294 , 0.827451  , 0.8627451 ]],\n",
       "\n",
       "        [[0.8352941 , 0.80784315, 0.827451  ],\n",
       "         [0.91764706, 0.9098039 , 0.9372549 ],\n",
       "         [0.90588236, 0.9137255 , 0.95686275],\n",
       "         ...,\n",
       "         [0.8627451 , 0.8627451 , 0.9098039 ],\n",
       "         [0.8627451 , 0.85882354, 0.9098039 ],\n",
       "         [0.7921569 , 0.79607844, 0.84313726]],\n",
       "\n",
       "        ...,\n",
       "\n",
       "        [[0.5882353 , 0.56078434, 0.5294118 ],\n",
       "         [0.54901963, 0.5294118 , 0.49803922],\n",
       "         [0.5176471 , 0.49803922, 0.47058824],\n",
       "         ...,\n",
       "         [0.8784314 , 0.87058824, 0.85490197],\n",
       "         [0.9019608 , 0.89411765, 0.88235295],\n",
       "         [0.94509804, 0.94509804, 0.93333334]],\n",
       "\n",
       "        [[0.5372549 , 0.5176471 , 0.49411765],\n",
       "         [0.50980395, 0.49803922, 0.47058824],\n",
       "         [0.49019608, 0.4745098 , 0.4509804 ],\n",
       "         ...,\n",
       "         [0.70980394, 0.7058824 , 0.69803923],\n",
       "         [0.7921569 , 0.7882353 , 0.7764706 ],\n",
       "         [0.83137256, 0.827451  , 0.8117647 ]],\n",
       "\n",
       "        [[0.47843137, 0.46666667, 0.44705883],\n",
       "         [0.4627451 , 0.45490196, 0.43137255],\n",
       "         [0.47058824, 0.45490196, 0.43529412],\n",
       "         ...,\n",
       "         [0.7019608 , 0.69411767, 0.6784314 ],\n",
       "         [0.6431373 , 0.6431373 , 0.63529414],\n",
       "         [0.6392157 , 0.6392157 , 0.6313726 ]]]], dtype=float32)"
      ]
     },
     "execution_count": 11,
     "metadata": {},
     "output_type": "execute_result"
    }
   ],
   "source": [
    "x_train"
   ]
  },
  {
   "cell_type": "code",
   "execution_count": 12,
   "metadata": {
    "ExecuteTime": {
     "end_time": "2019-10-17T18:29:39.635086Z",
     "start_time": "2019-10-17T18:29:39.630573Z"
    }
   },
   "outputs": [],
   "source": [
    "# TODO: figure out number of classes (preferably from the data)\n",
    "n_classes = len(unpickle('cifar-10-batches-py/batches.meta').get(bytes('label_names', 'ascii')))"
   ]
  },
  {
   "cell_type": "code",
   "execution_count": 13,
   "metadata": {
    "ExecuteTime": {
     "end_time": "2019-10-17T18:29:42.587252Z",
     "start_time": "2019-10-17T18:29:41.218016Z"
    }
   },
   "outputs": [
    {
     "name": "stderr",
     "output_type": "stream",
     "text": [
      "Using TensorFlow backend.\n"
     ]
    },
    {
     "data": {
      "text/plain": [
       "(50000, 10)"
      ]
     },
     "execution_count": 13,
     "metadata": {},
     "output_type": "execute_result"
    }
   ],
   "source": [
    "from keras.utils import to_categorical\n",
    "\n",
    "y_train = to_categorical(y_train, n_classes)\n",
    "y_test = to_categorical(y_test, n_classes)\n",
    "\n",
    "y_train.shape"
   ]
  },
  {
   "cell_type": "markdown",
   "metadata": {
    "ExecuteTime": {
     "end_time": "2019-10-17T18:14:04.489770Z",
     "start_time": "2019-10-17T18:14:04.486643Z"
    }
   },
   "source": [
    "# The Multi Layer Perceptron\n",
    "\n",
    "## 1. Define the model"
   ]
  },
  {
   "cell_type": "code",
   "execution_count": 14,
   "metadata": {
    "ExecuteTime": {
     "end_time": "2019-10-17T18:49:12.710623Z",
     "start_time": "2019-10-17T18:49:12.648370Z"
    }
   },
   "outputs": [
    {
     "name": "stdout",
     "output_type": "stream",
     "text": [
      "WARNING:tensorflow:From /usr/local/lib/python3.6/site-packages/tensorflow/python/ops/resource_variable_ops.py:435: colocate_with (from tensorflow.python.framework.ops) is deprecated and will be removed in a future version.\n",
      "Instructions for updating:\n",
      "Colocations handled automatically by placer.\n",
      "Model: \"sequential_1\"\n",
      "_________________________________________________________________\n",
      "Layer (type)                 Output Shape              Param #   \n",
      "=================================================================\n",
      "flatten_1 (Flatten)          (None, 3072)              0         \n",
      "_________________________________________________________________\n",
      "dense_1 (Dense)              (None, 1024)              3146752   \n",
      "_________________________________________________________________\n",
      "dense_2 (Dense)              (None, 512)               524800    \n",
      "_________________________________________________________________\n",
      "dense_3 (Dense)              (None, 256)               131328    \n",
      "_________________________________________________________________\n",
      "dense_4 (Dense)              (None, 10)                2570      \n",
      "=================================================================\n",
      "Total params: 3,805,450\n",
      "Trainable params: 3,805,450\n",
      "Non-trainable params: 0\n",
      "_________________________________________________________________\n"
     ]
    }
   ],
   "source": [
    "# TODO: define the mlp model\n",
    "from keras.layers import Flatten, Dense, Activation, Dropout\n",
    "from keras.models import Sequential\n",
    "\n",
    "mlp = Sequential([\n",
    "    Flatten(input_shape=(32, 32, 3)),\n",
    "    Dense(1024, activation='relu'),\n",
    "    #Dropout(0.2),\n",
    "    Dense(512, activation='relu'),\n",
    "    #Dropout(0.2),\n",
    "    Dense(256, activation='relu'),\n",
    "    #Dropout(0.2),\n",
    "    Dense(n_classes, activation='softmax')\n",
    "])\n",
    "\n",
    "\n",
    "mlp.summary()"
   ]
  },
  {
   "cell_type": "markdown",
   "metadata": {
    "ExecuteTime": {
     "end_time": "2019-10-17T18:14:15.075879Z",
     "start_time": "2019-10-17T18:14:15.070105Z"
    }
   },
   "source": [
    "## 2. Compile the model"
   ]
  },
  {
   "cell_type": "code",
   "execution_count": 15,
   "metadata": {
    "ExecuteTime": {
     "end_time": "2019-10-17T18:46:29.270731Z",
     "start_time": "2019-10-17T18:46:29.224105Z"
    }
   },
   "outputs": [],
   "source": [
    "# TODO: fill in learning rate, change optimize, etc\n",
    "from keras.optimizers import Adam, RMSprop\n",
    "\n",
    "mlp.compile(loss='categorical_crossentropy',\n",
    "            optimizer=Adam(learning_rate=0.0001),\n",
    "            metrics=['accuracy'])"
   ]
  },
  {
   "cell_type": "markdown",
   "metadata": {},
   "source": [
    "## 3. Train (fit) the model"
   ]
  },
  {
   "cell_type": "code",
   "execution_count": 16,
   "metadata": {
    "ExecuteTime": {
     "end_time": "2019-10-17T18:45:04.470248Z",
     "start_time": "2019-10-17T18:43:03.839652Z"
    }
   },
   "outputs": [
    {
     "name": "stdout",
     "output_type": "stream",
     "text": [
      "WARNING:tensorflow:From /usr/local/lib/python3.6/site-packages/tensorflow/python/ops/math_ops.py:3066: to_int32 (from tensorflow.python.ops.math_ops) is deprecated and will be removed in a future version.\n",
      "Instructions for updating:\n",
      "Use tf.cast instead.\n",
      "Train on 50000 samples, validate on 10000 samples\n",
      "Epoch 1/10\n",
      "50000/50000 [==============================] - 41s 827us/step - loss: 1.8095 - accuracy: 0.3515 - val_loss: 1.6716 - val_accuracy: 0.4093\n",
      "Epoch 2/10\n",
      "50000/50000 [==============================] - 42s 850us/step - loss: 1.6168 - accuracy: 0.4256 - val_loss: 1.5724 - val_accuracy: 0.4379\n",
      "Epoch 3/10\n",
      "50000/50000 [==============================] - 44s 882us/step - loss: 1.5312 - accuracy: 0.4577 - val_loss: 1.5016 - val_accuracy: 0.4691\n",
      "Epoch 4/10\n",
      "50000/50000 [==============================] - 43s 859us/step - loss: 1.4698 - accuracy: 0.4783 - val_loss: 1.4447 - val_accuracy: 0.4825\n",
      "Epoch 5/10\n",
      "50000/50000 [==============================] - 40s 801us/step - loss: 1.4158 - accuracy: 0.4993 - val_loss: 1.4747 - val_accuracy: 0.4718\n",
      "Epoch 6/10\n",
      "50000/50000 [==============================] - 45s 894us/step - loss: 1.3713 - accuracy: 0.5158 - val_loss: 1.4593 - val_accuracy: 0.4821\n",
      "Epoch 7/10\n",
      "50000/50000 [==============================] - 49s 972us/step - loss: 1.3308 - accuracy: 0.5290 - val_loss: 1.4279 - val_accuracy: 0.4930\n",
      "Epoch 8/10\n",
      "50000/50000 [==============================] - 52s 1ms/step - loss: 1.2938 - accuracy: 0.5434 - val_loss: 1.3829 - val_accuracy: 0.5055\n",
      "Epoch 9/10\n",
      "50000/50000 [==============================] - 63s 1ms/step - loss: 1.2552 - accuracy: 0.5560 - val_loss: 1.4151 - val_accuracy: 0.4990\n",
      "Epoch 10/10\n",
      "50000/50000 [==============================] - 40s 802us/step - loss: 1.2241 - accuracy: 0.5677 - val_loss: 1.3483 - val_accuracy: 0.5252\n"
     ]
    },
    {
     "data": {
      "text/plain": [
       "<keras.callbacks.callbacks.History at 0x7f138bc38390>"
      ]
     },
     "execution_count": 16,
     "metadata": {},
     "output_type": "execute_result"
    }
   ],
   "source": [
    "# TODO: decide training parameters, insert a learning rate schedule - GO WILD!\n",
    "batch_size = 64\n",
    "epochs = 10\n",
    "\n",
    "mlp.fit(x_train, y_train, batch_size=batch_size, epochs=epochs,\n",
    "        validation_data=(x_test, y_test), shuffle=True)"
   ]
  },
  {
   "cell_type": "markdown",
   "metadata": {},
   "source": [
    "## 4. Evaluate the model\n",
    "\n",
    "Compute this metric:\n",
    "\n",
    "$$\\text{accuracy} = \\frac{N_{\\text{correct}}}{N_{\\text{total}}}$$\n",
    "\n",
    "Extra credit (for life, not this course): See [Wikipedia: Confusion Matrix](https://en.wikipedia.org/wiki/Confusion_matrix) for why accuracy is not always a good choice when evaluating models and what metric(s) to use instead."
   ]
  },
  {
   "cell_type": "code",
   "execution_count": 17,
   "metadata": {
    "ExecuteTime": {
     "end_time": "2019-10-17T18:37:37.484084Z",
     "start_time": "2019-10-17T18:37:37.479527Z"
    }
   },
   "outputs": [],
   "source": [
    "# TODO: compute accuracy\n",
    "def get_accuracy(predictions, ground_truth):\n",
    "    return sum([(np.argmax(pred)==np.argmax(truth)) for pred, truth in zip(predictions, ground_truth)]) / len(predictions)"
   ]
  },
  {
   "cell_type": "code",
   "execution_count": 18,
   "metadata": {
    "ExecuteTime": {
     "end_time": "2019-10-17T18:41:59.420075Z",
     "start_time": "2019-10-17T18:41:58.730117Z"
    }
   },
   "outputs": [
    {
     "name": "stdout",
     "output_type": "stream",
     "text": [
      "MLP Accuracy: 0.5252000093460083\n",
      "My MLP Accuracy: 0.5252\n"
     ]
    }
   ],
   "source": [
    "mlp_scores = mlp.evaluate(x_test, y_test, verbose=0)\n",
    "predictions = mlp.predict(x_test)\n",
    "\n",
    "print(\"MLP Accuracy:\", mlp_scores[1])\n",
    "print(\"My MLP Accuracy:\", get_accuracy(predictions, y_test))\n",
    "assert np.isclose(mlp_scores[1], get_accuracy(predictions, y_test))"
   ]
  },
  {
   "cell_type": "markdown",
   "metadata": {},
   "source": [
    "# The Convolutional Neural Network"
   ]
  },
  {
   "cell_type": "code",
   "execution_count": null,
   "metadata": {
    "ExecuteTime": {
     "end_time": "2019-10-17T18:50:41.557938Z",
     "start_time": "2019-10-17T18:50:41.480576Z"
    }
   },
   "outputs": [],
   "source": [
    "# TODO: define the cnn model\n",
    "from keras.layers import MaxPooling2D, Flatten, Dense, Conv2D, Activation\n",
    "from keras.models import Sequential\n",
    "\n",
    "cnn = Sequential([\n",
    "    Conv2D(32, (3, 3), padding='same', input_shape=(32, 32, 3), activation='relu'),\n",
    "    Conv2D(32, (3, 3), padding='same', activation='relu'),\n",
    "    MaxPooling2D(pool_size=(4, 4), strides=(2, 2)),\n",
    "    Conv2D(64, (3, 3), padding='same', activation='relu'),\n",
    "    Conv2D(64, (3, 3), padding='same', activation='relu'),\n",
    "    MaxPooling2D(pool_size=(3, 3), strides=(2, 2)),\n",
    "    Flatten(),\n",
    "    Dense(100, activation='relu'),\n",
    "    Dense(n_classes, activation='softmax')\n",
    "])\n",
    "\n",
    "cnn.summary()"
   ]
  },
  {
   "cell_type": "markdown",
   "metadata": {
    "ExecuteTime": {
     "end_time": "2019-10-17T18:53:18.117287Z",
     "start_time": "2019-10-17T18:52:00.278Z"
    }
   },
   "source": [
    "## 2. Compile the model"
   ]
  },
  {
   "cell_type": "code",
   "execution_count": null,
   "metadata": {
    "ExecuteTime": {
     "end_time": "2019-10-17T18:50:53.147288Z",
     "start_time": "2019-10-17T18:50:53.111279Z"
    }
   },
   "outputs": [],
   "source": [
    "# TODO: fill in learning rate, change optimize, etc\n",
    "from keras.optimizers import RMSprop\n",
    "\n",
    "cnn.compile(loss='categorical_crossentropy',\n",
    "            optimizer=RMSprop(learning_rate=0.001),\n",
    "            metrics=['accuracy'])"
   ]
  },
  {
   "cell_type": "markdown",
   "metadata": {},
   "source": [
    "## 3. Train the model\n",
    "\n",
    "Optional, but recommended: Add a [Tensorboard callback](https://keras.io/callbacks/#tensorboard) to `cnn.fit()` to monitor the training."
   ]
  },
  {
   "cell_type": "code",
   "execution_count": null,
   "metadata": {
    "ExecuteTime": {
     "end_time": "2019-10-17T18:53:18.108561Z",
     "start_time": "2019-10-17T18:50:53.567954Z"
    }
   },
   "outputs": [],
   "source": [
    "# TODO: decide training parameters, insert a learning rate schedule - GO WILD!\n",
    "batch_size = 100\n",
    "epochs = 4\n",
    "\n",
    "cnn.fit(x_train, y_train, batch_size=batch_size, epochs=epochs,\n",
    "        validation_data=(x_test, y_test), shuffle=True)"
   ]
  },
  {
   "cell_type": "markdown",
   "metadata": {
    "ExecuteTime": {
     "end_time": "2019-10-17T18:53:18.123346Z",
     "start_time": "2019-10-17T18:52:24.364Z"
    }
   },
   "source": [
    "## 4. Evaluate the model"
   ]
  },
  {
   "cell_type": "code",
   "execution_count": null,
   "metadata": {
    "ExecuteTime": {
     "end_time": "2019-10-17T18:53:43.340229Z",
     "start_time": "2019-10-17T18:53:40.017736Z"
    }
   },
   "outputs": [],
   "source": [
    "cnn_scores = cnn.evaluate(x_test, y_test, verbose=0)\n",
    "predictions = cnn.predict(x_test)\n",
    "\n",
    "print(\"CNN Accuracy:\", cnn_scores[1])\n",
    "print(\"My CNN Accuracy:\", get_accuracy(predictions, y_test))\n",
    "assert np.isclose(cnn_scores[1], get_accuracy(predictions, y_test))"
   ]
  },
  {
   "cell_type": "code",
   "execution_count": null,
   "metadata": {},
   "outputs": [],
   "source": []
  }
 ],
 "metadata": {
  "hide_input": false,
  "kernelspec": {
   "display_name": "Python 3",
   "language": "python",
   "name": "python3"
  },
  "language_info": {
   "codemirror_mode": {
    "name": "ipython",
    "version": 3
   },
   "file_extension": ".py",
   "mimetype": "text/x-python",
   "name": "python",
   "nbconvert_exporter": "python",
   "pygments_lexer": "ipython3",
   "version": "3.6.8"
  },
  "latex_envs": {
   "LaTeX_envs_menu_present": true,
   "autoclose": false,
   "autocomplete": true,
   "bibliofile": "biblio.bib",
   "cite_by": "apalike",
   "current_citInitial": 1,
   "eqLabelWithNumbers": true,
   "eqNumInitial": 1,
   "hotkeys": {
    "equation": "Ctrl-E",
    "itemize": "Ctrl-I"
   },
   "labels_anchors": false,
   "latex_user_defs": false,
   "report_style_numbering": false,
   "user_envs_cfg": false
  },
  "varInspector": {
   "cols": {
    "lenName": 16,
    "lenType": 16,
    "lenVar": 40
   },
   "kernels_config": {
    "python": {
     "delete_cmd_postfix": "",
     "delete_cmd_prefix": "del ",
     "library": "var_list.py",
     "varRefreshCmd": "print(var_dic_list())"
    },
    "r": {
     "delete_cmd_postfix": ") ",
     "delete_cmd_prefix": "rm(",
     "library": "var_list.r",
     "varRefreshCmd": "cat(var_dic_list()) "
    }
   },
   "types_to_exclude": [
    "module",
    "function",
    "builtin_function_or_method",
    "instance",
    "_Feature"
   ],
   "window_display": false
  }
 },
 "nbformat": 4,
 "nbformat_minor": 1
}
